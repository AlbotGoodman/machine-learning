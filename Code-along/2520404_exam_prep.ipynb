{
 "cells": [
  {
   "cell_type": "markdown",
   "metadata": {},
   "source": [
    "# Genomgång av övningstentan\n",
    "Kommer vara svårare beräkningar eftersom vi får ha formelblad. "
   ]
  },
  {
   "cell_type": "markdown",
   "metadata": {},
   "source": [
    "## Fråga 1\n",
    "Kan också hända att vi får en classification report och måste säga något om systemet i stället. \n",
    "\n",
    "### a\n",
    "Klassificering 2 har högst precision (100 %) då 980 / (980 + 0) = 1. \n",
    "\n",
    "### b\n",
    "Klassificering 1 har högst recall (100 %) då 1030 / (1030 + 0) = 1. \n",
    "\n",
    "### c  \n",
    "Recall ska vara högst då vi inte vill att människor ska komma till skada. Det är därför viktigare att självförstörelsemelanismen utlöses. Klassificering 1 är därför mest lämpad för en raketuppskjutning.   \n",
    "\n",
    "Räkna och motivera. "
   ]
  },
  {
   "cell_type": "markdown",
   "metadata": {},
   "source": [
    "## Fråga 2\n",
    "Denna typ av fråga kommer inte på tentan för den har vi redan haft i en annan kurs. Därför kommer den ersättas med något annat. \n",
    "\n",
    "### a\n",
    "Svar: 12  \n",
    "$X_1 = 1$  \n",
    "$X_2 = 2$  \n",
    "\n",
    "### b\n",
    "Svar: Nej, den innehåller en interaktionsterm och måste vara i tre dimensioner för att vara linjär. Eller gå hela vägen med linjaritetsbeviset.  \n",
    "µ är som bekant medlet. \"givet våra x\". "
   ]
  },
  {
   "cell_type": "markdown",
   "metadata": {},
   "source": [
    "## Fråga 3\n",
    "\n",
    "### a\n",
    "Ja, datamängden är linjärt separerbar. Vi har tre dimensioner i figuren: två axlar är två dimensioner men vi kan se cirklarna och kryssen som ytterligare en dimension.  \n",
    "\n",
    "### b\n",
    "De två första principalkomponenterna finns längs de diagonala riktningarna på grund av att det är där klasserna är som bredast.  "
   ]
  },
  {
   "cell_type": "markdown",
   "metadata": {},
   "source": [
    "## Fråga 4\n",
    "Lasso Regression använder l1-norm och sätter vissa koefficiernter till noll medan Ridge Regression sprider ut variansen över koefficienterna i systemet. "
   ]
  },
  {
   "cell_type": "markdown",
   "metadata": {},
   "source": [
    "## Fråga 5 \n",
    "Det här är en typisk fråga för kommande tenta. Det som kan dyka upp på en sådan här fråga är Lasso, Ridge, Elastic net. \n",
    "\n",
    "**Första förbättringen:**  \n",
    "$ C(B) = \\sum^n_{i=1} (y_i - ŷ)^2 + \\sum^p_{j=1} \\beta_i^2 $  \n",
    "Byt till MSE för bättre statistik för okänd data. För full poäng på tentan skriv även upp formeln för MSE. \n",
    "\n",
    "**Andra förbättringen:**  \n",
    "Då utvecklaren i frågan använder Ridge Regression enligt angiven formel kan hända att regulariseringen lägger för stor vikt vid vissa parametrar. Om utvecklaren byter regulariseringsteknik till Lasso Regression (det vill säga L1-norm) kan vissa parametrar sättas till noll.    \n",
    "$ \\lambda\\sum^p_{j=1} |\\beta_j| $  \n",
    "\n",
    "**Tredje förbättringen:**  \n",
    "Lägg till en lambda-faktor och hyperparameteroptimera. "
   ]
  },
  {
   "cell_type": "markdown",
   "metadata": {},
   "source": [
    "## Fråga 6\n",
    "\n",
    "En train/test split är inte relevant vid: \n",
    "- oövervakad inlärning\n",
    "- rena statistiska undersökningar över dåtiden. \n",
    "\n",
    "Train/test split används för att fånga beteenden för att kunna förutse okänd data. "
   ]
  },
  {
   "cell_type": "markdown",
   "metadata": {},
   "source": [
    "## Fråga 7\n",
    "\n",
    "Förslag: använd i stället tekniken random forest som stycker upp belsuten i småträd, då kan parallellism utnyttjas.  \n",
    "\n",
    "Utveckla förslaget för full poäng. "
   ]
  },
  {
   "cell_type": "markdown",
   "metadata": {},
   "source": [
    "## Fråga 8\n",
    "\n",
    "Till att börja med pratar vi om två olika tekniker, Support Vector Machines med val av polynomkernel eller polynomiell regression (en variant av multipel linjär regression).  \n",
    "\n",
    "En polynomkernel är bättre av prestandaskäl. I stället för en polynomexpansion på designmatrisen - som är dyrt - så gör vi en med en polynomkernel en polynomexpansion under beräkning under kostnadsfunktionen och använder statistisk teknik för att bara välja ut vissa ... (faktorer?). Däremot kan det vara så att en polynomkernel kan vara svårare att förstå och polynomexpansion kan vara bättre i vissa utvecklingssteg för att veta vilka features som gör vad. Det är även lättare att samla statistik på en polynomexpansion än en polynomkernel.  \n",
    "\n",
    "Om det finns tillräckligt med datorkapacitet kanske båda kan göras. Då polynomexpansion är en linjär metod så kan vi använda statistik för expansionen. För polynomkernel finns det statistik men det är svårare. Signifikans är kanske inte så rimligt pga kolinjaritet men MSE kan ändå användas på effektivt sett.  \n",
    "\n",
    "1 poäng för att nämna att kernel är SVM  \n",
    "1 poäng vilket alternativ som är mer effektivt   \n",
    "1 poäng för vidare utveckling av svaret.  "
   ]
  },
  {
   "cell_type": "markdown",
   "metadata": {},
   "source": []
  }
 ],
 "metadata": {
  "language_info": {
   "name": "python"
  }
 },
 "nbformat": 4,
 "nbformat_minor": 2
}
