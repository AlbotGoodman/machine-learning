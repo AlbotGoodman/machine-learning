{
 "cells": [
  {
   "cell_type": "markdown",
   "metadata": {},
   "source": [
    "# Genomgång av övningstentan\n",
    "Kommer vara svårare beräkningar eftersom vi får ha formelblad. "
   ]
  },
  {
   "cell_type": "markdown",
   "metadata": {},
   "source": [
    "## Fråga 1\n",
    "Kan också hända att vi får en classification report och måste säga något om systemet i stället. \n",
    "\n",
    "### a\n",
    "asd\n",
    "\n",
    "### b\n",
    "asd\n",
    "\n",
    "### c  \n",
    "Recall ska vara mest högt. Räkna och motivera. "
   ]
  },
  {
   "cell_type": "markdown",
   "metadata": {},
   "source": [
    "## Fråga 2\n",
    "Denna fråga kommer nog inte för den har vi redan haft i statistiken.  \n",
    "Vi kommer ha en \n",
    "\n",
    "### a\n",
    "Svar: 12  \n",
    "$X_1 = 1$\n",
    "$X_2 = 2$\n",
    "\n",
    "### b\n",
    "Svar: Nej, den innehåller en interaktionsterm och måste vara i tre dimensioner för att vara linjär. Eller gå hela vägen med linjaritetsbeviset.  \n",
    "µ är som bekant medlet. \"givet våra x\". "
   ]
  },
  {
   "cell_type": "markdown",
   "metadata": {},
   "source": [
    "## Fråga 3\n",
    "\n",
    "### a\n",
    "Två axlar är två dimensioner men vi kan se cirklarna och kryssen som ytterligare en dimension. Svar: 3 dimensioner. Så ja.\n",
    "\n",
    "### b\n",
    "längs diagonalerna är de som längst. Går att rita en figur också. "
   ]
  },
  {
   "cell_type": "markdown",
   "metadata": {},
   "source": [
    "## Fråga 4\n",
    "Det vi är ute efter är att Lasso använder l1 och sätter vissa koefficiernter till noll och ridge sprider ut variansen äver koefficienterna i systemet. "
   ]
  },
  {
   "cell_type": "markdown",
   "metadata": {},
   "source": [
    "## Fråga 5 \n",
    "En typisk fråga.  \n",
    "Vad som kan dyka upp på en sådan här fråga är Lasso, Ridge, Elastic net. \n",
    "\n",
    "1.\n",
    "$ C(B) = \\sum^n_{i=1} (y_i - ŷ)^2 + \\sum^p_{j=1} \\beta_i^2 $  \n",
    "Förbättringar: byt till MSE för bättre statistik för okänd data. Skriv också upp MSE. \n",
    "\n",
    "**2.** \n",
    "Lägger den för stor vikt vid vissa parametrrar så byt till L1-norm.  \n",
    "$ \\lambda\\sum^p_{j=1} |\\_j| $  \n",
    "\n",
    "**3.**\n",
    "Sist förvbättringen: lägg till lamda faktor och HPO:a"
   ]
  },
  {
   "cell_type": "markdown",
   "metadata": {},
   "source": [
    "## Fråga 6\n",
    "\n",
    "Vid oövervakad inlärning och vid rena statistiska undersökningar över dåtiden. \n",
    "Fånga beteende för att kunna förutse okänd data, den ät anledningen till split"
   ]
  },
  {
   "cell_type": "markdown",
   "metadata": {},
   "source": [
    "## Fråga 7\n",
    "\n",
    "Här ska du svara en bättre algoritm och så lite förändring som möjligt.  \n",
    "\n",
    "Stycka upp i småträd, gör alltså om till random forest, den kan utnyttja parallellism. Då kan vi säkert dela upp i tio med tio löv.  \n",
    "\n"
   ]
  },
  {
   "cell_type": "markdown",
   "metadata": {},
   "source": [
    "## Fråga 8\n",
    "\n",
    "Polynomkernel bättrte för prestanda. I stället för expansion på deisng matris som är dyrt så gör vi en expansion under beräkning under kostnadsfunktion och använder statistisk teknik för att bara välja ut vissa ... (faktorer?). Däremot kan det vara så att en polynomkernel kan vara svårare att förstå därav andra alternativet kan vara bättre i vissa utvecklingssteg för att veta vilka features som gör vad. Lättare att samla statistik på en expansion än på kernel. Finns tillräckligt med datorkapacitet kanske båda kan göras. Det är ju en linjär metod så vi kan använda statistik för expansionen men för kernel så finns statistik absolut men svårare. Signifikans är kanske inte så rimligt pga kolinjaritet men MSE kan ändå användas på effektivt sett.  \n",
    "\n",
    "1 poäng för att nämna att kernel är SVM\n",
    "1 poäng vilket alternativ som är mer effektivt \n",
    "1 poäng till lite löst"
   ]
  }
 ],
 "metadata": {
  "language_info": {
   "name": "python"
  }
 },
 "nbformat": 4,
 "nbformat_minor": 2
}
