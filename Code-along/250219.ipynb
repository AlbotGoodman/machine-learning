{
 "cells": [
  {
   "cell_type": "markdown",
   "metadata": {},
   "source": [
    "# Maskininlärning  \n",
    "\n",
    "## Data Engineering  \n",
    "\n",
    "Amazon som började med detta. Måste samla in data, preppa datan osv men en DE gör många masininlärningsgrejer och kör alla steg ofta för att det ska vara tillgängligt och funktionellt för en data scientist senare.  \n",
    "\n",
    "”Skriv inte i punkter för det gör en AI, då kan vi bli ersatta – gör i stället saker som en AI inte kan, bryt mönster.”  \n",
    "- pr0fez\n",
    "\n",
    "En DE ställer sig en del frågor: vilken data är tillgänglig, hur hämtar vi den, göra den tillgänglig, backups etc. En av de största frågorna är om det ens är lagligt. Mycket data är personuppgifter i dag vilket vi verkligen måste ta i beaktning. Då måste en DE göra massa saker för att kunna samla data. Vanligtvis så gör vi som så att vi anonymiserar data (med en kryptografisk algoritm) eller i användaravtalet säga att användaren ger tillåtelse att lämna över personuppgifter. Rent generellt får du hantera information men inte spara den enligt personuppgiftslagen. Det är brottsligt och företag kan gå under, näringsförbud etc. I Sverige kan du däremot inte avsäga dig dina rättigheter vilket är en väldigt viktig bit i svensk lagstiftning. Vi kommer återvända ofta till detta.  \n",
    "\n",
    "Feature engineering (nästa steg efter DE) så att vi kan manipulera, räkna om data mm så att vi kan hitta mönster i data. Vi  kan inte bara räkna med att en algoritm ska kunna hitta mönster i data bara sådär. T ex labben vi gjorde, du kommer inte över 60 % i R² med bara rådata medan processad kod så kom vi upp i 99,7 %. Våra distributioner måste återspegla våra antaganden. Vi kommer återkomma till detta.  \n",
    "\n",
    "Model fitting är nästa steg där vi gör någon sorts träningssteg. Det är vad denna kursen i mångt och mycket kommer att handla om. Evaluate och sedan deployment. Dessa steg (från början) kommer vi att återupprepa mycket.  \n",
    "\n",
    "Vi kallar detta offline training, det innebär att vi kommer träna och sen köra. Då händer inget mer med modellen. Det kommer vara fokus på denna kursen tillsammans med supervised learning.  \n",
    "\n",
    "## Statistik  \n",
    "\n",
    "$ SSE = \\sum^n_{i=1} (y_i - \\hat{y})^2 $  \n",
    "\n",
    "Vi tränar ofta på ett stort stickprov och gör förutsägelser på ett väldigt litet stickprov. Ju större stickprovet är desto större blir vår SSE, den bara ökar. Hur mäter vi då? Därför ska vi byta till MSE.  \n",
    "\n",
    "$ MSE = \\frac{1}{n} \\sum^n_{i=1} (y_i - \\hat{y})^2 $  \n",
    "\n",
    "Oavsett om vi har n eller n-1 så kommer denna inte vara rättvis men det är tillräckligt för oss. Vi vill kunna ge upp antagandet om att det kommer från samma population. MSE (standardavvikelsen i variansen) är därför ett bättre värde, inte rent matematiskt men vi måste använda det för att kunna jämföra värdena. När n går mot oändligheten så går MSE mot noll. Men det är bara sant omm SSE is begränsad (”bounded”). Om felet bara fortsätter växa (tänk en kvadratisk kurva där vi dragit en linje). Vi kan alltså inte uppskatta x² linjärt, oavsett hur mycket data vi har.   \n",
    "\n",
    "$ RMSE = \\sqrt{MSE} $  \n",
    "\n",
    "Standardavvikelsen i medlet. Då kan vi säga: vi förväntar oss att det kommer vara inom fem grader osv. Vi har ingen ”unbiased” uppfattning av SE(µ)  så vad vi tar är RMSE på valideringsset. Korsvalidering kommer vi ta medlet av alla RMSE.    \n",
    "\n",
    "$  $  \n",
    "\n",
    "RSE är standardavvikelsen i standardfelet. Lack of fit, ju högre denna är desto tydligare är det att modlellen inte har en bra förklaringsgrad. Tänk att feltermen påpekar att vi har för få parametrar i vår modell, t ex. Då kan vi till exempel kolla på interaktionerseffekter och feature engineering för att få till en bättre modell. RSE är rättvis om Y~Z. Tyvärr hjälper detta oss inte eftersom den är ”lack of fit” om vi inte har ett väldigt stort set. Transfer learning (att använda modellen på annan population) går däremot inte.  \n",
    "\n",
    "Kolinjaritet är enbart matematiskt relevant för signifikanstester. Enligt webben så finns det många idéer om denna och det är inte matematiskt välgrundat. Det enda detta konceptet gör är att säga att vi inte längre kan lita på signifikanstesterna. Hierarkiprincipen. När vi gör en interaktionseffekt så gör vi en kolinjaritet. Så står det även på Wikipedia. ”Om du har kolinljaritet så kan du inte lita på signifikanstesterna” då den inte längre har en t distribution.  "
   ]
  },
  {
   "cell_type": "markdown",
   "metadata": {},
   "source": [
    "# Lecture_code / L0-Linear_regression  "
   ]
  },
  {
   "cell_type": "code",
   "execution_count": 1,
   "metadata": {},
   "outputs": [
    {
     "data": {
      "application/vnd.microsoft.datawrangler.viewer.v0+json": {
       "columns": [
        {
         "name": "index",
         "rawType": "object",
         "type": "string"
        },
        {
         "name": "TV",
         "rawType": "float64",
         "type": "float"
        },
        {
         "name": "Radio",
         "rawType": "float64",
         "type": "float"
        },
        {
         "name": "Newspaper",
         "rawType": "float64",
         "type": "float"
        },
        {
         "name": "Sales",
         "rawType": "float64",
         "type": "float"
        }
       ],
       "conversionMethod": "pd.DataFrame",
       "ref": "5a996a97-4fad-47aa-bb4c-54ac9743ad55",
       "rows": [
        [
         "count",
         "200.0",
         "200.0",
         "200.0",
         "200.0"
        ],
        [
         "mean",
         "147.0425",
         "23.264000000000006",
         "30.553999999999995",
         "14.0225"
        ],
        [
         "std",
         "85.85423631490808",
         "14.846809176168724",
         "21.778620838522826",
         "5.217456565710478"
        ],
        [
         "min",
         "0.7",
         "0.0",
         "0.3",
         "1.6"
        ],
        [
         "25%",
         "74.375",
         "9.975",
         "12.75",
         "10.375"
        ],
        [
         "50%",
         "149.75",
         "22.9",
         "25.75",
         "12.9"
        ],
        [
         "75%",
         "218.825",
         "36.525",
         "45.1",
         "17.4"
        ],
        [
         "max",
         "296.4",
         "49.6",
         "114.0",
         "27.0"
        ]
       ],
       "shape": {
        "columns": 4,
        "rows": 8
       }
      },
      "text/html": [
       "<div>\n",
       "<style scoped>\n",
       "    .dataframe tbody tr th:only-of-type {\n",
       "        vertical-align: middle;\n",
       "    }\n",
       "\n",
       "    .dataframe tbody tr th {\n",
       "        vertical-align: top;\n",
       "    }\n",
       "\n",
       "    .dataframe thead th {\n",
       "        text-align: right;\n",
       "    }\n",
       "</style>\n",
       "<table border=\"1\" class=\"dataframe\">\n",
       "  <thead>\n",
       "    <tr style=\"text-align: right;\">\n",
       "      <th></th>\n",
       "      <th>TV</th>\n",
       "      <th>Radio</th>\n",
       "      <th>Newspaper</th>\n",
       "      <th>Sales</th>\n",
       "    </tr>\n",
       "  </thead>\n",
       "  <tbody>\n",
       "    <tr>\n",
       "      <th>count</th>\n",
       "      <td>200.000000</td>\n",
       "      <td>200.000000</td>\n",
       "      <td>200.000000</td>\n",
       "      <td>200.000000</td>\n",
       "    </tr>\n",
       "    <tr>\n",
       "      <th>mean</th>\n",
       "      <td>147.042500</td>\n",
       "      <td>23.264000</td>\n",
       "      <td>30.554000</td>\n",
       "      <td>14.022500</td>\n",
       "    </tr>\n",
       "    <tr>\n",
       "      <th>std</th>\n",
       "      <td>85.854236</td>\n",
       "      <td>14.846809</td>\n",
       "      <td>21.778621</td>\n",
       "      <td>5.217457</td>\n",
       "    </tr>\n",
       "    <tr>\n",
       "      <th>min</th>\n",
       "      <td>0.700000</td>\n",
       "      <td>0.000000</td>\n",
       "      <td>0.300000</td>\n",
       "      <td>1.600000</td>\n",
       "    </tr>\n",
       "    <tr>\n",
       "      <th>25%</th>\n",
       "      <td>74.375000</td>\n",
       "      <td>9.975000</td>\n",
       "      <td>12.750000</td>\n",
       "      <td>10.375000</td>\n",
       "    </tr>\n",
       "    <tr>\n",
       "      <th>50%</th>\n",
       "      <td>149.750000</td>\n",
       "      <td>22.900000</td>\n",
       "      <td>25.750000</td>\n",
       "      <td>12.900000</td>\n",
       "    </tr>\n",
       "    <tr>\n",
       "      <th>75%</th>\n",
       "      <td>218.825000</td>\n",
       "      <td>36.525000</td>\n",
       "      <td>45.100000</td>\n",
       "      <td>17.400000</td>\n",
       "    </tr>\n",
       "    <tr>\n",
       "      <th>max</th>\n",
       "      <td>296.400000</td>\n",
       "      <td>49.600000</td>\n",
       "      <td>114.000000</td>\n",
       "      <td>27.000000</td>\n",
       "    </tr>\n",
       "  </tbody>\n",
       "</table>\n",
       "</div>"
      ],
      "text/plain": [
       "               TV       Radio   Newspaper       Sales\n",
       "count  200.000000  200.000000  200.000000  200.000000\n",
       "mean   147.042500   23.264000   30.554000   14.022500\n",
       "std     85.854236   14.846809   21.778621    5.217457\n",
       "min      0.700000    0.000000    0.300000    1.600000\n",
       "25%     74.375000    9.975000   12.750000   10.375000\n",
       "50%    149.750000   22.900000   25.750000   12.900000\n",
       "75%    218.825000   36.525000   45.100000   17.400000\n",
       "max    296.400000   49.600000  114.000000   27.000000"
      ]
     },
     "execution_count": 1,
     "metadata": {},
     "output_type": "execute_result"
    }
   ],
   "source": [
    "import pandas as pd\n",
    "import seaborn as sns\n",
    "import matplotlib.pyplot as plt\n",
    "import numpy as np\n",
    "\n",
    "df = pd.read_csv(\"../data/Advertising.csv\", index_col=0)\n",
    "df.describe()"
   ]
  },
  {
   "cell_type": "markdown",
   "metadata": {},
   "source": [
    "Med den kunskap vi har från förra kursen så ser vi redan här hur datan är fördelad. Om vi tittar på maxvärdet, vilket värde som 75, 50, och 25 % av datan är mindre än så ser vi att alla utom Newspaper har någon form av normaldistribution.  "
   ]
  },
  {
   "cell_type": "code",
   "execution_count": 2,
   "metadata": {},
   "outputs": [],
   "source": [
    "X, y = df[\"TV\"], df[\"Sales\"]\n",
    "\n",
    "beta_1, beta_0 = np.polyfit(X, y, deg=1)\n",
    "\n",
    "y_hat = lambda x: beta_0 + beta_1 * x"
   ]
  },
  {
   "cell_type": "markdown",
   "metadata": {},
   "source": [
    "Varför vi skriver ett litet y är för att vi tittar bara på stickprovet och inte alla möjligaa ... . Varför då inte litet X? Nja, ingen vanlig konvention.  \n",
    "\n",
    "Nämnvärt här är att polyfit returnerar våra parametrar från höger till vänster i stället för vad vi är vana vid.  \n",
    "\n",
    "Lambda här är en **closure**, den stänger över uttryck i omgivningen. [#TODO KOLLA UPP EN BÄTTRE DEFINITION]  "
   ]
  },
  {
   "cell_type": "markdown",
   "metadata": {},
   "source": [
    "Intercept beta_0 hat: 7.0326  \n",
    "Slope beta_1 hat: 0.0475  "
   ]
  },
  {
   "cell_type": "markdown",
   "metadata": {},
   "source": [
    "Vad ovan säger är att utan reklam så säljs ändå ca 7000 exemplar och med reklam säljer vi ca 47 enheter mer än vanligt.  "
   ]
  },
  {
   "cell_type": "code",
   "execution_count": 3,
   "metadata": {},
   "outputs": [
    {
     "name": "stdout",
     "output_type": "stream",
     "text": [
      "Intercept beta_0 hat: 7.0326\n",
      "Slope beta_1 hat: 0.0475\n"
     ]
    },
    {
     "data": {
      "text/plain": [
       "[Text(0.5, 1.0, 'TV advertisement linear regression'),\n",
       " Text(0.5, 0, 'Thousands dollars'),\n",
       " Text(0, 0.5, 'Sales thousands units')]"
      ]
     },
     "execution_count": 3,
     "metadata": {},
     "output_type": "execute_result"
    },
    {
     "data": {
      "image/png": "[encoded data removed]",
      "text/plain": [
       "<Figure size 500x300 with 1 Axes>"
      ]
     },
     "metadata": {},
     "output_type": "display_data"
    }
   ],
   "source": [
    "print(f\"Intercept beta_0 hat: {beta_0:.4f}\")\n",
    "print(f\"Slope beta_1 hat: {beta_1:.4f}\")  # spend $1000 gives 47.5 extra sold units\n",
    "\n",
    "spend = np.linspace(0, 350)\n",
    "\n",
    "fig, ax = plt.figure(figsize=(5, 3), dpi=100), plt.axes()\n",
    "\n",
    "sns.scatterplot(data=df, x=\"TV\", y=\"Sales\")\n",
    "sns.lineplot(x=spend, y=y_hat(spend), color=\"red\")\n",
    "\n",
    "ax.set(\n",
    "    title=\"TV advertisement linear regression\",\n",
    "    xlabel=\"Thousands dollars\",\n",
    "    ylabel=\"Sales thousands units\",\n",
    ")"
   ]
  },
  {
   "cell_type": "markdown",
   "metadata": {},
   "source": [
    "Här har vi exemplet som vi pratade om tidigare i dag. SSE kommer bara växa ju mer data vi har.  "
   ]
  },
  {
   "cell_type": "code",
   "execution_count": 4,
   "metadata": {},
   "outputs": [
    {
     "data": {
      "text/plain": [
       "<Axes: xlabel='TV', ylabel='Sales'>"
      ]
     },
     "execution_count": 4,
     "metadata": {},
     "output_type": "execute_result"
    },
    {
     "data": {
      "image/png": "[encoded data removed]",
      "text/plain": [
       "<Figure size 640x480 with 1 Axes>"
      ]
     },
     "metadata": {},
     "output_type": "display_data"
    }
   ],
   "source": [
    "sns.regplot(x=X, y=y)"
   ]
  },
  {
   "cell_type": "markdown",
   "metadata": {},
   "source": [
    "Om vi väljer för hög konfidensnivå på vårt konfidensintervall så betyder detta inte längre någonting eftersom konfidensintervallet absolut inte täcker 95 % (ci=95, standard för regplot) av datan - vilket vi kan se (det suddiga blå fältet kring linjen). Vi har för liten förklaringsgrad här för att kunna påverka det här, även om vi skulle ändra konfidensnivån.  "
   ]
  },
  {
   "cell_type": "code",
   "execution_count": 13,
   "metadata": {},
   "outputs": [
    {
     "name": "stdout",
     "output_type": "stream",
     "text": [
      "[ 0.          0.04576465  0.18853002 -0.00103749]\n",
      "R²: 0.897\n"
     ]
    }
   ],
   "source": [
    "from sklearn.linear_model import LinearRegression\n",
    "\n",
    "X, y = df.drop(\"Sales\", axis=\"columns\"), df[\"Sales\"]\n",
    "X.insert(0, \"Intercept\", 1)\n",
    "\n",
    "model = LinearRegression()\n",
    "model.fit(X, y)\n",
    "\n",
    "print(model.coef_)\n",
    "print(f\"R²: {model.score(X, y):.3f}\")"
   ]
  },
  {
   "cell_type": "markdown",
   "metadata": {},
   "source": [
    "Inom maskininlärning kämpar vi hela tiden med overfit. Vi har lärt oss att klassificera punkterna perfekt men allt utanför är lost.  \n",
    "\n",
    "Om du ska skilja på train, val och test så särskilj test från allt annat redan när du läser in datan.  \n",
    "\n",
    "All vår feature engineering kommer resultera i X_train vilket är vår feature ... .  \n",
    "\n",
    "Vår model är inte stabil vilket vi kan se i att RSE är av samma storleksordning som RMSE.  "
   ]
  },
  {
   "cell_type": "markdown",
   "metadata": {},
   "source": [
    "# Lunch  "
   ]
  },
  {
   "cell_type": "markdown",
   "metadata": {},
   "source": [
    "## Lecture_code / Polynomial_regression\n",
    "\n",
    "I förra labben hade vi en fysikaliskt sätt att linjarisera. Nu ska vi använda polynom. Polynomiell regression använder samma X överallt. Alltså en variabel men många features. Vi gör alla interaktionseffekter med sig själv.  \n",
    "\n",
    "Funktionerna är ju inte linjärt men hela polynomet självt är linjärt. Radoperationerna är fortfarande linjära så vi kan t ex göra Gauss-eliminering.  \n",
    "\n",
    "När vi har en multipel regression så uppskattar vi en linje för varje parameter men hittar ett medel av dem. Det är samma sak med polynomial. Men vi kan inte använda kategorisk data i polynomial regression, då hade vi behövt allmän regression.  "
   ]
  },
  {
   "cell_type": "code",
   "execution_count": null,
   "metadata": {},
   "outputs": [],
   "source": [
    "def ground_truth(x):\n",
    "    return np.square(x) + .5*x + 3"
   ]
  },
  {
   "cell_type": "markdown",
   "metadata": {},
   "source": [
    "I vanliga fall så har vi såklart inte sanningen så här hittar vi bara på något.  \n",
    "\n",
    "Först gör vi om vår indata till polynom och sedan kör vi en regression på den. "
   ]
  },
  {
   "cell_type": "code",
   "execution_count": null,
   "metadata": {},
   "outputs": [],
   "source": [
    "from sklearn.preprocessing import PolynomialFeatures\n",
    "poly = PolynomialFeatures(degree = 2, include_bias=False)\n",
    "poly_features = poly.fit_transform(X)\n",
    "poly_features[:4], X[:4], np.square(X[:4])"
   ]
  },
  {
   "cell_type": "markdown",
   "metadata": {},
   "source": [
    "(array([[-1.4108856 ,  1.99059817],\n",
    "        [-2.21382897,  4.90103869],\n",
    "        [-1.23160635,  1.51685419],\n",
    "        [-1.42907061,  2.0422428 ]]),\n",
    " array([[-1.4108856 ],\n",
    "        [-2.21382897],\n",
    "        [-1.23160635],\n",
    "        [-1.42907061]]),\n",
    " array([[1.99059817],\n",
    "        [4.90103869],\n",
    "        [1.51685419],\n",
    "        [2.0422428 ]]))"
   ]
  },
  {
   "cell_type": "markdown",
   "metadata": {},
   "source": [
    "Vi transformerar matrisen och får både originalvärde och det nya värdet som i detta fallet är kvadraten av värdet eftersom vi valde degree=2.  "
   ]
  },
  {
   "cell_type": "markdown",
   "metadata": {},
   "source": [
    "Vi kan inte räkna ut vilken grad någon polynomial regression ska ha, vi måste helt enkelt testa oss fram. Det vanligaste är att göra en grid search, testa alla värden inom ett intervall. Det finns så klart färdiga metoder men vi kommer köra det manuellt till en början.  \n",
    "\n",
    "Ju färre parametrar, desto bättre predictions. "
   ]
  },
  {
   "cell_type": "code",
   "execution_count": null,
   "metadata": {},
   "outputs": [],
   "source": [
    "plt.plot(range(1,100), RMSE_val)\n",
    "plt.xlabel(\"Degree\")\n",
    "plt.ylabel(\"RMSE\")\n",
    "plt.title(\"RMSE on validation data for different degrees of polynomial\")"
   ]
  },
  {
   "cell_type": "markdown",
   "metadata": {},
   "source": [
    "På plotten över RMSE så vill vi ha så lågt värde som möjligt i båda axlar. - \n",
    "\n",
    "Beroende på vilket stickprov vi kör på så får vi väldigt olika resultat. Därför måste vi köra många gånger och helst på stora stickprov. Sen tar vi något medel därifrån. OLS har ofta hög varians och tenderar att ha lägre bias. För linjär regression så överdriver vi felen - i våra polynom så är de exponenter och felen blir ju också exponentiella. Därav får vi väldigt stor varians i polynomial regression.  \n",
    "\n",
    "I allmänhet letar vi efter ett \"knee\" (knä) där grafen börjar gå ner igen.  \n",
    "\n",
    "Om vi misstänker att det är polynom vi har att göra med så ska vi använda polynomial regression. Om vi misstänker att en interaktionsterm har en interaktion med sig själv så är det ett polynom. "
   ]
  },
  {
   "cell_type": "markdown",
   "metadata": {},
   "source": [
    "Har vi hög bias så bryr vi oss inte om den riktiga data, vi har förskjutit långt bort från nollan. Då tenderar det att vara en förenklad modell och har en underfit. Ser vi underfit så har vi biasproblem.  \n",
    "\n",
    "Har vi hög varians tenderar vi att göra overfit, många frihetsgrader. Vi hittar allså ickesamband.  \n",
    "\n",
    "Hög komplexitet är låg bias och hög varians. Låg komplexitet är motsatsen. Eftersom vi har svårt att minska bias. Vi måste alltså hitta en balans. "
   ]
  },
  {
   "cell_type": "markdown",
   "metadata": {},
   "source": [
    "# Fredag  \n",
    "\n",
    "Uppgift 0-2 är lämpligt att göra på fredag. Fredagar kommer vara repetition "
   ]
  }
 ],
 "metadata": {
  "kernelspec": {
   "display_name": ".venv",
   "language": "python",
   "name": "python3"
  },
  "language_info": {
   "codemirror_mode": {
    "name": "ipython",
    "version": 3
   },
   "file_extension": ".py",
   "mimetype": "text/x-python",
   "name": "python",
   "nbconvert_exporter": "python",
   "pygments_lexer": "ipython3",
   "version": "3.13.2"
  }
 },
 "nbformat": 4,
 "nbformat_minor": 2
}
