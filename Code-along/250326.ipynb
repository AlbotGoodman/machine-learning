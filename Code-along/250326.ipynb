{
 "cells": [
  {
   "cell_type": "markdown",
   "metadata": {},
   "source": [
    "# Genomgång av labben"
   ]
  },
  {
   "cell_type": "markdown",
   "metadata": {},
   "source": [
    "- läs på om collaborative och content filtering innan start\n",
    "- labben är framför allt collaborative men ni får göra content\n",
    "- största skillnaden är hur ni skapar er feature mängd\n",
    "- det kan vara bra att göra urval pga storleken på alla dataset\n",
    "- tags.csv innehåller mycket skräp\n",
    "- välj ut en feature mängd och rekommendera filmer utifrån input\n",
    "- csr (?) (compressed sparse row/matrix) kan användas, då är de flesta datapunkter noll\n",
    "- utförandet är antingen CLI (command line interface), applikation eller notebook\n",
    "- PCA är bra, kanske kan använda det? \n",
    "- ta hänsyn till kontext (ta engrams) med naturligt språk"
   ]
  },
  {
   "cell_type": "markdown",
   "metadata": {},
   "source": [
    "# Gemensam EDA"
   ]
  },
  {
   "cell_type": "code",
   "execution_count": 2,
   "metadata": {},
   "outputs": [],
   "source": [
    "import pandas as pd\n",
    "\n",
    "movies = pd.read_csv(\"../data/movielens/movies.csv\")\n",
    "ratings = pd.read_csv(\"../data/movielens/ratings.csv\")\n",
    "tags = pd.read_csv(\"../data/movielens/tags.csv\")"
   ]
  },
  {
   "cell_type": "code",
   "execution_count": 3,
   "metadata": {},
   "outputs": [
    {
     "name": "stdout",
     "output_type": "stream",
     "text": [
      "<class 'pandas.core.frame.DataFrame'>\n",
      "RangeIndex: 86537 entries, 0 to 86536\n",
      "Data columns (total 3 columns):\n",
      " #   Column   Non-Null Count  Dtype \n",
      "---  ------   --------------  ----- \n",
      " 0   movieId  86537 non-null  int64 \n",
      " 1   title    86537 non-null  object\n",
      " 2   genres   86537 non-null  object\n",
      "dtypes: int64(1), object(2)\n",
      "memory usage: 2.0+ MB\n"
     ]
    },
    {
     "data": {
      "text/plain": [
       "None"
      ]
     },
     "metadata": {},
     "output_type": "display_data"
    },
    {
     "name": "stdout",
     "output_type": "stream",
     "text": [
      "<class 'pandas.core.frame.DataFrame'>\n",
      "RangeIndex: 33832162 entries, 0 to 33832161\n",
      "Data columns (total 4 columns):\n",
      " #   Column     Dtype  \n",
      "---  ------     -----  \n",
      " 0   userId     int64  \n",
      " 1   movieId    int64  \n",
      " 2   rating     float64\n",
      " 3   timestamp  int64  \n",
      "dtypes: float64(1), int64(3)\n",
      "memory usage: 1.0 GB\n"
     ]
    },
    {
     "data": {
      "text/plain": [
       "None"
      ]
     },
     "metadata": {},
     "output_type": "display_data"
    },
    {
     "name": "stdout",
     "output_type": "stream",
     "text": [
      "<class 'pandas.core.frame.DataFrame'>\n",
      "RangeIndex: 2328315 entries, 0 to 2328314\n",
      "Data columns (total 4 columns):\n",
      " #   Column     Dtype \n",
      "---  ------     ----- \n",
      " 0   userId     int64 \n",
      " 1   movieId    int64 \n",
      " 2   tag        object\n",
      " 3   timestamp  int64 \n",
      "dtypes: int64(3), object(1)\n",
      "memory usage: 71.1+ MB\n"
     ]
    },
    {
     "data": {
      "text/plain": [
       "None"
      ]
     },
     "metadata": {},
     "output_type": "display_data"
    }
   ],
   "source": [
    "datasets = [movies, ratings, tags]\n",
    "for set in datasets:\n",
    "    display(set.info())"
   ]
  },
  {
   "cell_type": "code",
   "execution_count": null,
   "metadata": {},
   "outputs": [
    {
     "data": {
      "text/html": [
       "<div>\n",
       "<style scoped>\n",
       "    .dataframe tbody tr th:only-of-type {\n",
       "        vertical-align: middle;\n",
       "    }\n",
       "\n",
       "    .dataframe tbody tr th {\n",
       "        vertical-align: top;\n",
       "    }\n",
       "\n",
       "    .dataframe thead th {\n",
       "        text-align: right;\n",
       "    }\n",
       "</style>\n",
       "<table border=\"1\" class=\"dataframe\">\n",
       "  <thead>\n",
       "    <tr style=\"text-align: right;\">\n",
       "      <th></th>\n",
       "      <th>movieId</th>\n",
       "    </tr>\n",
       "  </thead>\n",
       "  <tbody>\n",
       "    <tr>\n",
       "      <th>count</th>\n",
       "      <td>86537.000000</td>\n",
       "    </tr>\n",
       "    <tr>\n",
       "      <th>mean</th>\n",
       "      <td>155932.817096</td>\n",
       "    </tr>\n",
       "    <tr>\n",
       "      <th>std</th>\n",
       "      <td>78037.145347</td>\n",
       "    </tr>\n",
       "    <tr>\n",
       "      <th>min</th>\n",
       "      <td>1.000000</td>\n",
       "    </tr>\n",
       "    <tr>\n",
       "      <th>25%</th>\n",
       "      <td>111443.000000</td>\n",
       "    </tr>\n",
       "    <tr>\n",
       "      <th>50%</th>\n",
       "      <td>164574.000000</td>\n",
       "    </tr>\n",
       "    <tr>\n",
       "      <th>75%</th>\n",
       "      <td>211225.000000</td>\n",
       "    </tr>\n",
       "    <tr>\n",
       "      <th>max</th>\n",
       "      <td>288983.000000</td>\n",
       "    </tr>\n",
       "  </tbody>\n",
       "</table>\n",
       "</div>"
      ],
      "text/plain": [
       "             movieId\n",
       "count   86537.000000\n",
       "mean   155932.817096\n",
       "std     78037.145347\n",
       "min         1.000000\n",
       "25%    111443.000000\n",
       "50%    164574.000000\n",
       "75%    211225.000000\n",
       "max    288983.000000"
      ]
     },
     "metadata": {},
     "output_type": "display_data"
    },
    {
     "data": {
      "text/html": [
       "<div>\n",
       "<style scoped>\n",
       "    .dataframe tbody tr th:only-of-type {\n",
       "        vertical-align: middle;\n",
       "    }\n",
       "\n",
       "    .dataframe tbody tr th {\n",
       "        vertical-align: top;\n",
       "    }\n",
       "\n",
       "    .dataframe thead th {\n",
       "        text-align: right;\n",
       "    }\n",
       "</style>\n",
       "<table border=\"1\" class=\"dataframe\">\n",
       "  <thead>\n",
       "    <tr style=\"text-align: right;\">\n",
       "      <th></th>\n",
       "      <th>userId</th>\n",
       "      <th>movieId</th>\n",
       "      <th>rating</th>\n",
       "      <th>timestamp</th>\n",
       "    </tr>\n",
       "  </thead>\n",
       "  <tbody>\n",
       "    <tr>\n",
       "      <th>count</th>\n",
       "      <td>3.383216e+07</td>\n",
       "      <td>3.383216e+07</td>\n",
       "      <td>3.383216e+07</td>\n",
       "      <td>3.383216e+07</td>\n",
       "    </tr>\n",
       "    <tr>\n",
       "      <th>mean</th>\n",
       "      <td>1.654380e+05</td>\n",
       "      <td>2.831348e+04</td>\n",
       "      <td>3.542540e+00</td>\n",
       "      <td>1.269362e+09</td>\n",
       "    </tr>\n",
       "    <tr>\n",
       "      <th>std</th>\n",
       "      <td>9.534122e+04</td>\n",
       "      <td>4.992865e+04</td>\n",
       "      <td>1.063959e+00</td>\n",
       "      <td>2.541023e+08</td>\n",
       "    </tr>\n",
       "    <tr>\n",
       "      <th>min</th>\n",
       "      <td>1.000000e+00</td>\n",
       "      <td>1.000000e+00</td>\n",
       "      <td>5.000000e-01</td>\n",
       "      <td>7.896520e+08</td>\n",
       "    </tr>\n",
       "    <tr>\n",
       "      <th>25%</th>\n",
       "      <td>8.295300e+04</td>\n",
       "      <td>1.219000e+03</td>\n",
       "      <td>3.000000e+00</td>\n",
       "      <td>1.046718e+09</td>\n",
       "    </tr>\n",
       "    <tr>\n",
       "      <th>50%</th>\n",
       "      <td>1.661290e+05</td>\n",
       "      <td>3.263000e+03</td>\n",
       "      <td>4.000000e+00</td>\n",
       "      <td>1.264740e+09</td>\n",
       "    </tr>\n",
       "    <tr>\n",
       "      <th>75%</th>\n",
       "      <td>2.474500e+05</td>\n",
       "      <td>4.049100e+04</td>\n",
       "      <td>4.000000e+00</td>\n",
       "      <td>1.496919e+09</td>\n",
       "    </tr>\n",
       "    <tr>\n",
       "      <th>max</th>\n",
       "      <td>3.309750e+05</td>\n",
       "      <td>2.889830e+05</td>\n",
       "      <td>5.000000e+00</td>\n",
       "      <td>1.689843e+09</td>\n",
       "    </tr>\n",
       "  </tbody>\n",
       "</table>\n",
       "</div>"
      ],
      "text/plain": [
       "             userId       movieId        rating     timestamp\n",
       "count  3.383216e+07  3.383216e+07  3.383216e+07  3.383216e+07\n",
       "mean   1.654380e+05  2.831348e+04  3.542540e+00  1.269362e+09\n",
       "std    9.534122e+04  4.992865e+04  1.063959e+00  2.541023e+08\n",
       "min    1.000000e+00  1.000000e+00  5.000000e-01  7.896520e+08\n",
       "25%    8.295300e+04  1.219000e+03  3.000000e+00  1.046718e+09\n",
       "50%    1.661290e+05  3.263000e+03  4.000000e+00  1.264740e+09\n",
       "75%    2.474500e+05  4.049100e+04  4.000000e+00  1.496919e+09\n",
       "max    3.309750e+05  2.889830e+05  5.000000e+00  1.689843e+09"
      ]
     },
     "metadata": {},
     "output_type": "display_data"
    },
    {
     "data": {
      "text/html": [
       "<div>\n",
       "<style scoped>\n",
       "    .dataframe tbody tr th:only-of-type {\n",
       "        vertical-align: middle;\n",
       "    }\n",
       "\n",
       "    .dataframe tbody tr th {\n",
       "        vertical-align: top;\n",
       "    }\n",
       "\n",
       "    .dataframe thead th {\n",
       "        text-align: right;\n",
       "    }\n",
       "</style>\n",
       "<table border=\"1\" class=\"dataframe\">\n",
       "  <thead>\n",
       "    <tr style=\"text-align: right;\">\n",
       "      <th></th>\n",
       "      <th>userId</th>\n",
       "      <th>movieId</th>\n",
       "      <th>timestamp</th>\n",
       "    </tr>\n",
       "  </thead>\n",
       "  <tbody>\n",
       "    <tr>\n",
       "      <th>count</th>\n",
       "      <td>2.328315e+06</td>\n",
       "      <td>2.328315e+06</td>\n",
       "      <td>2.328315e+06</td>\n",
       "    </tr>\n",
       "    <tr>\n",
       "      <th>mean</th>\n",
       "      <td>1.776665e+05</td>\n",
       "      <td>7.055280e+04</td>\n",
       "      <td>1.522919e+09</td>\n",
       "    </tr>\n",
       "    <tr>\n",
       "      <th>std</th>\n",
       "      <td>8.285669e+04</td>\n",
       "      <td>7.402427e+04</td>\n",
       "      <td>1.308546e+08</td>\n",
       "    </tr>\n",
       "    <tr>\n",
       "      <th>min</th>\n",
       "      <td>1.000000e+01</td>\n",
       "      <td>1.000000e+00</td>\n",
       "      <td>1.135429e+09</td>\n",
       "    </tr>\n",
       "    <tr>\n",
       "      <th>25%</th>\n",
       "      <td>1.144050e+05</td>\n",
       "      <td>3.897000e+03</td>\n",
       "      <td>1.457997e+09</td>\n",
       "    </tr>\n",
       "    <tr>\n",
       "      <th>50%</th>\n",
       "      <td>2.154900e+05</td>\n",
       "      <td>5.107700e+04</td>\n",
       "      <td>1.561826e+09</td>\n",
       "    </tr>\n",
       "    <tr>\n",
       "      <th>75%</th>\n",
       "      <td>2.154900e+05</td>\n",
       "      <td>1.175330e+05</td>\n",
       "      <td>1.614286e+09</td>\n",
       "    </tr>\n",
       "    <tr>\n",
       "      <th>max</th>\n",
       "      <td>3.309470e+05</td>\n",
       "      <td>2.889550e+05</td>\n",
       "      <td>1.689841e+09</td>\n",
       "    </tr>\n",
       "  </tbody>\n",
       "</table>\n",
       "</div>"
      ],
      "text/plain": [
       "             userId       movieId     timestamp\n",
       "count  2.328315e+06  2.328315e+06  2.328315e+06\n",
       "mean   1.776665e+05  7.055280e+04  1.522919e+09\n",
       "std    8.285669e+04  7.402427e+04  1.308546e+08\n",
       "min    1.000000e+01  1.000000e+00  1.135429e+09\n",
       "25%    1.144050e+05  3.897000e+03  1.457997e+09\n",
       "50%    2.154900e+05  5.107700e+04  1.561826e+09\n",
       "75%    2.154900e+05  1.175330e+05  1.614286e+09\n",
       "max    3.309470e+05  2.889550e+05  1.689841e+09"
      ]
     },
     "metadata": {},
     "output_type": "display_data"
    }
   ],
   "source": [
    "datasets = [movies, ratings, tags]\n",
    "for set in datasets:\n",
    "    display(set.describe())"
   ]
  },
  {
   "cell_type": "code",
   "execution_count": 6,
   "metadata": {},
   "outputs": [
    {
     "data": {
      "text/plain": [
       "(330975, 83239)"
      ]
     },
     "execution_count": 6,
     "metadata": {},
     "output_type": "execute_result"
    }
   ],
   "source": [
    "len(ratings['userId'].unique()), len(ratings['movieId'].unique()), "
   ]
  },
  {
   "cell_type": "code",
   "execution_count": null,
   "metadata": {},
   "outputs": [],
   "source": [
    "# KNeighborsTransformer"
   ]
  },
  {
   "cell_type": "markdown",
   "metadata": {},
   "source": [
    "# Repetition"
   ]
  }
 ],
 "metadata": {
  "kernelspec": {
   "display_name": ".venv",
   "language": "python",
   "name": "python3"
  },
  "language_info": {
   "codemirror_mode": {
    "name": "ipython",
    "version": 3
   },
   "file_extension": ".py",
   "mimetype": "text/x-python",
   "name": "python",
   "nbconvert_exporter": "python",
   "pygments_lexer": "ipython3",
   "version": "3.13.2"
  }
 },
 "nbformat": 4,
 "nbformat_minor": 2
}
