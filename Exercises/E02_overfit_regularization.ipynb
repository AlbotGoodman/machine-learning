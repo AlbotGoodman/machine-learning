{
 "cells": [
  {
   "attachments": {},
   "cell_type": "markdown",
   "metadata": {},
   "source": [
    "\n",
    "<a href=\"https://colab.research.google.com/github/kokchun/Machine-learning-AI22/blob/main/Exercises/E03_overfit_regularization.ipynb\" target=\"_parent\"><img align=\"left\" src=\"https://colab.research.google.com/assets/colab-badge.svg\" alt=\"Open In Colab\"/></a> &nbsp; to see hints and answers."
   ]
  },
  {
   "cell_type": "markdown",
   "metadata": {},
   "source": [
    "---\n",
    "# Overfit and regularization exercises \n",
    "\n",
    "---\n",
    "These are introductory exercises in Machine learning with focus in **overfitting and regularization** .\n",
    "\n",
    "<p class = \"alert alert-info\" role=\"alert\"><b>Note</b> that sometimes you don't get exactly the same answer as I get, but it doesn't neccessarily mean it is wrong. Could be some parameters, randomization, that we have different. Also very important is that in the future there won't be any answer sheets, use your skills in data analysis, mathematics and statistics to back up your work.</p>\n",
    "\n",
    "<p class = \"alert alert-info\" role=\"alert\"><b>Note</b> that in cases when you start to repeat code, try not to. Create functions to reuse code instead. </p>\n",
    "\n",
    "<p class = \"alert alert-info\" role=\"alert\"><b>Remember</b> to use <b>descriptive variable, function, index </b> and <b> column names</b> in order to get readable code </p>\n",
    "\n",
    "The number of stars (\\*), (\\*\\*), (\\*\\*\\*) denotes the difficulty level of the task\n",
    "\n",
    "---"
   ]
  },
  {
   "attachments": {},
   "cell_type": "markdown",
   "metadata": {},
   "source": [
    "## 0. Tips data EDA (*)\n",
    "\n",
    "In the whole exercise, we will work with the \"tips\" dataset from seaborn dataset. Start by loading dataset \"tips\" from the ```load_dataset``` method in seaborn module. The goal will be to use polynomial linear regression to predict tips. \n",
    "\n",
    "&nbsp; a) Start by doing some initial EDA such as info(), describe().\n",
    "\n",
    "&nbsp; b) Use describe only on those columns that are relevant to get statistical information from. Plot the descriptive statistics for each numerical column, with a adequate plot type (e.g. barplot).\n",
    "\n",
    "&nbsp; c) Based on the initial EDA, make some more plots on things you think could be worthwhile to investigate. \n",
    "\n",
    "&nbsp; d) Try discuss your findings with yourself/colleague and draw some conclusions if possible. Note that in reality, it is important to be able to communicate your findings so that other people in your team/customers/stakeholders etc. get an understanding of the data and realizes the importance of your role as a data scientist/analyst.\n",
    "\n",
    "<details>\n",
    "\n",
    "<summary>Answer</summary>\n",
    "\n",
    "\n",
    "b)\n",
    "<img src=\"../assets/df_describe.png\" height=\"300\"/>\n",
    "\n",
    "c) Here are some example plots\n",
    "\n",
    "<img src=\"../assets/tips_EDA.png\" height=\"300\"/>\n",
    "\n",
    "<img src=\"../assets/tips_smoke_sex.png\" width=\"500\"/>\n",
    "\n",
    "<img src=\"../assets/tips_bar_sex.png\" width=\"300\"/>\n",
    "\n",
    "\n",
    "d) For example: \n",
    "- there are almost double amount of females represented in the dataset\n",
    "- there are very few tables with 1 person eating, and they usually give very low tip\n",
    "- female and male tip somewhat similar\n",
    "\n",
    "</details>\n",
    "\n",
    "---"
   ]
  },
  {
   "cell_type": "code",
   "execution_count": 26,
   "metadata": {},
   "outputs": [
    {
     "name": "stdout",
     "output_type": "stream",
     "text": [
      "Head:\n"
     ]
    },
    {
     "data": {
      "text/html": [
       "<div>\n",
       "<style scoped>\n",
       "    .dataframe tbody tr th:only-of-type {\n",
       "        vertical-align: middle;\n",
       "    }\n",
       "\n",
       "    .dataframe tbody tr th {\n",
       "        vertical-align: top;\n",
       "    }\n",
       "\n",
       "    .dataframe thead th {\n",
       "        text-align: right;\n",
       "    }\n",
       "</style>\n",
       "<table border=\"1\" class=\"dataframe\">\n",
       "  <thead>\n",
       "    <tr style=\"text-align: right;\">\n",
       "      <th></th>\n",
       "      <th>total_bill</th>\n",
       "      <th>tip</th>\n",
       "      <th>sex</th>\n",
       "      <th>smoker</th>\n",
       "      <th>day</th>\n",
       "      <th>time</th>\n",
       "      <th>size</th>\n",
       "    </tr>\n",
       "  </thead>\n",
       "  <tbody>\n",
       "    <tr>\n",
       "      <th>0</th>\n",
       "      <td>16.99</td>\n",
       "      <td>1.01</td>\n",
       "      <td>Female</td>\n",
       "      <td>No</td>\n",
       "      <td>Sun</td>\n",
       "      <td>Dinner</td>\n",
       "      <td>2</td>\n",
       "    </tr>\n",
       "    <tr>\n",
       "      <th>1</th>\n",
       "      <td>10.34</td>\n",
       "      <td>1.66</td>\n",
       "      <td>Male</td>\n",
       "      <td>No</td>\n",
       "      <td>Sun</td>\n",
       "      <td>Dinner</td>\n",
       "      <td>3</td>\n",
       "    </tr>\n",
       "    <tr>\n",
       "      <th>2</th>\n",
       "      <td>21.01</td>\n",
       "      <td>3.50</td>\n",
       "      <td>Male</td>\n",
       "      <td>No</td>\n",
       "      <td>Sun</td>\n",
       "      <td>Dinner</td>\n",
       "      <td>3</td>\n",
       "    </tr>\n",
       "    <tr>\n",
       "      <th>3</th>\n",
       "      <td>23.68</td>\n",
       "      <td>3.31</td>\n",
       "      <td>Male</td>\n",
       "      <td>No</td>\n",
       "      <td>Sun</td>\n",
       "      <td>Dinner</td>\n",
       "      <td>2</td>\n",
       "    </tr>\n",
       "    <tr>\n",
       "      <th>4</th>\n",
       "      <td>24.59</td>\n",
       "      <td>3.61</td>\n",
       "      <td>Female</td>\n",
       "      <td>No</td>\n",
       "      <td>Sun</td>\n",
       "      <td>Dinner</td>\n",
       "      <td>4</td>\n",
       "    </tr>\n",
       "  </tbody>\n",
       "</table>\n",
       "</div>"
      ],
      "text/plain": [
       "   total_bill   tip     sex smoker  day    time  size\n",
       "0       16.99  1.01  Female     No  Sun  Dinner     2\n",
       "1       10.34  1.66    Male     No  Sun  Dinner     3\n",
       "2       21.01  3.50    Male     No  Sun  Dinner     3\n",
       "3       23.68  3.31    Male     No  Sun  Dinner     2\n",
       "4       24.59  3.61  Female     No  Sun  Dinner     4"
      ]
     },
     "metadata": {},
     "output_type": "display_data"
    },
    {
     "name": "stdout",
     "output_type": "stream",
     "text": [
      "['Sun', 'Sat', 'Thur', 'Fri']\n",
      "Categories (4, object): ['Thur', 'Fri', 'Sat', 'Sun']\n",
      "\n",
      "Info:\n",
      "<class 'pandas.core.frame.DataFrame'>\n",
      "RangeIndex: 244 entries, 0 to 243\n",
      "Data columns (total 7 columns):\n",
      " #   Column      Non-Null Count  Dtype   \n",
      "---  ------      --------------  -----   \n",
      " 0   total_bill  244 non-null    float64 \n",
      " 1   tip         244 non-null    float64 \n",
      " 2   sex         244 non-null    category\n",
      " 3   smoker      244 non-null    category\n",
      " 4   day         244 non-null    category\n",
      " 5   time        244 non-null    category\n",
      " 6   size        244 non-null    int64   \n",
      "dtypes: category(4), float64(2), int64(1)\n",
      "memory usage: 7.4 KB\n"
     ]
    },
    {
     "data": {
      "text/plain": [
       "None"
      ]
     },
     "metadata": {},
     "output_type": "display_data"
    },
    {
     "name": "stdout",
     "output_type": "stream",
     "text": [
      "Describe:\n"
     ]
    },
    {
     "data": {
      "text/html": [
       "<div>\n",
       "<style scoped>\n",
       "    .dataframe tbody tr th:only-of-type {\n",
       "        vertical-align: middle;\n",
       "    }\n",
       "\n",
       "    .dataframe tbody tr th {\n",
       "        vertical-align: top;\n",
       "    }\n",
       "\n",
       "    .dataframe thead th {\n",
       "        text-align: right;\n",
       "    }\n",
       "</style>\n",
       "<table border=\"1\" class=\"dataframe\">\n",
       "  <thead>\n",
       "    <tr style=\"text-align: right;\">\n",
       "      <th></th>\n",
       "      <th>total_bill</th>\n",
       "      <th>tip</th>\n",
       "      <th>size</th>\n",
       "    </tr>\n",
       "  </thead>\n",
       "  <tbody>\n",
       "    <tr>\n",
       "      <th>count</th>\n",
       "      <td>244.000000</td>\n",
       "      <td>244.000000</td>\n",
       "      <td>244.000000</td>\n",
       "    </tr>\n",
       "    <tr>\n",
       "      <th>mean</th>\n",
       "      <td>19.785943</td>\n",
       "      <td>2.998279</td>\n",
       "      <td>2.569672</td>\n",
       "    </tr>\n",
       "    <tr>\n",
       "      <th>std</th>\n",
       "      <td>8.902412</td>\n",
       "      <td>1.383638</td>\n",
       "      <td>0.951100</td>\n",
       "    </tr>\n",
       "    <tr>\n",
       "      <th>min</th>\n",
       "      <td>3.070000</td>\n",
       "      <td>1.000000</td>\n",
       "      <td>1.000000</td>\n",
       "    </tr>\n",
       "    <tr>\n",
       "      <th>25%</th>\n",
       "      <td>13.347500</td>\n",
       "      <td>2.000000</td>\n",
       "      <td>2.000000</td>\n",
       "    </tr>\n",
       "    <tr>\n",
       "      <th>50%</th>\n",
       "      <td>17.795000</td>\n",
       "      <td>2.900000</td>\n",
       "      <td>2.000000</td>\n",
       "    </tr>\n",
       "    <tr>\n",
       "      <th>75%</th>\n",
       "      <td>24.127500</td>\n",
       "      <td>3.562500</td>\n",
       "      <td>3.000000</td>\n",
       "    </tr>\n",
       "    <tr>\n",
       "      <th>max</th>\n",
       "      <td>50.810000</td>\n",
       "      <td>10.000000</td>\n",
       "      <td>6.000000</td>\n",
       "    </tr>\n",
       "  </tbody>\n",
       "</table>\n",
       "</div>"
      ],
      "text/plain": [
       "       total_bill         tip        size\n",
       "count  244.000000  244.000000  244.000000\n",
       "mean    19.785943    2.998279    2.569672\n",
       "std      8.902412    1.383638    0.951100\n",
       "min      3.070000    1.000000    1.000000\n",
       "25%     13.347500    2.000000    2.000000\n",
       "50%     17.795000    2.900000    2.000000\n",
       "75%     24.127500    3.562500    3.000000\n",
       "max     50.810000   10.000000    6.000000"
      ]
     },
     "metadata": {},
     "output_type": "display_data"
    },
    {
     "data": {
      "text/plain": [
       "(None, None)"
      ]
     },
     "execution_count": 26,
     "metadata": {},
     "output_type": "execute_result"
    }
   ],
   "source": [
    "import seaborn as sns\n",
    "import matplotlib.pyplot as plt\n",
    "import pandas as pd\n",
    "import numpy as np\n",
    "\n",
    "\n",
    "def show_np_scalars_without_type():\n",
    "    from IPython import get_ipython\n",
    "    formatter = get_ipython().display_formatter.formatters['text/plain']\n",
    "    formatter.for_type(np.float64, lambda num, p, cycle: p.text(str(float(num))))\n",
    "\n",
    "\n",
    "show_np_scalars_without_type()\n",
    "\n",
    "df = sns.load_dataset(\"tips\")\n",
    "\n",
    "print(\"Head:\"), display(df.head())\n",
    "print(df[\"day\"].unique()), print()\n",
    "print(\"Info:\"), display(df.info())\n",
    "print(\"Describe:\"), display(df.describe())"
   ]
  },
  {
   "cell_type": "code",
   "execution_count": 27,
   "metadata": {},
   "outputs": [
    {
     "data": {
      "image/png": "[encoded data removed]",
      "text/plain": [
       "<Figure size 600x600 with 9 Axes>"
      ]
     },
     "metadata": {},
     "output_type": "display_data"
    }
   ],
   "source": [
    "sns.pairplot(df, corner=True, height=2)\n",
    "plt.show()"
   ]
  },
  {
   "cell_type": "code",
   "execution_count": 28,
   "metadata": {},
   "outputs": [
    {
     "data": {
      "image/png": "[encoded data removed]",
      "text/plain": [
       "<Figure size 640x480 with 1 Axes>"
      ]
     },
     "metadata": {},
     "output_type": "display_data"
    }
   ],
   "source": [
    "df_describe_T = df.describe().transpose().reset_index()\n",
    "df_describe_T.drop(columns=[\"count\"], inplace=True)\n",
    "df_describe_T_melt = df_describe_T.melt(id_vars=\"index\")\n",
    "\n",
    "sns.barplot(data=df_describe_T_melt, x=\"value\", y=\"variable\", hue=\"index\")\n",
    "plt.title(\"tip_dataset.describe() visualised\\n\", fontweight=\"bold\")\n",
    "plt.ylabel(\"\")\n",
    "plt.xlabel(\"Amount\")\n",
    "plt.legend()\n",
    "plt.grid(axis=\"x\")\n",
    "plt.gca().set_facecolor('whitesmoke')\n",
    "plt.show()"
   ]
  },
  {
   "cell_type": "code",
   "execution_count": 29,
   "metadata": {},
   "outputs": [
    {
     "data": {
      "image/png": "[encoded data removed]",
      "text/plain": [
       "<Figure size 1000x800 with 3 Axes>"
      ]
     },
     "metadata": {},
     "output_type": "display_data"
    }
   ],
   "source": [
    "cols_numeric = df.describe().columns.to_list()\n",
    "fig, axes = plt.subplots(nrows=1, ncols=3, figsize=(10, 8))\n",
    "\n",
    "for ax, col in zip(axes, cols_numeric):\n",
    "    sns.boxplot(data=df, y=col, ax=ax)\n",
    "    ax.set_title(f'Boxplot of {col}')\n",
    "\n",
    "plt.tight_layout()\n",
    "plt.show()"
   ]
  },
  {
   "cell_type": "code",
   "execution_count": 30,
   "metadata": {},
   "outputs": [
    {
     "data": {
      "image/png": "[encoded data removed]",
      "text/plain": [
       "<Figure size 600x600 with 4 Axes>"
      ]
     },
     "metadata": {},
     "output_type": "display_data"
    }
   ],
   "source": [
    "g = sns.FacetGrid(df, col=\"sex\", row=\"smoker\")\n",
    "g.map(sns.scatterplot, \"total_bill\", \"tip\")\n",
    "plt.show()"
   ]
  },
  {
   "cell_type": "code",
   "execution_count": 31,
   "metadata": {},
   "outputs": [
    {
     "data": {
      "text/html": [
       "<div>\n",
       "<style scoped>\n",
       "    .dataframe tbody tr th:only-of-type {\n",
       "        vertical-align: middle;\n",
       "    }\n",
       "\n",
       "    .dataframe tbody tr th {\n",
       "        vertical-align: top;\n",
       "    }\n",
       "\n",
       "    .dataframe thead th {\n",
       "        text-align: right;\n",
       "    }\n",
       "</style>\n",
       "<table border=\"1\" class=\"dataframe\">\n",
       "  <thead>\n",
       "    <tr style=\"text-align: right;\">\n",
       "      <th></th>\n",
       "      <th>sex</th>\n",
       "      <th>count</th>\n",
       "    </tr>\n",
       "  </thead>\n",
       "  <tbody>\n",
       "    <tr>\n",
       "      <th>0</th>\n",
       "      <td>Male</td>\n",
       "      <td>157</td>\n",
       "    </tr>\n",
       "    <tr>\n",
       "      <th>1</th>\n",
       "      <td>Female</td>\n",
       "      <td>87</td>\n",
       "    </tr>\n",
       "  </tbody>\n",
       "</table>\n",
       "</div>"
      ],
      "text/plain": [
       "      sex  count\n",
       "0    Male    157\n",
       "1  Female     87"
      ]
     },
     "metadata": {},
     "output_type": "display_data"
    },
    {
     "data": {
      "text/html": [
       "<div>\n",
       "<style scoped>\n",
       "    .dataframe tbody tr th:only-of-type {\n",
       "        vertical-align: middle;\n",
       "    }\n",
       "\n",
       "    .dataframe tbody tr th {\n",
       "        vertical-align: top;\n",
       "    }\n",
       "\n",
       "    .dataframe thead th {\n",
       "        text-align: right;\n",
       "    }\n",
       "</style>\n",
       "<table border=\"1\" class=\"dataframe\">\n",
       "  <thead>\n",
       "    <tr style=\"text-align: right;\">\n",
       "      <th></th>\n",
       "      <th>smoker</th>\n",
       "      <th>count</th>\n",
       "    </tr>\n",
       "  </thead>\n",
       "  <tbody>\n",
       "    <tr>\n",
       "      <th>0</th>\n",
       "      <td>No</td>\n",
       "      <td>151</td>\n",
       "    </tr>\n",
       "    <tr>\n",
       "      <th>1</th>\n",
       "      <td>Yes</td>\n",
       "      <td>93</td>\n",
       "    </tr>\n",
       "  </tbody>\n",
       "</table>\n",
       "</div>"
      ],
      "text/plain": [
       "  smoker  count\n",
       "0     No    151\n",
       "1    Yes     93"
      ]
     },
     "metadata": {},
     "output_type": "display_data"
    },
    {
     "data": {
      "text/html": [
       "<div>\n",
       "<style scoped>\n",
       "    .dataframe tbody tr th:only-of-type {\n",
       "        vertical-align: middle;\n",
       "    }\n",
       "\n",
       "    .dataframe tbody tr th {\n",
       "        vertical-align: top;\n",
       "    }\n",
       "\n",
       "    .dataframe thead th {\n",
       "        text-align: right;\n",
       "    }\n",
       "</style>\n",
       "<table border=\"1\" class=\"dataframe\">\n",
       "  <thead>\n",
       "    <tr style=\"text-align: right;\">\n",
       "      <th></th>\n",
       "      <th>day</th>\n",
       "      <th>count</th>\n",
       "    </tr>\n",
       "  </thead>\n",
       "  <tbody>\n",
       "    <tr>\n",
       "      <th>0</th>\n",
       "      <td>Sat</td>\n",
       "      <td>87</td>\n",
       "    </tr>\n",
       "    <tr>\n",
       "      <th>1</th>\n",
       "      <td>Sun</td>\n",
       "      <td>76</td>\n",
       "    </tr>\n",
       "    <tr>\n",
       "      <th>2</th>\n",
       "      <td>Thur</td>\n",
       "      <td>62</td>\n",
       "    </tr>\n",
       "    <tr>\n",
       "      <th>3</th>\n",
       "      <td>Fri</td>\n",
       "      <td>19</td>\n",
       "    </tr>\n",
       "  </tbody>\n",
       "</table>\n",
       "</div>"
      ],
      "text/plain": [
       "    day  count\n",
       "0   Sat     87\n",
       "1   Sun     76\n",
       "2  Thur     62\n",
       "3   Fri     19"
      ]
     },
     "metadata": {},
     "output_type": "display_data"
    },
    {
     "data": {
      "text/html": [
       "<div>\n",
       "<style scoped>\n",
       "    .dataframe tbody tr th:only-of-type {\n",
       "        vertical-align: middle;\n",
       "    }\n",
       "\n",
       "    .dataframe tbody tr th {\n",
       "        vertical-align: top;\n",
       "    }\n",
       "\n",
       "    .dataframe thead th {\n",
       "        text-align: right;\n",
       "    }\n",
       "</style>\n",
       "<table border=\"1\" class=\"dataframe\">\n",
       "  <thead>\n",
       "    <tr style=\"text-align: right;\">\n",
       "      <th></th>\n",
       "      <th>time</th>\n",
       "      <th>count</th>\n",
       "    </tr>\n",
       "  </thead>\n",
       "  <tbody>\n",
       "    <tr>\n",
       "      <th>0</th>\n",
       "      <td>Dinner</td>\n",
       "      <td>176</td>\n",
       "    </tr>\n",
       "    <tr>\n",
       "      <th>1</th>\n",
       "      <td>Lunch</td>\n",
       "      <td>68</td>\n",
       "    </tr>\n",
       "  </tbody>\n",
       "</table>\n",
       "</div>"
      ],
      "text/plain": [
       "     time  count\n",
       "0  Dinner    176\n",
       "1   Lunch     68"
      ]
     },
     "metadata": {},
     "output_type": "display_data"
    }
   ],
   "source": [
    "cols_numeric = df.describe().columns.to_list()\n",
    "cols_categoric = df.drop(columns=cols_numeric)\n",
    "\n",
    "for col in cols_categoric:\n",
    "    display(df[col].value_counts().reset_index())"
   ]
  },
  {
   "cell_type": "markdown",
   "metadata": {},
   "source": [
    "## 1. Train|test split (*)\n",
    "\n",
    "Split the data into training part and testing part, using sklearn's train_test_split with test size of 0.3 and random_state 42."
   ]
  },
  {
   "cell_type": "code",
   "execution_count": 32,
   "metadata": {},
   "outputs": [],
   "source": [
    "from sklearn.model_selection import train_test_split\n",
    "\n",
    "df_numeric = df[cols_numeric]\n",
    "X = df_numeric.drop(columns=[\"tip\"])\n",
    "X = np.array(X)\n",
    "y = df[\"tip\"]\n",
    "y = np.array(y)\n",
    "X_train, X_test, y_train, y_test = train_test_split(X, y, test_size=0.3, random_state=42)"
   ]
  },
  {
   "cell_type": "markdown",
   "metadata": {},
   "source": [
    "---\n",
    "## 2. Feature standardization (*)\n",
    "\n",
    "We need to normalize the data and in this case will be using feature standardization. Implement this yourself following this formula:\n",
    "\n",
    "$$X_{train}' = \\frac{X_{train}-\\mu_{train}}{\\sigma_{train}}$$\n",
    "\n",
    "$$X_{test}' = \\frac{X_{test}-\\mu_{train}}{\\sigma_{train}}$$\n",
    "\n",
    ", where $'$ denotes scaled, $\\mu_{train}$ is the mean of the training data, $\\sigma_{train}$ is the standard deviation of the training data. Note that it is very important that the mean and standard deviation is computed from the training data and not from testing data to avoid data leakage. Control the standard deviation and mean of $X_{train}'$ and $X_{test}'$. Is the results as you expect, why, why not?\n",
    "\n",
    "<details>\n",
    "\n",
    "<summary>Answer</summary>\n",
    "\n",
    "scaled_X_train (total_bill, size) mean: [ 6.79195262e-17 -1.98534000e-16]\n",
    "\n",
    "scaled_X_test (total_bill, size) mean: [-0.19137999 -0.04477934]\n",
    "\n",
    "scaled_X_train (total_bill, size) std: [1. 1.]\n",
    "\n",
    "scaled_X_test (total_bill, size) std: [0.92495673 1.06638889]\n",
    "\n",
    "</details>"
   ]
  },
  {
   "cell_type": "code",
   "execution_count": 33,
   "metadata": {},
   "outputs": [],
   "source": [
    "import time"
   ]
  },
  {
   "cell_type": "code",
   "execution_count": 34,
   "metadata": {},
   "outputs": [
    {
     "data": {
      "text/plain": [
       "array([[-0.5265122 , -0.6236758 ],\n",
       "       [ 0.01505431,  1.51824108],\n",
       "       [ 1.5781121 ,  1.51824108],\n",
       "       [ 0.54781485,  1.51824108],\n",
       "       [ 1.9479624 ,  1.51824108]])"
      ]
     },
     "execution_count": 34,
     "metadata": {},
     "output_type": "execute_result"
    }
   ],
   "source": [
    "class Normalise:\n",
    "\n",
    "    def __init__(self):\n",
    "        self._train_mean = None\n",
    "        self._train_std = None\n",
    "\n",
    "\n",
    "    def norm(self, X, split):\n",
    "        \"\"\"Normalise features using training statistics.\"\"\"\n",
    "        X_norm = X.copy()\n",
    "        d = X_norm.shape[1]\n",
    "\n",
    "        if split == \"train\":\n",
    "            self._train_mean = np.mean(X_norm, axis=0)\n",
    "            self._train_std = np.std(X_norm, axis=0, ddof=1)\n",
    "        elif split == \"test\":\n",
    "            if self._train_mean is None:\n",
    "                raise ValueError(\"Normalise the training data first\")\n",
    "        else:\n",
    "            raise ValueError(f\"Unknown split: {split}\")\n",
    "\n",
    "        X_norm = (X_norm - self._train_mean) / self._train_std\n",
    "            \n",
    "        return X_norm\n",
    "\n",
    "\n",
    "normaliser = Normalise()\n",
    "X_train_norm, X_test_norm = normaliser.norm(X_train, \"train\"), normaliser.norm(X_test, \"test\")\n",
    "X_train_norm[:5, :]"
   ]
  },
  {
   "cell_type": "markdown",
   "metadata": {},
   "source": [
    "---\n",
    "## 3. Polynomial features (*)\n",
    "\n",
    "We want to investigate ```Polynomialfeatures``` from scikit-klearn in this task. Start by instantiating an object of type ```PolynomialFeatures``` with degree 2. Now do the following: \n",
    "\n",
    "- use the method fit on $X_{train}'$\n",
    "- transform $X_{train}'$\n",
    "- transform $X_{test}'$\n",
    "\n",
    "Compare this transformed $X_{test}'$ with $X_{test}''$ where $X_{test}''$ comes from fitting the polynomial features to $X_{test}'$ and transforming $X_{test}'$. You can check directly by using ```==``` and then sum it up. If the value is same as the length, then you know that they are the same, as a boolean True evaluates to 1. \n"
   ]
  },
  {
   "cell_type": "code",
   "execution_count": 45,
   "metadata": {},
   "outputs": [
    {
     "data": {
      "text/plain": [
       "np.True_"
      ]
     },
     "execution_count": 45,
     "metadata": {},
     "output_type": "execute_result"
    }
   ],
   "source": [
    "from sklearn.preprocessing import PolynomialFeatures\n",
    "\n",
    "poly = PolynomialFeatures(degree=2)\n",
    "poly_prime = poly.fit_transform(X_train)\n",
    "poly_prime = poly.transform(X_test)\n",
    "poly_double_prime = poly.fit_transform(X_test)\n",
    "\n",
    "poly_prime.all() == poly_double_prime.all()"
   ]
  },
  {
   "cell_type": "markdown",
   "metadata": {},
   "source": [
    "---\n",
    "## 4. Polynomial regression  (*)\n",
    "\n",
    "We will now investigate the training loss and testing loss for different degrees of polynomial. Loop through degrees 1 to 4 (inclusive) and:\n",
    "- instantiate an object of PolynomialFeatures with that degree\n",
    "- fit and transform $X_{train}'$ and $X_{test}$ to create polynomial features\n",
    "- perform linear regression on these polynomial features (polynomial regression)\n",
    "- predict on both the training and testing data to record RMSE for training and testing for each iteration of the loop\n",
    "\n",
    "Now plot the results in the same figure. Do you notice anything special? \n",
    "\n",
    "<details>\n",
    "\n",
    "<summary>Answer</summary>\n",
    "\n",
    "<img src=\"../assets/E3_overfitting.png\" height=\"300\"/>\n",
    "\n",
    "</details>"
   ]
  },
  {
   "cell_type": "code",
   "execution_count": 76,
   "metadata": {},
   "outputs": [
    {
     "data": {
      "image/png": "[encoded data removed]",
      "text/plain": [
       "<Figure size 640x480 with 1 Axes>"
      ]
     },
     "metadata": {},
     "output_type": "display_data"
    }
   ],
   "source": [
    "from sklearn.linear_model import LinearRegression\n",
    "from sklearn.metrics import root_mean_squared_error\n",
    "\n",
    "rmse = [] # [train, test]\n",
    "\n",
    "for d in range(4):\n",
    "    poly = PolynomialFeatures(degree=d)\n",
    "    X_train_d = poly.fit_transform(X_train)\n",
    "    X_test_d = poly.transform(X_test)\n",
    "    linear_model = LinearRegression()\n",
    "    linear_model.fit(X_train_d, y_train)\n",
    "    y_hat_train = linear_model.predict(X_train_d)\n",
    "    y_hat_test = linear_model.predict(X_test_d)\n",
    "    rmse_train = root_mean_squared_error(y_true=y_train, y_pred=y_hat_train)\n",
    "    rmse_test = root_mean_squared_error(y_test, y_hat_test)\n",
    "    rmse.append([rmse_train, rmse_test])\n",
    "\n",
    "arr = np.array(rmse)\n",
    "x = np.arange(1,5)\n",
    "sns.lineplot(x=x, y=arr[:, 0]) # train\n",
    "sns.lineplot(x=x, y=arr[:, 1]) # test\n",
    "plt.show()"
   ]
  },
  {
   "cell_type": "markdown",
   "metadata": {},
   "source": [
    "---\n",
    "## 5. Regularization methods (*)\n",
    "\n",
    "Now we will try the regularization methods: ridge regression, lasso regression and elasticnet regression. In the following tasks, use degree = 4. \n",
    "\n",
    "&nbsp; a) Use ridge regression with cross-validation and test out different alpha-values. I used $\\alpha=[0.01, 0.1, 0.5, 1, 5, 10]$ in the cross-validation. \n",
    "- Check which alpha, that the cross-validation chose as the best one. \n",
    "- Check the weights.\n",
    "- Check MAE, MSE, RMSE.\n",
    "\n",
    "&nbsp; b) Use lasso regression with cross-validation and choose number of alphas to 100. If you get a warning that the algorithm is not converging, increase the max iterations, I chose 10000 iterations. \n",
    "- Check which alpha, that the cross-validation chose as the best one. \n",
    "- Check the weights.\n",
    "- Check MAE, MSE, RMSE.\n",
    "\n",
    "&nbsp; c) Use elasticnet regression with cross-validation and choose number of alphas to 100. If you get a warning that the algorithm is not converging, increase the max iterations, I chose 10000 iterations. Choose a set of $\\ell_1$ ratios for it to try out. I chose $\\ell_1 = [.001, .01, .05, .1, .5, .9, .95, 1]$\n",
    "- Check which alpha, that the cross-validation chose as the best one. \n",
    "- Check the weights.\n",
    "- Check MAE, MSE, RMSE.\n",
    "\n",
    "<details>\n",
    "\n",
    "<summary>Answer</summary>\n",
    "\n",
    "a) \n",
    "\n",
    "Chosen alpha from cross-validation 5.0\n",
    "\n",
    "Weights: [ 0.          0.91469637  0.23893931 -0.67583593  0.20550801 -0.01369317\n",
    " -0.26007685  0.31867863 -0.03429744 -0.12484035  0.16000319 -0.18105113\n",
    "  0.24878399 -0.12692847  0.05002613]\n",
    "\n",
    "Mean absolute error: 0.831\n",
    "\n",
    "Mean squared error: 2.208\n",
    "\n",
    "Root mean squared error: 1.486\n",
    "\n",
    "b) \n",
    "\n",
    "Chosen alpha from cross-validation 0.208\n",
    "\n",
    "Weights: [ 0.          0.23469707  0.         -0.         -0.          0.\n",
    "  0.08814685  0.09735986  0.          0.03219702  0.          0.\n",
    "  0.         -0.          0.        ]\n",
    "\n",
    "Mean absolute error: 0.823\n",
    "\n",
    "Mean squared error: 1.345\n",
    "\n",
    "Root mean squared error: 1.160\n",
    "\n",
    "c)\n",
    "\n",
    "Chosen alpha from cross-validation 0.107\n",
    "\n",
    "Mean absolute error: 0.761\n",
    "\n",
    "Root mean squared error: 1.139\n",
    "\n",
    "L1_ratio: 0.9\n",
    "\n",
    "Weights: [ 0.          0.23469707  0.         -0.         -0.          0.\n",
    "  0.08814685  0.09735986  0.          0.03219702  0.          0.\n",
    "  0.         -0.          0.        ]\n",
    "\n",
    "\n",
    "</details>"
   ]
  },
  {
   "cell_type": "markdown",
   "metadata": {},
   "source": [
    "---\n",
    "\n",
    "Kokchun Giang\n",
    "\n",
    "[LinkedIn][linkedIn_kokchun]\n",
    "\n",
    "[GitHub portfolio][github_portfolio]\n",
    "\n",
    "[linkedIn_kokchun]: https://www.linkedin.com/in/kokchungiang/\n",
    "[github_portfolio]: https://github.com/kokchun/Portfolio-Kokchun-Giang\n",
    "\n",
    "---"
   ]
  }
 ],
 "metadata": {
  "kernelspec": {
   "display_name": ".venv",
   "language": "python",
   "name": "python3"
  },
  "language_info": {
   "codemirror_mode": {
    "name": "ipython",
    "version": 3
   },
   "file_extension": ".py",
   "mimetype": "text/x-python",
   "name": "python",
   "nbconvert_exporter": "python",
   "pygments_lexer": "ipython3",
   "version": "3.13.2"
  },
  "orig_nbformat": 4
 },
 "nbformat": 4,
 "nbformat_minor": 2
}
