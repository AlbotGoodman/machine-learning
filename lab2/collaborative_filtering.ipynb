{
 "cells": [
  {
   "cell_type": "markdown",
   "metadata": {},
   "source": [
    "# Collaborative filtering"
   ]
  },
  {
   "cell_type": "markdown",
   "metadata": {},
   "source": [
    "## Dependencies"
   ]
  },
  {
   "cell_type": "code",
   "execution_count": null,
   "metadata": {},
   "outputs": [],
   "source": [
    "import pandas as pd\n",
    "import numpy as np\n",
    "import seaborn as sns\n",
    "import matplotlib.pyplot as plt\n",
    "from scipy.sparse import csr_matrix\n",
    "from sklearn.decomposition import MiniBatchNMF\n",
    "from sklearn.metrics import mean_squared_error\n",
    "from sklearn.metrics.pairwise import cosine_similarity\n",
    "from sklearn.model_selection import RandomizedSearchCV\n",
    "import joblib\n",
    "\n",
    "\n",
    "ratings = pd.read_csv(\"../data/movielens/ratings.csv\", usecols=[\"user_id\", \"movie_id\", \"rating\"])"
   ]
  },
  {
   "cell_type": "markdown",
   "metadata": {},
   "source": [
    "## Preprocessing"
   ]
  },
  {
   "cell_type": "code",
   "execution_count": 6,
   "metadata": {},
   "outputs": [
    {
     "name": "stdout",
     "output_type": "stream",
     "text": [
      "There are 330975 users in the dataset.\n",
      "There are 83239 movies in the dataset.\n",
      "There are 33832162 ratings in the dataset.\n"
     ]
    }
   ],
   "source": [
    "n_users = ratings[\"user_id\"].nunique()\n",
    "n_movies = ratings[\"movie_id\"].nunique()\n",
    "n_ratings = ratings[\"rating\"].shape[0]\n",
    "\n",
    "print(f\"There are {n_users} users in the dataset.\")\n",
    "print(f\"There are {n_movies} movies in the dataset.\")\n",
    "print(f\"There are {n_ratings} ratings in the dataset.\")"
   ]
  },
  {
   "cell_type": "markdown",
   "metadata": {},
   "source": [
    "### Filtering"
   ]
  },
  {
   "cell_type": "markdown",
   "metadata": {},
   "source": [
    "#### Users"
   ]
  },
  {
   "cell_type": "code",
   "execution_count": 7,
   "metadata": {},
   "outputs": [
    {
     "name": "stdout",
     "output_type": "stream",
     "text": [
      "----USERS----\n",
      "Average ratings per user: 102\n",
      "Median ratings per user: 31\n",
      "Min ratings: 1\n",
      "25th quantile: 15\n",
      "50th quantile: 31\n",
      "75th quantile: 98\n",
      "90th quantile: 250\n",
      "95th quantile: 421\n",
      "Max ratings: 33332\n"
     ]
    },
    {
     "data": {
      "image/png": "[encoded data removed]",
      "text/plain": [
       "<Figure size 640x480 with 1 Axes>"
      ]
     },
     "metadata": {},
     "output_type": "display_data"
    }
   ],
   "source": [
    "# Finding stats on user ratings\n",
    "ratings_per_user = ratings.groupby(\"user_id\").size()\n",
    "print(\"----USERS----\")\n",
    "print(f\"Average ratings per user: {ratings_per_user.mean():.0f}\")\n",
    "print(f\"Median ratings per user: {ratings_per_user.median():.0f}\")\n",
    "print(f\"Min ratings: {ratings_per_user.min()}\")\n",
    "print(f\"25th quantile: {ratings_per_user.quantile(0.25):.0f}\")\n",
    "print(f\"50th quantile: {ratings_per_user.quantile(0.5):.0f}\")\n",
    "print(f\"75th quantile: {ratings_per_user.quantile(0.75):.0f}\")\n",
    "print(f\"90th quantile: {ratings_per_user.quantile(0.9):.0f}\")\n",
    "print(f\"95th quantile: {ratings_per_user.quantile(0.95):.0f}\")\n",
    "print(f\"Max ratings: {ratings_per_user.max()}\")\n",
    "\n",
    "sns.boxplot(y=ratings_per_user, color=\"skyblue\")\n",
    "plt.title(\"Ratings per User\")\n",
    "plt.xlabel(\"\")\n",
    "plt.ylabel(\"Number of ratings\")\n",
    "plt.grid(axis=\"y\")\n",
    "plt.show()"
   ]
  },
  {
   "cell_type": "code",
   "execution_count": 8,
   "metadata": {},
   "outputs": [],
   "source": [
    "# Filtering out users with few rating contributions\n",
    "user_rating_counts = ratings[\"user_id\"].value_counts()\n",
    "filtered_users = user_rating_counts[user_rating_counts >= ratings_per_user.quantile(0.50)].index\n",
    "filtered_ratings = ratings[ratings[\"user_id\"].isin(filtered_users)]\n",
    "\n",
    "# Calculate the number of ratings per user, then drop the users with fewer than cap and create a list of user_ids\n",
    "user_cap = int(ratings_per_user.quantile(0.9))\n",
    "user_whales_list = filtered_ratings.groupby(\"user_id\")[\"rating\"].size().apply(lambda x: x if x > user_cap else np.nan).dropna().index.tolist() # A whale is significantly larger than the average\n",
    "\n",
    "# Iterate over each user and sample {user_cap} number of ratings\n",
    "whales_collection = []\n",
    "user_whales_df = filtered_ratings[filtered_ratings[\"user_id\"].isin(user_whales_list)]\n",
    "for user, user_df in user_whales_df.groupby(\"user_id\"):\n",
    "    rand_idxs = np.random.choice(user_df.shape[0], user_cap, replace=False)\n",
    "    user_df_capped = user_df.iloc[rand_idxs]\n",
    "    whales_collection.append(user_df_capped)\n",
    "whales_capped = pd.concat(whales_collection)\n",
    "\n",
    "# Remove whale data and insert the sampled whale data\n",
    "filtered_ratings = filtered_ratings[filtered_ratings[\"user_id\"].isin(user_whales_list) == False]\n",
    "filtered_ratings = pd.concat([filtered_ratings, whales_capped], ignore_index=True)"
   ]
  },
  {
   "cell_type": "markdown",
   "metadata": {},
   "source": [
    "#### Movies"
   ]
  },
  {
   "cell_type": "code",
   "execution_count": 9,
   "metadata": {},
   "outputs": [
    {
     "name": "stdout",
     "output_type": "stream",
     "text": [
      "----MOVIES----\n",
      "Average ratings per movie: 369\n",
      "Median ratings per movie: 4\n",
      "Min ratings: 1\n",
      "25th quantile: 1\n",
      "50th quantile: 4\n",
      "75th quantile: 24\n",
      "90th quantile: 287\n",
      "95th quantile: 1143\n",
      "Max ratings: 81924\n"
     ]
    }
   ],
   "source": [
    "# Finding stats on movie ratings (after filtering users)\n",
    "ratings_per_movie = filtered_ratings.groupby(\"movie_id\").size()\n",
    "print(\"----MOVIES----\")\n",
    "print(f\"Average ratings per movie: {ratings_per_movie.mean():.0f}\")\n",
    "print(f\"Median ratings per movie: {ratings_per_movie.median():.0f}\")\n",
    "print(f\"Min ratings: {ratings_per_movie.min()}\")\n",
    "print(f\"25th quantile: {ratings_per_movie.quantile(0.25):.0f}\")\n",
    "print(f\"50th quantile: {ratings_per_movie.quantile(0.5):.0f}\")\n",
    "print(f\"75th quantile: {ratings_per_movie.quantile(0.75):.0f}\")\n",
    "print(f\"90th quantile: {ratings_per_movie.quantile(0.9):.0f}\")\n",
    "print(f\"95th quantile: {ratings_per_movie.quantile(0.95):.0f}\")\n",
    "print(f\"Max ratings: {ratings_per_movie.max()}\")"
   ]
  },
  {
   "cell_type": "code",
   "execution_count": 10,
   "metadata": {},
   "outputs": [],
   "source": [
    "# Filtering out movies with few ratings\n",
    "movie_rating_counts = filtered_ratings[\"movie_id\"].value_counts()\n",
    "filtered_movies = movie_rating_counts[movie_rating_counts >= ratings_per_movie.quantile(0.75)].index\n",
    "filtered_ratings = filtered_ratings[filtered_ratings[\"movie_id\"].isin(filtered_movies)]\n",
    "\n",
    "# Calculate the number of ratings per movie, then drop the movies with fewer than cap and create a list of movie_ids\n",
    "movie_cap = int(ratings_per_movie.quantile(0.9))\n",
    "movie_whales_list = filtered_ratings.groupby(\"movie_id\")[\"rating\"].size().apply(lambda x: x if x > movie_cap else np.nan).dropna().index.tolist()\n",
    "\n",
    "# Iterate over each movie and sample {movie_cap} number of ratings\n",
    "whales_collection = []\n",
    "movie_whales_df = filtered_ratings[filtered_ratings[\"movie_id\"].isin(movie_whales_list)]\n",
    "for movie, movie_df in movie_whales_df.groupby(\"movie_id\"):\n",
    "    rand_idxs = np.random.choice(movie_df.shape[0], movie_cap, replace=False)\n",
    "    movie_df_capped = movie_df.iloc[rand_idxs]\n",
    "    whales_collection.append(movie_df_capped)\n",
    "whales_capped = pd.concat(whales_collection)\n",
    "\n",
    "# Remove whale data and insert the sampled whale data\n",
    "filtered_ratings = filtered_ratings[filtered_ratings[\"movie_id\"].isin(movie_whales_list) == False]\n",
    "filtered_ratings = pd.concat([filtered_ratings, whales_capped], ignore_index=True)"
   ]
  },
  {
   "cell_type": "code",
   "execution_count": 11,
   "metadata": {},
   "outputs": [
    {
     "name": "stdout",
     "output_type": "stream",
     "text": [
      "There are now 155287 users in the dataset. 47% of the original dataset.\n",
      "There are now 14136 movies in the dataset. 17% of the original dataset.\n",
      "There are now 2399676 ratings in the dataset. 7% of the original dataset.\n"
     ]
    }
   ],
   "source": [
    "# Reviewing the filtered dataset\n",
    "n_users_filtered = filtered_ratings[\"user_id\"].nunique()\n",
    "n_movies_filtered = filtered_ratings[\"movie_id\"].nunique()\n",
    "n_ratings_filtered = filtered_ratings[\"rating\"].shape[0]\n",
    "print(f\"There are now {n_users_filtered} users in the dataset. {n_users_filtered / n_users:.0%} of the original dataset.\")\n",
    "print(f\"There are now {n_movies_filtered} movies in the dataset. {n_movies_filtered / n_movies:.0%} of the original dataset.\")\n",
    "print(f\"There are now {n_ratings_filtered} ratings in the dataset. {n_ratings_filtered / n_ratings:.0%} of the original dataset.\")"
   ]
  },
  {
   "cell_type": "code",
   "execution_count": 12,
   "metadata": {},
   "outputs": [],
   "source": [
    "# Returning the filtered dataset\n",
    "ratings = filtered_ratings"
   ]
  },
  {
   "cell_type": "markdown",
   "metadata": {},
   "source": [
    "### Scaling user ratings"
   ]
  },
  {
   "cell_type": "code",
   "execution_count": 11,
   "metadata": {},
   "outputs": [
    {
     "data": {
      "image/png": "[encoded data removed]",
      "text/plain": [
       "<Figure size 640x480 with 1 Axes>"
      ]
     },
     "metadata": {},
     "output_type": "display_data"
    }
   ],
   "source": [
    "# Visualising the rating distribution\n",
    "rating_distribution = ratings[\"rating\"].value_counts().to_dict()\n",
    "rating_distribution = dict(sorted(rating_distribution.items()))\n",
    "sns.barplot(x=list(rating_distribution.keys()), y=list(rating_distribution.values()), hue=list(rating_distribution.keys()), palette=\"viridis\", legend=False, zorder=2)\n",
    "plt.xlabel(\"Rating\")\n",
    "plt.ylabel(\"Count (millions)\")\n",
    "plt.title(\"Rating distribution\")\n",
    "plt.grid(axis=\"y\")\n",
    "plt.show()"
   ]
  },
  {
   "cell_type": "code",
   "execution_count": 13,
   "metadata": {},
   "outputs": [],
   "source": [
    "def scaler(df):\n",
    "    \"\"\"\n",
    "    Scales (standardising and normalising) the ratings of each user. \n",
    "    Standardising is necessary since the ratings overall are not normally distributed \n",
    "    and some users might always rate high, low or with a large variance. \n",
    "    Normalising is necessary since matrix factorisation can only handle non-negative values.\n",
    "\n",
    "    Arguments:\n",
    "    df -- DataFrame with user_id, movie_id and rating columns\n",
    "\n",
    "    Returns:\n",
    "    df -- DataFrame with user_id, movie_id and scaled rating columns\n",
    "    \"\"\"\n",
    "    df_collection = []\n",
    "    for user, user_df in df.groupby(\"user_id\"): \n",
    "        rating_values = user_df[\"rating\"].values\n",
    "        mean = np.mean(rating_values)\n",
    "        std = np.std(rating_values)\n",
    "        if std < 1e-10:\n",
    "            user_df[\"rating\"]=0.5 # if std is 0, set rating to 0.5 which is an average rating once ratings are normalised (0 to 1)\n",
    "        else:\n",
    "            std_values = (rating_values - mean) / std\n",
    "            min_std = np.min(std_values)\n",
    "            max_std = np.max(std_values)\n",
    "            user_df[\"rating\"] = (std_values - min_std) / (max_std - min_std)\n",
    "        df_collection.append(user_df) # stores dataframes in a list which are concatenated at the end\n",
    "    return pd.concat(df_collection)\n",
    "\n",
    "\n",
    "scaled_ratings = ratings.copy()\n",
    "scaled_ratings = scaler(scaled_ratings)"
   ]
  },
  {
   "cell_type": "code",
   "execution_count": 14,
   "metadata": {},
   "outputs": [
    {
     "data": {
      "text/html": [
       "<div>\n",
       "<style scoped>\n",
       "    .dataframe tbody tr th:only-of-type {\n",
       "        vertical-align: middle;\n",
       "    }\n",
       "\n",
       "    .dataframe tbody tr th {\n",
       "        vertical-align: top;\n",
       "    }\n",
       "\n",
       "    .dataframe thead th {\n",
       "        text-align: right;\n",
       "    }\n",
       "</style>\n",
       "<table border=\"1\" class=\"dataframe\">\n",
       "  <thead>\n",
       "    <tr style=\"text-align: right;\">\n",
       "      <th></th>\n",
       "      <th>user_id</th>\n",
       "      <th>movie_id</th>\n",
       "      <th>rating</th>\n",
       "    </tr>\n",
       "  </thead>\n",
       "  <tbody>\n",
       "    <tr>\n",
       "      <th>0</th>\n",
       "      <td>1</td>\n",
       "      <td>7122</td>\n",
       "      <td>1.0</td>\n",
       "    </tr>\n",
       "    <tr>\n",
       "      <th>1065517</th>\n",
       "      <td>1</td>\n",
       "      <td>1396</td>\n",
       "      <td>0.0</td>\n",
       "    </tr>\n",
       "  </tbody>\n",
       "</table>\n",
       "</div>"
      ],
      "text/plain": [
       "         user_id  movie_id  rating\n",
       "0              1      7122     1.0\n",
       "1065517        1      1396     0.0"
      ]
     },
     "execution_count": 14,
     "metadata": {},
     "output_type": "execute_result"
    }
   ],
   "source": [
    "scaled_ratings.head(2)"
   ]
  },
  {
   "cell_type": "code",
   "execution_count": 15,
   "metadata": {},
   "outputs": [],
   "source": [
    "ratings = scaled_ratings"
   ]
  },
  {
   "cell_type": "markdown",
   "metadata": {},
   "source": [
    "### User-movie matrix"
   ]
  },
  {
   "cell_type": "code",
   "execution_count": 16,
   "metadata": {},
   "outputs": [],
   "source": [
    "# Creating a user-movie matrix using pivot_table() crashes the kernel. \n",
    "# I tried creating a sparse matrix (see line below) with user_id, movie_id and rating as rows, columns and values but that resulted in a much larger matrix than users * movies. \n",
    "# sparse_matrix = coo_matrix((ratings[\"rating\"], (ratings[\"user_id\"], ratings[\"movie_id\"])))\n",
    "# From my understanding the issue is that the IDs are not contiguous (0, 1, 2, 3 ...) resulting in a shape of max_user_ID * max_movie_ID.\n",
    "# I asked Claude Sonnet 3.7 to: \"Modify the code to create a sparse matrix in the shape of users*movies.\"\n",
    "\n",
    "# Get unique user and movie IDs\n",
    "unique_users = np.sort(ratings[\"user_id\"].unique())\n",
    "unique_movies = np.sort(ratings[\"movie_id\"].unique())\n",
    "\n",
    "# Create mappings from original IDs to consecutive indices\n",
    "user_mapper = {user: i for i, user in enumerate(unique_users)}\n",
    "movie_mapper = {movie: i for i, movie in enumerate(unique_movies)}\n",
    "\n",
    "# Recovering the original user and movie IDs\n",
    "user_mapper_reverse = {i: user for i, user in enumerate(unique_users)}\n",
    "movie_mapper_reverse = {i: movie for i, movie in enumerate(unique_movies)}\n",
    "\n",
    "# Map original IDs to indices\n",
    "rows = np.array([user_mapper[user] for user in ratings[\"user_id\"]])\n",
    "cols = np.array([movie_mapper[movie] for movie in ratings[\"movie_id\"]])\n",
    "vals = ratings[\"rating\"].values\n",
    "\n",
    "# Create the sparse matrix with appropriate shape\n",
    "rating_matrix = csr_matrix((vals, (rows, cols)), shape=(len(unique_users), len(unique_movies)))"
   ]
  },
  {
   "cell_type": "code",
   "execution_count": 17,
   "metadata": {},
   "outputs": [
    {
     "name": "stdout",
     "output_type": "stream",
     "text": [
      "Only 0.109 % of the matrix contains ratings.\n"
     ]
    }
   ],
   "source": [
    "density = rating_matrix.nnz / (rating_matrix.shape[0] * rating_matrix.shape[1])\n",
    "print(f\"Only {density * 100:.3f} % of the matrix contains ratings.\") "
   ]
  },
  {
   "cell_type": "code",
   "execution_count": 17,
   "metadata": {},
   "outputs": [
    {
     "data": {
      "text/plain": [
       "(155312, 14156)"
      ]
     },
     "execution_count": 17,
     "metadata": {},
     "output_type": "execute_result"
    }
   ],
   "source": [
    "rating_matrix.shape"
   ]
  },
  {
   "cell_type": "markdown",
   "metadata": {},
   "source": [
    "## Matrix factorisation"
   ]
  },
  {
   "cell_type": "markdown",
   "metadata": {},
   "source": [
    "### Find the optimal regularisation value"
   ]
  },
  {
   "cell_type": "code",
   "execution_count": null,
   "metadata": {},
   "outputs": [],
   "source": [
    "from scipy.stats import uniform, loguniform\n",
    "\n",
    "# Using a random sample size instead of the whole matrix to increase performance\n",
    "sample_size = 1000\n",
    "sample_users = np.random.choice(rating_matrix.shape[0], sample_size, replace=False)\n",
    "sample_movies = np.random.choice(rating_matrix.shape[1], sample_size, replace=False)\n",
    "sample_matrix = rating_matrix[sample_users, :][:, sample_movies]\n",
    "\n",
    "model = MiniBatchNMF()\n",
    "params = {\n",
    "    \"alpha_H\": loguniform(1e-4, 1),\n",
    "    \"alpha_W\": loguniform(1e-4, 1),\n",
    "    \"l1_ratio\": uniform(0, 1),\n",
    "}\n",
    "\n",
    "rand_search = RandomizedSearchCV(\n",
    "    estimator=model,\n",
    "    param_distributions=params,\n",
    "    scoring=\"neg_root_mean_squared_error\",\n",
    "    n_jobs=-1\n",
    ")\n",
    "rand_search.fit(sample_matrix)\n",
    "print(f\"Best parameters: {rand_search.best_params_}\")"
   ]
  },
  {
   "cell_type": "markdown",
   "metadata": {},
   "source": [
    "### Find the optimal rank"
   ]
  },
  {
   "cell_type": "code",
   "execution_count": 21,
   "metadata": {},
   "outputs": [
    {
     "data": {
      "image/png": "[encoded data removed]",
      "text/plain": [
       "<Figure size 640x480 with 1 Axes>"
      ]
     },
     "metadata": {},
     "output_type": "display_data"
    }
   ],
   "source": [
    "rank_range = range(10, 411, 50)\n",
    "b = 5000\n",
    "sample_size = 1000\n",
    "RMSE_values = []\n",
    "sample_users = np.random.choice(rating_matrix.shape[0], sample_size, replace=False)\n",
    "sample_movies = np.random.choice(rating_matrix.shape[1], sample_size, replace=False)\n",
    "\n",
    "for n in rank_range:\n",
    "    model = MiniBatchNMF(\n",
    "        n_components=n,\n",
    "        batch_size=b,\n",
    "        l1_ratio=rand_search.best_params_[\"l1_ratio\"],\n",
    "        alpha_H=rand_search.best_params_[\"alpha_H\"],\n",
    "        alpha_W=rand_search.best_params_[\"alpha_W\"]\n",
    "    )\n",
    "    W = model.fit_transform(rating_matrix)\n",
    "    H = model.components_\n",
    "    V = np.dot(W[sample_users, :], H[:, sample_movies])\n",
    "    R = rating_matrix[sample_users, :][:, sample_movies].toarray()\n",
    "    RMSE = np.sqrt(mean_squared_error(R, V))\n",
    "    RMSE_values.append(RMSE)\n",
    "\n",
    "plt.plot(rank_range, RMSE_values, marker=\"o\")\n",
    "plt.xlabel(\"Rank\")\n",
    "plt.ylabel(\"RMSE\")\n",
    "plt.title(\"RMSE vs Rank\")\n",
    "plt.xticks(rank_range)\n",
    "plt.grid()\n",
    "plt.show()"
   ]
  },
  {
   "cell_type": "markdown",
   "metadata": {},
   "source": [
    "### MBNMF model"
   ]
  },
  {
   "cell_type": "code",
   "execution_count": 18,
   "metadata": {},
   "outputs": [
    {
     "name": "stdout",
     "output_type": "stream",
     "text": [
      "Shape of W: (155287, 150)\n",
      "Shape of H: (150, 14136)\n"
     ]
    }
   ],
   "source": [
    "n = 35 # 200 tog 10 min, 400 tog 30 min (laptop)\n",
    "\n",
    "nmf = MiniBatchNMF(n_components=150, batch_size=5000, alpha_W=0.001, alpha_H=0.01, l1_ratio=0.65)\n",
    "W = nmf.fit_transform(rating_matrix)    # W = latent user factors\n",
    "H = nmf.components_                     # H = latent movie factors\n",
    "print(f\"Shape of W: {W.shape}\")\n",
    "print(f\"Shape of H: {H.shape}\")"
   ]
  },
  {
   "cell_type": "markdown",
   "metadata": {},
   "source": [
    "## Movie data"
   ]
  },
  {
   "cell_type": "code",
   "execution_count": 19,
   "metadata": {},
   "outputs": [],
   "source": [
    "movies = pd.read_csv(\"../data/movielens/movies.csv\")"
   ]
  },
  {
   "cell_type": "code",
   "execution_count": 20,
   "metadata": {},
   "outputs": [
    {
     "data": {
      "text/plain": [
       "(86537, 3)"
      ]
     },
     "execution_count": 20,
     "metadata": {},
     "output_type": "execute_result"
    }
   ],
   "source": [
    "movies.shape"
   ]
  },
  {
   "cell_type": "code",
   "execution_count": 21,
   "metadata": {},
   "outputs": [],
   "source": [
    "movies = movies.drop(columns=\"genres\")\n",
    "movies = movies[movies[\"movie_id\"].isin(ratings[\"movie_id\"].unique())]"
   ]
  },
  {
   "cell_type": "code",
   "execution_count": 22,
   "metadata": {},
   "outputs": [
    {
     "data": {
      "text/plain": [
       "(14136, 2)"
      ]
     },
     "execution_count": 22,
     "metadata": {},
     "output_type": "execute_result"
    }
   ],
   "source": [
    "movies.shape"
   ]
  },
  {
   "cell_type": "markdown",
   "metadata": {},
   "source": [
    "## Recommendations"
   ]
  },
  {
   "cell_type": "code",
   "execution_count": 23,
   "metadata": {},
   "outputs": [],
   "source": [
    "pix = [152081, 134853, 6377]          # Zootopia, Inside Out, Finding Nemo\n",
    "mix = [1, 79132, 171011]              # Toy Story, Inception, Planet Earth II"
   ]
  },
  {
   "cell_type": "code",
   "execution_count": null,
   "metadata": {},
   "outputs": [
    {
     "data": {
      "text/html": [
       "<div>\n",
       "<style scoped>\n",
       "    .dataframe tbody tr th:only-of-type {\n",
       "        vertical-align: middle;\n",
       "    }\n",
       "\n",
       "    .dataframe tbody tr th {\n",
       "        vertical-align: top;\n",
       "    }\n",
       "\n",
       "    .dataframe thead th {\n",
       "        text-align: right;\n",
       "    }\n",
       "</style>\n",
       "<table border=\"1\" class=\"dataframe\">\n",
       "  <thead>\n",
       "    <tr style=\"text-align: right;\">\n",
       "      <th></th>\n",
       "      <th>movie_id</th>\n",
       "      <th>title</th>\n",
       "      <th>score</th>\n",
       "    </tr>\n",
       "  </thead>\n",
       "  <tbody>\n",
       "    <tr>\n",
       "      <th>0</th>\n",
       "      <td>179135</td>\n",
       "      <td>Blue Planet II (2017)</td>\n",
       "      <td>0.774327</td>\n",
       "    </tr>\n",
       "    <tr>\n",
       "      <th>1</th>\n",
       "      <td>159817</td>\n",
       "      <td>Planet Earth (2006)</td>\n",
       "      <td>0.773914</td>\n",
       "    </tr>\n",
       "    <tr>\n",
       "      <th>2</th>\n",
       "      <td>142115</td>\n",
       "      <td>The Blue Planet (2001)</td>\n",
       "      <td>0.746921</td>\n",
       "    </tr>\n",
       "    <tr>\n",
       "      <th>3</th>\n",
       "      <td>100044</td>\n",
       "      <td>Human Planet (2011)</td>\n",
       "      <td>0.736400</td>\n",
       "    </tr>\n",
       "    <tr>\n",
       "      <th>4</th>\n",
       "      <td>106489</td>\n",
       "      <td>Hobbit: The Desolation of Smaug, The (2013)</td>\n",
       "      <td>0.618579</td>\n",
       "    </tr>\n",
       "    <tr>\n",
       "      <th>5</th>\n",
       "      <td>59846</td>\n",
       "      <td>Iron Mask, The (1929)</td>\n",
       "      <td>0.615254</td>\n",
       "    </tr>\n",
       "    <tr>\n",
       "      <th>6</th>\n",
       "      <td>97752</td>\n",
       "      <td>Cloud Atlas (2012)</td>\n",
       "      <td>0.613551</td>\n",
       "    </tr>\n",
       "    <tr>\n",
       "      <th>7</th>\n",
       "      <td>106696</td>\n",
       "      <td>Frozen (2013)</td>\n",
       "      <td>0.605933</td>\n",
       "    </tr>\n",
       "    <tr>\n",
       "      <th>8</th>\n",
       "      <td>77846</td>\n",
       "      <td>12 Angry Men (1997)</td>\n",
       "      <td>0.603642</td>\n",
       "    </tr>\n",
       "    <tr>\n",
       "      <th>9</th>\n",
       "      <td>81591</td>\n",
       "      <td>Black Swan (2010)</td>\n",
       "      <td>0.602716</td>\n",
       "    </tr>\n",
       "  </tbody>\n",
       "</table>\n",
       "</div>"
      ],
      "text/plain": [
       "   movie_id                                        title     score\n",
       "0    179135                        Blue Planet II (2017)  0.774327\n",
       "1    159817                          Planet Earth (2006)  0.773914\n",
       "2    142115                       The Blue Planet (2001)  0.746921\n",
       "3    100044                          Human Planet (2011)  0.736400\n",
       "4    106489  Hobbit: The Desolation of Smaug, The (2013)  0.618579\n",
       "5     59846                        Iron Mask, The (1929)  0.615254\n",
       "6     97752                           Cloud Atlas (2012)  0.613551\n",
       "7    106696                                Frozen (2013)  0.605933\n",
       "8     77846                          12 Angry Men (1997)  0.603642\n",
       "9     81591                            Black Swan (2010)  0.602716"
      ]
     },
     "execution_count": 94,
     "metadata": {},
     "output_type": "execute_result"
    }
   ],
   "source": [
    "input_movies = mix\n",
    "n_recs = 10\n",
    "\n",
    "input_indices = [movie_mapper[movie] for movie in input_movies]\n",
    "input_matrix = H[:, input_indices].transpose()  # shape: (n_input_movies, n_factors)\n",
    "similarity_scores = cosine_similarity(input_matrix, H.T)  # shape: (n_input_movies, n_all_movies)\n",
    "\n",
    "# Find the highest similarity score for each candidate movie\n",
    "similarity_scores = np.max(similarity_scores, axis=0)  # shape: (n_all_movies, )\n",
    "similarity_scores[input_indices] = 0\n",
    "\n",
    "# Sort the scores without affecting the order\n",
    "sorted_scores = np.sort(similarity_scores)[::-1]\n",
    "sorted_indices = np.argsort(similarity_scores)[::-1]\n",
    "sorted_movies = [movie_mapper_reverse[idx] for idx in sorted_indices]\n",
    "\n",
    "# Create a DataFrame with the top recommendations\n",
    "movie_titles = [title for id in sorted_movies[:n_recs] for title in movies[movies[\"movie_id\"] == id][\"title\"].values]\n",
    "top_movies = [(movie, title, score) for movie, title, score in zip(sorted_movies, movie_titles, sorted_scores)][:n_recs]\n",
    "top_df = pd.DataFrame(top_movies, columns=[\"movie_id\", \"title\", \"score\"])\n",
    "top_df = top_df.sort_values(\"score\", ascending=False)\n",
    "\n",
    "\n",
    "\n",
    "# np.max() = recommends movies similar to any of the input movies"
   ]
  }
 ],
 "metadata": {
  "kernelspec": {
   "display_name": ".venv",
   "language": "python",
   "name": "python3"
  },
  "language_info": {
   "codemirror_mode": {
    "name": "ipython",
    "version": 3
   },
   "file_extension": ".py",
   "mimetype": "text/x-python",
   "name": "python",
   "nbconvert_exporter": "python",
   "pygments_lexer": "ipython3",
   "version": "3.12.3"
  }
 },
 "nbformat": 4,
 "nbformat_minor": 2
}
