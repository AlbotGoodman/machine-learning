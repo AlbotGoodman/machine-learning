{
 "cells": [
  {
   "cell_type": "markdown",
   "metadata": {},
   "source": [
    "# Collaborative filtering"
   ]
  },
  {
   "cell_type": "markdown",
   "metadata": {},
   "source": [
    "## Dependencies"
   ]
  },
  {
   "cell_type": "code",
   "execution_count": 1,
   "metadata": {},
   "outputs": [],
   "source": [
    "import pandas as pd\n",
    "import numpy as np\n",
    "import seaborn as sns\n",
    "import matplotlib.pyplot as plt\n",
    "from scipy.sparse import csr_matrix\n",
    "from sklearn.decomposition import MiniBatchNMF\n",
    "from sklearn.metrics import mean_squared_error\n",
    "from sklearn.model_selection import GridSearchCV"
   ]
  },
  {
   "cell_type": "code",
   "execution_count": 2,
   "metadata": {},
   "outputs": [],
   "source": [
    "ratings = pd.read_csv(\"../data/movielens/ratings.csv\")"
   ]
  },
  {
   "cell_type": "markdown",
   "metadata": {},
   "source": [
    "## Preprocessing"
   ]
  },
  {
   "cell_type": "code",
   "execution_count": 3,
   "metadata": {},
   "outputs": [
    {
     "data": {
      "text/html": [
       "<div>\n",
       "<style scoped>\n",
       "    .dataframe tbody tr th:only-of-type {\n",
       "        vertical-align: middle;\n",
       "    }\n",
       "\n",
       "    .dataframe tbody tr th {\n",
       "        vertical-align: top;\n",
       "    }\n",
       "\n",
       "    .dataframe thead th {\n",
       "        text-align: right;\n",
       "    }\n",
       "</style>\n",
       "<table border=\"1\" class=\"dataframe\">\n",
       "  <thead>\n",
       "    <tr style=\"text-align: right;\">\n",
       "      <th></th>\n",
       "      <th>user_id</th>\n",
       "      <th>movie_id</th>\n",
       "      <th>rating</th>\n",
       "    </tr>\n",
       "  </thead>\n",
       "  <tbody>\n",
       "    <tr>\n",
       "      <th>0</th>\n",
       "      <td>1</td>\n",
       "      <td>1</td>\n",
       "      <td>4.0</td>\n",
       "    </tr>\n",
       "    <tr>\n",
       "      <th>1</th>\n",
       "      <td>1</td>\n",
       "      <td>110</td>\n",
       "      <td>4.0</td>\n",
       "    </tr>\n",
       "  </tbody>\n",
       "</table>\n",
       "</div>"
      ],
      "text/plain": [
       "   user_id  movie_id  rating\n",
       "0        1         1     4.0\n",
       "1        1       110     4.0"
      ]
     },
     "execution_count": 3,
     "metadata": {},
     "output_type": "execute_result"
    }
   ],
   "source": [
    "ratings = ratings.drop(columns=\"timestamp\")\n",
    "ratings.head(2)"
   ]
  },
  {
   "cell_type": "code",
   "execution_count": 4,
   "metadata": {},
   "outputs": [
    {
     "name": "stdout",
     "output_type": "stream",
     "text": [
      "There are 330975 users in the dataset.\n",
      "There are 83239 movies in the dataset.\n",
      "There are 33832162 ratings in the dataset.\n"
     ]
    }
   ],
   "source": [
    "n_users = ratings[\"user_id\"].nunique()\n",
    "n_movies = ratings[\"movie_id\"].nunique()\n",
    "n_ratings = ratings[\"rating\"].shape[0]\n",
    "\n",
    "print(f\"There are {n_users} users in the dataset.\")\n",
    "print(f\"There are {n_movies} movies in the dataset.\")\n",
    "print(f\"There are {n_ratings} ratings in the dataset.\")"
   ]
  },
  {
   "cell_type": "markdown",
   "metadata": {},
   "source": [
    "### Filtering"
   ]
  },
  {
   "cell_type": "code",
   "execution_count": 5,
   "metadata": {},
   "outputs": [
    {
     "name": "stdout",
     "output_type": "stream",
     "text": [
      "Average ratings per user: 102.22\n",
      "Median ratings per user: 31.00\n",
      "Min ratings: 1\n",
      "Max ratings: 33332\n",
      "\n",
      "There are now 79469 users in the dataset. 24.01% of the original dataset.\n"
     ]
    }
   ],
   "source": [
    "# Finding stats on user ratings\n",
    "ratings_per_user = ratings.groupby(\"user_id\").size()\n",
    "print(f\"Average ratings per user: {ratings_per_user.mean():.2f}\")\n",
    "print(f\"Median ratings per user: {ratings_per_user.median():.2f}\")\n",
    "print(f\"Min ratings: {ratings_per_user.min()}\")\n",
    "print(f\"Max ratings: {ratings_per_user.max()}\")\n",
    "print()\n",
    "mean_user_rating = ratings_per_user.mean()\n",
    "\n",
    "# Filtering out users with less than the average number of ratings\n",
    "user_rating_counts = ratings[\"user_id\"].value_counts()\n",
    "average_users = user_rating_counts[user_rating_counts >= mean_user_rating].index\n",
    "filtered_ratings = ratings[ratings[\"user_id\"].isin(average_users)]\n",
    "\n",
    "# Reviewing the filtered dataset\n",
    "n_users_filtered = filtered_ratings[\"user_id\"].nunique()\n",
    "print(f\"There are now {n_users_filtered} users in the dataset. {n_users_filtered / n_users:.2%} of the original dataset.\")"
   ]
  },
  {
   "cell_type": "code",
   "execution_count": 6,
   "metadata": {},
   "outputs": [
    {
     "name": "stdout",
     "output_type": "stream",
     "text": [
      "Average ratings per movie: 406.45\n",
      "Median ratings per movie: 5.00\n",
      "Min ratings: 1\n",
      "Max ratings: 122296\n",
      "\n",
      "There are now 20821 movies in the dataset. 25.01% of the original dataset.\n"
     ]
    }
   ],
   "source": [
    "# Finding stats on movie ratings\n",
    "ratings_per_movie = ratings.groupby(\"movie_id\").size()\n",
    "print(f\"Average ratings per movie: {ratings_per_movie.mean():.2f}\")\n",
    "print(f\"Median ratings per movie: {ratings_per_movie.median():.2f}\")\n",
    "print(f\"Min ratings: {ratings_per_movie.min()}\")\n",
    "print(f\"Max ratings: {ratings_per_movie.max()}\")\n",
    "print()\n",
    "\n",
    "# Filtering out movies with few ratings\n",
    "movie_rating_counts = filtered_ratings[\"movie_id\"].value_counts()\n",
    "average_movies = movie_rating_counts[movie_rating_counts >= 25].index\n",
    "filtered_ratings = filtered_ratings[filtered_ratings[\"movie_id\"].isin(average_movies)]\n",
    "\n",
    "# Reviewing the filtered dataset\n",
    "n_movies_filtered = filtered_ratings[\"movie_id\"].nunique()\n",
    "print(f\"There are now {n_movies_filtered} movies in the dataset. {n_movies_filtered / n_movies:.2%} of the original dataset.\")"
   ]
  },
  {
   "cell_type": "code",
   "execution_count": 7,
   "metadata": {},
   "outputs": [
    {
     "name": "stdout",
     "output_type": "stream",
     "text": [
      "There are now 26167161 ratings in the dataset. 77.34% of the original dataset.\n"
     ]
    }
   ],
   "source": [
    "# Reviewing the number of ratings\n",
    "n_ratings_filtered = filtered_ratings[\"rating\"].shape[0]\n",
    "print(f\"There are now {n_ratings_filtered} ratings in the dataset. {n_ratings_filtered / n_ratings:.2%} of the original dataset.\")"
   ]
  },
  {
   "cell_type": "code",
   "execution_count": 8,
   "metadata": {},
   "outputs": [],
   "source": [
    "ratings = filtered_ratings"
   ]
  },
  {
   "cell_type": "markdown",
   "metadata": {},
   "source": [
    "### Scaling user ratings"
   ]
  },
  {
   "cell_type": "code",
   "execution_count": 10,
   "metadata": {},
   "outputs": [
    {
     "data": {
      "image/png": "[encoded data removed]",
      "text/plain": [
       "<Figure size 640x480 with 1 Axes>"
      ]
     },
     "metadata": {},
     "output_type": "display_data"
    }
   ],
   "source": [
    "# Visualising the rating distribution\n",
    "rating_distribution = ratings[\"rating\"].value_counts().to_dict()\n",
    "rating_distribution = dict(sorted(rating_distribution.items()))\n",
    "sns.barplot(x=list(rating_distribution.keys()), y=list(rating_distribution.values()), hue=list(rating_distribution.keys()), palette=\"viridis\", legend=False);"
   ]
  },
  {
   "cell_type": "code",
   "execution_count": 9,
   "metadata": {},
   "outputs": [],
   "source": [
    "def scaler(df):\n",
    "    \"\"\"\n",
    "    Scales (standardising and normalising) the ratings of each user. \n",
    "    Standardising is necessary since the ratings overall are not normally distributed \n",
    "    and some users might always rate high, low or with a large variance. \n",
    "    Normalising is necessary since matrix factorisation can only handle non-negative values.\n",
    "\n",
    "    Arguments:\n",
    "    df -- DataFrame with user_id, movie_id and rating columns\n",
    "\n",
    "    Returns:\n",
    "    df -- DataFrame with user_id, movie_id and scaled rating columns\n",
    "    \"\"\"\n",
    "    df_collection = []\n",
    "    for user, user_df in df.groupby(\"user_id\"): \n",
    "        rating_values = user_df[\"rating\"].values\n",
    "        mean = np.mean(rating_values)\n",
    "        std = np.std(rating_values)\n",
    "        if std < 1e-10:\n",
    "            user_df[\"rating\"]=0.5 # if std is 0, set rating to 0.5 which is an average rating once ratings are normalised (0 to 1)\n",
    "        else:\n",
    "            std_values = (rating_values - mean) / std\n",
    "            min_std = np.min(std_values)\n",
    "            max_std = np.max(std_values)\n",
    "            user_df[\"rating\"] = (std_values - min_std) / (max_std - min_std)\n",
    "        df_collection.append(user_df) # stores dataframes in a list which are concatenated at the end\n",
    "    return pd.concat(df_collection)\n",
    "\n",
    "\n",
    "scaled_ratings = ratings.copy()\n",
    "scaled_ratings = scaler(scaled_ratings)"
   ]
  },
  {
   "cell_type": "code",
   "execution_count": 10,
   "metadata": {},
   "outputs": [
    {
     "data": {
      "text/html": [
       "<div>\n",
       "<style scoped>\n",
       "    .dataframe tbody tr th:only-of-type {\n",
       "        vertical-align: middle;\n",
       "    }\n",
       "\n",
       "    .dataframe tbody tr th {\n",
       "        vertical-align: top;\n",
       "    }\n",
       "\n",
       "    .dataframe thead th {\n",
       "        text-align: right;\n",
       "    }\n",
       "</style>\n",
       "<table border=\"1\" class=\"dataframe\">\n",
       "  <thead>\n",
       "    <tr style=\"text-align: right;\">\n",
       "      <th></th>\n",
       "      <th>user_id</th>\n",
       "      <th>movie_id</th>\n",
       "      <th>rating</th>\n",
       "    </tr>\n",
       "  </thead>\n",
       "  <tbody>\n",
       "    <tr>\n",
       "      <th>304</th>\n",
       "      <td>7</td>\n",
       "      <td>1</td>\n",
       "      <td>0.666667</td>\n",
       "    </tr>\n",
       "    <tr>\n",
       "      <th>305</th>\n",
       "      <td>7</td>\n",
       "      <td>3</td>\n",
       "      <td>0.333333</td>\n",
       "    </tr>\n",
       "  </tbody>\n",
       "</table>\n",
       "</div>"
      ],
      "text/plain": [
       "     user_id  movie_id    rating\n",
       "304        7         1  0.666667\n",
       "305        7         3  0.333333"
      ]
     },
     "execution_count": 10,
     "metadata": {},
     "output_type": "execute_result"
    }
   ],
   "source": [
    "scaled_ratings.head(2)"
   ]
  },
  {
   "cell_type": "code",
   "execution_count": 11,
   "metadata": {},
   "outputs": [],
   "source": [
    "ratings = scaled_ratings"
   ]
  },
  {
   "cell_type": "markdown",
   "metadata": {},
   "source": [
    "### User-movie matrix"
   ]
  },
  {
   "cell_type": "code",
   "execution_count": 12,
   "metadata": {},
   "outputs": [],
   "source": [
    "# Creating a user-movie matrix using pivot_table() crashes the kernel. \n",
    "# I tried creating a sparse matrix (see line below) with user_id, movie_id and rating as rows, columns and values but that resulted in a much larger matrix than users*movies. \n",
    "# sparse_matrix = coo_matrix((ratings[\"rating\"], (ratings[\"user_id\"], ratings[\"movie_id\"])))\n",
    "# From my understanding the issue is that the IDs are not contiguous (0, 1, 2, 3 ...) resulting in a shape of max_user_ID*max_movie_ID.\n",
    "# I asked Claude Sonnet 3.7 to: \"Modify the code to create a sparse matrix in the shape of users*movies.\"\n",
    "\n",
    "# Get unique user and movie IDs\n",
    "unique_users = np.sort(ratings[\"user_id\"].unique())\n",
    "unique_movies = np.sort(ratings[\"movie_id\"].unique())\n",
    "\n",
    "# Create mappings from original IDs to consecutive indices\n",
    "user_mapper = {user: i for i, user in enumerate(unique_users)}\n",
    "movie_mapper = {movie: i for i, movie in enumerate(unique_movies)}\n",
    "\n",
    "# Recovering the original user and movie IDs\n",
    "# user???\n",
    "# movie???\n",
    "\n",
    "# Map original IDs to indices\n",
    "rows = np.array([user_mapper[user] for user in ratings[\"user_id\"]])\n",
    "cols = np.array([movie_mapper[movie] for movie in ratings[\"movie_id\"]])\n",
    "vals = ratings[\"rating\"].values\n",
    "\n",
    "# Create the sparse matrix with appropriate shape\n",
    "rating_matrix = csr_matrix((vals, (rows, cols)), shape=(len(unique_users), len(unique_movies)))"
   ]
  },
  {
   "cell_type": "code",
   "execution_count": 13,
   "metadata": {},
   "outputs": [
    {
     "name": "stdout",
     "output_type": "stream",
     "text": [
      "Only 1.581 % of the matrix contains ratings.\n"
     ]
    }
   ],
   "source": [
    "density = rating_matrix.nnz / (rating_matrix.shape[0] * rating_matrix.shape[1])\n",
    "print(f\"Only {density * 100:.3f} % of the matrix contains ratings.\") "
   ]
  },
  {
   "cell_type": "code",
   "execution_count": 14,
   "metadata": {},
   "outputs": [
    {
     "data": {
      "text/plain": [
       "(79469, 20821)"
      ]
     },
     "execution_count": 14,
     "metadata": {},
     "output_type": "execute_result"
    }
   ],
   "source": [
    "rating_matrix.shape"
   ]
  },
  {
   "cell_type": "markdown",
   "metadata": {},
   "source": [
    "## Matrix factorisation"
   ]
  },
  {
   "cell_type": "markdown",
   "metadata": {},
   "source": [
    "### Find the optimal rank"
   ]
  },
  {
   "cell_type": "code",
   "execution_count": 25,
   "metadata": {},
   "outputs": [
    {
     "data": {
      "image/png": "[encoded data removed]",
      "text/plain": [
       "<Figure size 640x480 with 1 Axes>"
      ]
     },
     "metadata": {},
     "output_type": "display_data"
    }
   ],
   "source": [
    "rank_range = range(5, 51, 5)\n",
    "b = 5000\n",
    "sample = 1000\n",
    "RMSE_values = []\n",
    "user_idxs = np.random.choice(rating_matrix.shape[0], sample, replace=False)\n",
    "item_idxs = np.random.choice(rating_matrix.shape[1], sample, replace=False)\n",
    "\n",
    "for n in rank_range:\n",
    "    model = MiniBatchNMF(\n",
    "        n_components=n,\n",
    "        batch_size=b\n",
    "    )\n",
    "    W = model.fit_transform(rating_matrix)\n",
    "    H = model.components_\n",
    "    V = np.dot(W[user_idxs, :], H[:, item_idxs])\n",
    "    R = rating_matrix[user_idxs, :][:, item_idxs].toarray()\n",
    "    RMSE = np.sqrt(mean_squared_error(R, V))\n",
    "    RMSE_values.append(RMSE)\n",
    "\n",
    "plt.plot(rank_range, RMSE_values, marker=\"o\")\n",
    "plt.xlabel(\"Rank\")\n",
    "plt.ylabel(\"RMSE\")\n",
    "plt.title(\"RMSE vs Rank\")\n",
    "plt.xticks(rank_range)\n",
    "plt.grid()\n",
    "plt.show()"
   ]
  },
  {
   "cell_type": "markdown",
   "metadata": {},
   "source": [
    "### Finding the optimal regularisation value"
   ]
  },
  {
   "cell_type": "code",
   "execution_count": null,
   "metadata": {},
   "outputs": [
    {
     "name": "stderr",
     "output_type": "stream",
     "text": [
      "/home/albotgoodman/coding/repos/machine-learning/.venv/lib/python3.12/site-packages/sklearn/model_selection/_validation.py:960: UserWarning: Scoring failed. The score on this train-test partition for these parameters will be set to nan. Details: \n",
      "Traceback (most recent call last):\n",
      "  File \"/home/albotgoodman/coding/repos/machine-learning/.venv/lib/python3.12/site-packages/sklearn/model_selection/_validation.py\", line 947, in _score\n",
      "    scores = scorer(estimator, X_test, **score_params)\n",
      "             ^^^^^^^^^^^^^^^^^^^^^^^^^^^^^^^^^^^^^^^^^\n",
      "TypeError: _BaseScorer.__call__() missing 1 required positional argument: 'y_true'\n",
      "\n",
      "  warnings.warn(\n",
      "/home/albotgoodman/coding/repos/machine-learning/.venv/lib/python3.12/site-packages/sklearn/model_selection/_validation.py:960: UserWarning: Scoring failed. The score on this train-test partition for these parameters will be set to nan. Details: \n",
      "Traceback (most recent call last):\n",
      "  File \"/home/albotgoodman/coding/repos/machine-learning/.venv/lib/python3.12/site-packages/sklearn/model_selection/_validation.py\", line 947, in _score\n",
      "    scores = scorer(estimator, X_test, **score_params)\n",
      "             ^^^^^^^^^^^^^^^^^^^^^^^^^^^^^^^^^^^^^^^^^\n",
      "TypeError: _BaseScorer.__call__() missing 1 required positional argument: 'y_true'\n",
      "\n",
      "  warnings.warn(\n",
      "/home/albotgoodman/coding/repos/machine-learning/.venv/lib/python3.12/site-packages/sklearn/model_selection/_validation.py:960: UserWarning: Scoring failed. The score on this train-test partition for these parameters will be set to nan. Details: \n",
      "Traceback (most recent call last):\n",
      "  File \"/home/albotgoodman/coding/repos/machine-learning/.venv/lib/python3.12/site-packages/sklearn/model_selection/_validation.py\", line 947, in _score\n",
      "    scores = scorer(estimator, X_test, **score_params)\n",
      "             ^^^^^^^^^^^^^^^^^^^^^^^^^^^^^^^^^^^^^^^^^\n",
      "TypeError: _BaseScorer.__call__() missing 1 required positional argument: 'y_true'\n",
      "\n",
      "  warnings.warn(\n",
      "/home/albotgoodman/coding/repos/machine-learning/.venv/lib/python3.12/site-packages/sklearn/model_selection/_validation.py:960: UserWarning: Scoring failed. The score on this train-test partition for these parameters will be set to nan. Details: \n",
      "Traceback (most recent call last):\n",
      "  File \"/home/albotgoodman/coding/repos/machine-learning/.venv/lib/python3.12/site-packages/sklearn/model_selection/_validation.py\", line 947, in _score\n",
      "    scores = scorer(estimator, X_test, **score_params)\n",
      "             ^^^^^^^^^^^^^^^^^^^^^^^^^^^^^^^^^^^^^^^^^\n",
      "TypeError: _BaseScorer.__call__() missing 1 required positional argument: 'y_true'\n",
      "\n",
      "  warnings.warn(\n",
      "/home/albotgoodman/coding/repos/machine-learning/.venv/lib/python3.12/site-packages/sklearn/model_selection/_validation.py:960: UserWarning: Scoring failed. The score on this train-test partition for these parameters will be set to nan. Details: \n",
      "Traceback (most recent call last):\n",
      "  File \"/home/albotgoodman/coding/repos/machine-learning/.venv/lib/python3.12/site-packages/sklearn/model_selection/_validation.py\", line 947, in _score\n",
      "    scores = scorer(estimator, X_test, **score_params)\n",
      "             ^^^^^^^^^^^^^^^^^^^^^^^^^^^^^^^^^^^^^^^^^\n",
      "TypeError: _BaseScorer.__call__() missing 1 required positional argument: 'y_true'\n",
      "\n",
      "  warnings.warn(\n",
      "/home/albotgoodman/coding/repos/machine-learning/.venv/lib/python3.12/site-packages/sklearn/model_selection/_validation.py:960: UserWarning: Scoring failed. The score on this train-test partition for these parameters will be set to nan. Details: \n",
      "Traceback (most recent call last):\n",
      "  File \"/home/albotgoodman/coding/repos/machine-learning/.venv/lib/python3.12/site-packages/sklearn/model_selection/_validation.py\", line 947, in _score\n",
      "    scores = scorer(estimator, X_test, **score_params)\n",
      "             ^^^^^^^^^^^^^^^^^^^^^^^^^^^^^^^^^^^^^^^^^\n",
      "TypeError: _BaseScorer.__call__() missing 1 required positional argument: 'y_true'\n",
      "\n",
      "  warnings.warn(\n",
      "/home/albotgoodman/coding/repos/machine-learning/.venv/lib/python3.12/site-packages/sklearn/model_selection/_validation.py:960: UserWarning: Scoring failed. The score on this train-test partition for these parameters will be set to nan. Details: \n",
      "Traceback (most recent call last):\n",
      "  File \"/home/albotgoodman/coding/repos/machine-learning/.venv/lib/python3.12/site-packages/sklearn/model_selection/_validation.py\", line 947, in _score\n",
      "    scores = scorer(estimator, X_test, **score_params)\n",
      "             ^^^^^^^^^^^^^^^^^^^^^^^^^^^^^^^^^^^^^^^^^\n",
      "TypeError: _BaseScorer.__call__() missing 1 required positional argument: 'y_true'\n",
      "\n",
      "  warnings.warn(\n",
      "/home/albotgoodman/coding/repos/machine-learning/.venv/lib/python3.12/site-packages/sklearn/model_selection/_validation.py:960: UserWarning: Scoring failed. The score on this train-test partition for these parameters will be set to nan. Details: \n",
      "Traceback (most recent call last):\n",
      "  File \"/home/albotgoodman/coding/repos/machine-learning/.venv/lib/python3.12/site-packages/sklearn/model_selection/_validation.py\", line 947, in _score\n",
      "    scores = scorer(estimator, X_test, **score_params)\n",
      "             ^^^^^^^^^^^^^^^^^^^^^^^^^^^^^^^^^^^^^^^^^\n",
      "TypeError: _BaseScorer.__call__() missing 1 required positional argument: 'y_true'\n",
      "\n",
      "  warnings.warn(\n",
      "/home/albotgoodman/coding/repos/machine-learning/.venv/lib/python3.12/site-packages/sklearn/model_selection/_validation.py:960: UserWarning: Scoring failed. The score on this train-test partition for these parameters will be set to nan. Details: \n",
      "Traceback (most recent call last):\n",
      "  File \"/home/albotgoodman/coding/repos/machine-learning/.venv/lib/python3.12/site-packages/sklearn/model_selection/_validation.py\", line 947, in _score\n",
      "    scores = scorer(estimator, X_test, **score_params)\n",
      "             ^^^^^^^^^^^^^^^^^^^^^^^^^^^^^^^^^^^^^^^^^\n",
      "TypeError: _BaseScorer.__call__() missing 1 required positional argument: 'y_true'\n",
      "\n",
      "  warnings.warn(\n",
      "/home/albotgoodman/coding/repos/machine-learning/.venv/lib/python3.12/site-packages/sklearn/model_selection/_validation.py:960: UserWarning: Scoring failed. The score on this train-test partition for these parameters will be set to nan. Details: \n",
      "Traceback (most recent call last):\n",
      "  File \"/home/albotgoodman/coding/repos/machine-learning/.venv/lib/python3.12/site-packages/sklearn/model_selection/_validation.py\", line 947, in _score\n",
      "    scores = scorer(estimator, X_test, **score_params)\n",
      "             ^^^^^^^^^^^^^^^^^^^^^^^^^^^^^^^^^^^^^^^^^\n",
      "TypeError: _BaseScorer.__call__() missing 1 required positional argument: 'y_true'\n",
      "\n",
      "  warnings.warn(\n",
      "/home/albotgoodman/coding/repos/machine-learning/.venv/lib/python3.12/site-packages/sklearn/model_selection/_validation.py:960: UserWarning: Scoring failed. The score on this train-test partition for these parameters will be set to nan. Details: \n",
      "Traceback (most recent call last):\n",
      "  File \"/home/albotgoodman/coding/repos/machine-learning/.venv/lib/python3.12/site-packages/sklearn/model_selection/_validation.py\", line 947, in _score\n",
      "    scores = scorer(estimator, X_test, **score_params)\n",
      "             ^^^^^^^^^^^^^^^^^^^^^^^^^^^^^^^^^^^^^^^^^\n",
      "TypeError: _BaseScorer.__call__() missing 1 required positional argument: 'y_true'\n",
      "\n",
      "  warnings.warn(\n",
      "/home/albotgoodman/coding/repos/machine-learning/.venv/lib/python3.12/site-packages/sklearn/model_selection/_validation.py:960: UserWarning: Scoring failed. The score on this train-test partition for these parameters will be set to nan. Details: \n",
      "Traceback (most recent call last):\n",
      "  File \"/home/albotgoodman/coding/repos/machine-learning/.venv/lib/python3.12/site-packages/sklearn/model_selection/_validation.py\", line 947, in _score\n",
      "    scores = scorer(estimator, X_test, **score_params)\n",
      "             ^^^^^^^^^^^^^^^^^^^^^^^^^^^^^^^^^^^^^^^^^\n",
      "TypeError: _BaseScorer.__call__() missing 1 required positional argument: 'y_true'\n",
      "\n",
      "  warnings.warn(\n",
      "/home/albotgoodman/coding/repos/machine-learning/.venv/lib/python3.12/site-packages/sklearn/model_selection/_validation.py:960: UserWarning: Scoring failed. The score on this train-test partition for these parameters will be set to nan. Details: \n",
      "Traceback (most recent call last):\n",
      "  File \"/home/albotgoodman/coding/repos/machine-learning/.venv/lib/python3.12/site-packages/sklearn/model_selection/_validation.py\", line 947, in _score\n",
      "    scores = scorer(estimator, X_test, **score_params)\n",
      "             ^^^^^^^^^^^^^^^^^^^^^^^^^^^^^^^^^^^^^^^^^\n",
      "TypeError: _BaseScorer.__call__() missing 1 required positional argument: 'y_true'\n",
      "\n",
      "  warnings.warn(\n",
      "/home/albotgoodman/coding/repos/machine-learning/.venv/lib/python3.12/site-packages/sklearn/model_selection/_validation.py:960: UserWarning: Scoring failed. The score on this train-test partition for these parameters will be set to nan. Details: \n",
      "Traceback (most recent call last):\n",
      "  File \"/home/albotgoodman/coding/repos/machine-learning/.venv/lib/python3.12/site-packages/sklearn/model_selection/_validation.py\", line 947, in _score\n",
      "    scores = scorer(estimator, X_test, **score_params)\n",
      "             ^^^^^^^^^^^^^^^^^^^^^^^^^^^^^^^^^^^^^^^^^\n",
      "TypeError: _BaseScorer.__call__() missing 1 required positional argument: 'y_true'\n",
      "\n",
      "  warnings.warn(\n",
      "/home/albotgoodman/coding/repos/machine-learning/.venv/lib/python3.12/site-packages/sklearn/model_selection/_validation.py:960: UserWarning: Scoring failed. The score on this train-test partition for these parameters will be set to nan. Details: \n",
      "Traceback (most recent call last):\n",
      "  File \"/home/albotgoodman/coding/repos/machine-learning/.venv/lib/python3.12/site-packages/sklearn/model_selection/_validation.py\", line 947, in _score\n",
      "    scores = scorer(estimator, X_test, **score_params)\n",
      "             ^^^^^^^^^^^^^^^^^^^^^^^^^^^^^^^^^^^^^^^^^\n",
      "TypeError: _BaseScorer.__call__() missing 1 required positional argument: 'y_true'\n",
      "\n",
      "  warnings.warn(\n",
      "/home/albotgoodman/coding/repos/machine-learning/.venv/lib/python3.12/site-packages/sklearn/model_selection/_validation.py:960: UserWarning: Scoring failed. The score on this train-test partition for these parameters will be set to nan. Details: \n",
      "Traceback (most recent call last):\n",
      "  File \"/home/albotgoodman/coding/repos/machine-learning/.venv/lib/python3.12/site-packages/sklearn/model_selection/_validation.py\", line 947, in _score\n",
      "    scores = scorer(estimator, X_test, **score_params)\n",
      "             ^^^^^^^^^^^^^^^^^^^^^^^^^^^^^^^^^^^^^^^^^\n",
      "TypeError: _BaseScorer.__call__() missing 1 required positional argument: 'y_true'\n",
      "\n",
      "  warnings.warn(\n",
      "/home/albotgoodman/coding/repos/machine-learning/.venv/lib/python3.12/site-packages/sklearn/model_selection/_validation.py:960: UserWarning: Scoring failed. The score on this train-test partition for these parameters will be set to nan. Details: \n",
      "Traceback (most recent call last):\n",
      "  File \"/home/albotgoodman/coding/repos/machine-learning/.venv/lib/python3.12/site-packages/sklearn/model_selection/_validation.py\", line 947, in _score\n",
      "    scores = scorer(estimator, X_test, **score_params)\n",
      "             ^^^^^^^^^^^^^^^^^^^^^^^^^^^^^^^^^^^^^^^^^\n",
      "TypeError: _BaseScorer.__call__() missing 1 required positional argument: 'y_true'\n",
      "\n",
      "  warnings.warn(\n",
      "/home/albotgoodman/coding/repos/machine-learning/.venv/lib/python3.12/site-packages/sklearn/model_selection/_validation.py:960: UserWarning: Scoring failed. The score on this train-test partition for these parameters will be set to nan. Details: \n",
      "Traceback (most recent call last):\n",
      "  File \"/home/albotgoodman/coding/repos/machine-learning/.venv/lib/python3.12/site-packages/sklearn/model_selection/_validation.py\", line 947, in _score\n",
      "    scores = scorer(estimator, X_test, **score_params)\n",
      "             ^^^^^^^^^^^^^^^^^^^^^^^^^^^^^^^^^^^^^^^^^\n",
      "TypeError: _BaseScorer.__call__() missing 1 required positional argument: 'y_true'\n",
      "\n",
      "  warnings.warn(\n",
      "/home/albotgoodman/coding/repos/machine-learning/.venv/lib/python3.12/site-packages/sklearn/model_selection/_validation.py:960: UserWarning: Scoring failed. The score on this train-test partition for these parameters will be set to nan. Details: \n",
      "Traceback (most recent call last):\n",
      "  File \"/home/albotgoodman/coding/repos/machine-learning/.venv/lib/python3.12/site-packages/sklearn/model_selection/_validation.py\", line 947, in _score\n",
      "    scores = scorer(estimator, X_test, **score_params)\n",
      "             ^^^^^^^^^^^^^^^^^^^^^^^^^^^^^^^^^^^^^^^^^\n",
      "TypeError: _BaseScorer.__call__() missing 1 required positional argument: 'y_true'\n",
      "\n",
      "  warnings.warn(\n",
      "/home/albotgoodman/coding/repos/machine-learning/.venv/lib/python3.12/site-packages/sklearn/model_selection/_validation.py:960: UserWarning: Scoring failed. The score on this train-test partition for these parameters will be set to nan. Details: \n",
      "Traceback (most recent call last):\n",
      "  File \"/home/albotgoodman/coding/repos/machine-learning/.venv/lib/python3.12/site-packages/sklearn/model_selection/_validation.py\", line 947, in _score\n",
      "    scores = scorer(estimator, X_test, **score_params)\n",
      "             ^^^^^^^^^^^^^^^^^^^^^^^^^^^^^^^^^^^^^^^^^\n",
      "TypeError: _BaseScorer.__call__() missing 1 required positional argument: 'y_true'\n",
      "\n",
      "  warnings.warn(\n",
      "/home/albotgoodman/coding/repos/machine-learning/.venv/lib/python3.12/site-packages/sklearn/model_selection/_validation.py:960: UserWarning: Scoring failed. The score on this train-test partition for these parameters will be set to nan. Details: \n",
      "Traceback (most recent call last):\n",
      "  File \"/home/albotgoodman/coding/repos/machine-learning/.venv/lib/python3.12/site-packages/sklearn/model_selection/_validation.py\", line 947, in _score\n",
      "    scores = scorer(estimator, X_test, **score_params)\n",
      "             ^^^^^^^^^^^^^^^^^^^^^^^^^^^^^^^^^^^^^^^^^\n",
      "TypeError: _BaseScorer.__call__() missing 1 required positional argument: 'y_true'\n",
      "\n",
      "  warnings.warn(\n",
      "/home/albotgoodman/coding/repos/machine-learning/.venv/lib/python3.12/site-packages/sklearn/model_selection/_validation.py:960: UserWarning: Scoring failed. The score on this train-test partition for these parameters will be set to nan. Details: \n",
      "Traceback (most recent call last):\n",
      "  File \"/home/albotgoodman/coding/repos/machine-learning/.venv/lib/python3.12/site-packages/sklearn/model_selection/_validation.py\", line 947, in _score\n",
      "    scores = scorer(estimator, X_test, **score_params)\n",
      "             ^^^^^^^^^^^^^^^^^^^^^^^^^^^^^^^^^^^^^^^^^\n",
      "TypeError: _BaseScorer.__call__() missing 1 required positional argument: 'y_true'\n",
      "\n",
      "  warnings.warn(\n",
      "/home/albotgoodman/coding/repos/machine-learning/.venv/lib/python3.12/site-packages/sklearn/model_selection/_validation.py:960: UserWarning: Scoring failed. The score on this train-test partition for these parameters will be set to nan. Details: \n",
      "Traceback (most recent call last):\n",
      "  File \"/home/albotgoodman/coding/repos/machine-learning/.venv/lib/python3.12/site-packages/sklearn/model_selection/_validation.py\", line 947, in _score\n",
      "    scores = scorer(estimator, X_test, **score_params)\n",
      "             ^^^^^^^^^^^^^^^^^^^^^^^^^^^^^^^^^^^^^^^^^\n",
      "TypeError: _BaseScorer.__call__() missing 1 required positional argument: 'y_true'\n",
      "\n",
      "  warnings.warn(\n",
      "/home/albotgoodman/coding/repos/machine-learning/.venv/lib/python3.12/site-packages/sklearn/model_selection/_validation.py:960: UserWarning: Scoring failed. The score on this train-test partition for these parameters will be set to nan. Details: \n",
      "Traceback (most recent call last):\n",
      "  File \"/home/albotgoodman/coding/repos/machine-learning/.venv/lib/python3.12/site-packages/sklearn/model_selection/_validation.py\", line 947, in _score\n",
      "    scores = scorer(estimator, X_test, **score_params)\n",
      "             ^^^^^^^^^^^^^^^^^^^^^^^^^^^^^^^^^^^^^^^^^\n",
      "TypeError: _BaseScorer.__call__() missing 1 required positional argument: 'y_true'\n",
      "\n",
      "  warnings.warn(\n",
      "/home/albotgoodman/coding/repos/machine-learning/.venv/lib/python3.12/site-packages/sklearn/model_selection/_validation.py:960: UserWarning: Scoring failed. The score on this train-test partition for these parameters will be set to nan. Details: \n",
      "Traceback (most recent call last):\n",
      "  File \"/home/albotgoodman/coding/repos/machine-learning/.venv/lib/python3.12/site-packages/sklearn/model_selection/_validation.py\", line 947, in _score\n",
      "    scores = scorer(estimator, X_test, **score_params)\n",
      "             ^^^^^^^^^^^^^^^^^^^^^^^^^^^^^^^^^^^^^^^^^\n",
      "TypeError: _BaseScorer.__call__() missing 1 required positional argument: 'y_true'\n",
      "\n",
      "  warnings.warn(\n",
      "/home/albotgoodman/coding/repos/machine-learning/.venv/lib/python3.12/site-packages/sklearn/model_selection/_validation.py:960: UserWarning: Scoring failed. The score on this train-test partition for these parameters will be set to nan. Details: \n",
      "Traceback (most recent call last):\n",
      "  File \"/home/albotgoodman/coding/repos/machine-learning/.venv/lib/python3.12/site-packages/sklearn/model_selection/_validation.py\", line 947, in _score\n",
      "    scores = scorer(estimator, X_test, **score_params)\n",
      "             ^^^^^^^^^^^^^^^^^^^^^^^^^^^^^^^^^^^^^^^^^\n",
      "TypeError: _BaseScorer.__call__() missing 1 required positional argument: 'y_true'\n",
      "\n",
      "  warnings.warn(\n",
      "/home/albotgoodman/coding/repos/machine-learning/.venv/lib/python3.12/site-packages/sklearn/model_selection/_validation.py:960: UserWarning: Scoring failed. The score on this train-test partition for these parameters will be set to nan. Details: \n",
      "Traceback (most recent call last):\n",
      "  File \"/home/albotgoodman/coding/repos/machine-learning/.venv/lib/python3.12/site-packages/sklearn/model_selection/_validation.py\", line 947, in _score\n",
      "    scores = scorer(estimator, X_test, **score_params)\n",
      "             ^^^^^^^^^^^^^^^^^^^^^^^^^^^^^^^^^^^^^^^^^\n",
      "TypeError: _BaseScorer.__call__() missing 1 required positional argument: 'y_true'\n",
      "\n",
      "  warnings.warn(\n",
      "/home/albotgoodman/coding/repos/machine-learning/.venv/lib/python3.12/site-packages/sklearn/model_selection/_validation.py:960: UserWarning: Scoring failed. The score on this train-test partition for these parameters will be set to nan. Details: \n",
      "Traceback (most recent call last):\n",
      "  File \"/home/albotgoodman/coding/repos/machine-learning/.venv/lib/python3.12/site-packages/sklearn/model_selection/_validation.py\", line 947, in _score\n",
      "    scores = scorer(estimator, X_test, **score_params)\n",
      "             ^^^^^^^^^^^^^^^^^^^^^^^^^^^^^^^^^^^^^^^^^\n",
      "TypeError: _BaseScorer.__call__() missing 1 required positional argument: 'y_true'\n",
      "\n",
      "  warnings.warn(\n",
      "/home/albotgoodman/coding/repos/machine-learning/.venv/lib/python3.12/site-packages/sklearn/model_selection/_validation.py:960: UserWarning: Scoring failed. The score on this train-test partition for these parameters will be set to nan. Details: \n",
      "Traceback (most recent call last):\n",
      "  File \"/home/albotgoodman/coding/repos/machine-learning/.venv/lib/python3.12/site-packages/sklearn/model_selection/_validation.py\", line 947, in _score\n",
      "    scores = scorer(estimator, X_test, **score_params)\n",
      "             ^^^^^^^^^^^^^^^^^^^^^^^^^^^^^^^^^^^^^^^^^\n",
      "TypeError: _BaseScorer.__call__() missing 1 required positional argument: 'y_true'\n",
      "\n",
      "  warnings.warn(\n",
      "/home/albotgoodman/coding/repos/machine-learning/.venv/lib/python3.12/site-packages/sklearn/model_selection/_validation.py:960: UserWarning: Scoring failed. The score on this train-test partition for these parameters will be set to nan. Details: \n",
      "Traceback (most recent call last):\n",
      "  File \"/home/albotgoodman/coding/repos/machine-learning/.venv/lib/python3.12/site-packages/sklearn/model_selection/_validation.py\", line 947, in _score\n",
      "    scores = scorer(estimator, X_test, **score_params)\n",
      "             ^^^^^^^^^^^^^^^^^^^^^^^^^^^^^^^^^^^^^^^^^\n",
      "TypeError: _BaseScorer.__call__() missing 1 required positional argument: 'y_true'\n",
      "\n",
      "  warnings.warn(\n",
      "/home/albotgoodman/coding/repos/machine-learning/.venv/lib/python3.12/site-packages/sklearn/model_selection/_validation.py:960: UserWarning: Scoring failed. The score on this train-test partition for these parameters will be set to nan. Details: \n",
      "Traceback (most recent call last):\n",
      "  File \"/home/albotgoodman/coding/repos/machine-learning/.venv/lib/python3.12/site-packages/sklearn/model_selection/_validation.py\", line 947, in _score\n",
      "    scores = scorer(estimator, X_test, **score_params)\n",
      "             ^^^^^^^^^^^^^^^^^^^^^^^^^^^^^^^^^^^^^^^^^\n",
      "TypeError: _BaseScorer.__call__() missing 1 required positional argument: 'y_true'\n",
      "\n",
      "  warnings.warn(\n",
      "/home/albotgoodman/coding/repos/machine-learning/.venv/lib/python3.12/site-packages/sklearn/model_selection/_validation.py:960: UserWarning: Scoring failed. The score on this train-test partition for these parameters will be set to nan. Details: \n",
      "Traceback (most recent call last):\n",
      "  File \"/home/albotgoodman/coding/repos/machine-learning/.venv/lib/python3.12/site-packages/sklearn/model_selection/_validation.py\", line 947, in _score\n",
      "    scores = scorer(estimator, X_test, **score_params)\n",
      "             ^^^^^^^^^^^^^^^^^^^^^^^^^^^^^^^^^^^^^^^^^\n",
      "TypeError: _BaseScorer.__call__() missing 1 required positional argument: 'y_true'\n",
      "\n",
      "  warnings.warn(\n",
      "/home/albotgoodman/coding/repos/machine-learning/.venv/lib/python3.12/site-packages/sklearn/model_selection/_validation.py:960: UserWarning: Scoring failed. The score on this train-test partition for these parameters will be set to nan. Details: \n",
      "Traceback (most recent call last):\n",
      "  File \"/home/albotgoodman/coding/repos/machine-learning/.venv/lib/python3.12/site-packages/sklearn/model_selection/_validation.py\", line 947, in _score\n",
      "    scores = scorer(estimator, X_test, **score_params)\n",
      "             ^^^^^^^^^^^^^^^^^^^^^^^^^^^^^^^^^^^^^^^^^\n",
      "TypeError: _BaseScorer.__call__() missing 1 required positional argument: 'y_true'\n",
      "\n",
      "  warnings.warn(\n",
      "/home/albotgoodman/coding/repos/machine-learning/.venv/lib/python3.12/site-packages/sklearn/model_selection/_validation.py:960: UserWarning: Scoring failed. The score on this train-test partition for these parameters will be set to nan. Details: \n",
      "Traceback (most recent call last):\n",
      "  File \"/home/albotgoodman/coding/repos/machine-learning/.venv/lib/python3.12/site-packages/sklearn/model_selection/_validation.py\", line 947, in _score\n",
      "    scores = scorer(estimator, X_test, **score_params)\n",
      "             ^^^^^^^^^^^^^^^^^^^^^^^^^^^^^^^^^^^^^^^^^\n",
      "TypeError: _BaseScorer.__call__() missing 1 required positional argument: 'y_true'\n",
      "\n",
      "  warnings.warn(\n",
      "/home/albotgoodman/coding/repos/machine-learning/.venv/lib/python3.12/site-packages/sklearn/model_selection/_validation.py:960: UserWarning: Scoring failed. The score on this train-test partition for these parameters will be set to nan. Details: \n",
      "Traceback (most recent call last):\n",
      "  File \"/home/albotgoodman/coding/repos/machine-learning/.venv/lib/python3.12/site-packages/sklearn/model_selection/_validation.py\", line 947, in _score\n",
      "    scores = scorer(estimator, X_test, **score_params)\n",
      "             ^^^^^^^^^^^^^^^^^^^^^^^^^^^^^^^^^^^^^^^^^\n",
      "TypeError: _BaseScorer.__call__() missing 1 required positional argument: 'y_true'\n",
      "\n",
      "  warnings.warn(\n",
      "/home/albotgoodman/coding/repos/machine-learning/.venv/lib/python3.12/site-packages/sklearn/model_selection/_validation.py:960: UserWarning: Scoring failed. The score on this train-test partition for these parameters will be set to nan. Details: \n",
      "Traceback (most recent call last):\n",
      "  File \"/home/albotgoodman/coding/repos/machine-learning/.venv/lib/python3.12/site-packages/sklearn/model_selection/_validation.py\", line 947, in _score\n",
      "    scores = scorer(estimator, X_test, **score_params)\n",
      "             ^^^^^^^^^^^^^^^^^^^^^^^^^^^^^^^^^^^^^^^^^\n",
      "TypeError: _BaseScorer.__call__() missing 1 required positional argument: 'y_true'\n",
      "\n",
      "  warnings.warn(\n",
      "/home/albotgoodman/coding/repos/machine-learning/.venv/lib/python3.12/site-packages/sklearn/model_selection/_validation.py:960: UserWarning: Scoring failed. The score on this train-test partition for these parameters will be set to nan. Details: \n",
      "Traceback (most recent call last):\n",
      "  File \"/home/albotgoodman/coding/repos/machine-learning/.venv/lib/python3.12/site-packages/sklearn/model_selection/_validation.py\", line 947, in _score\n",
      "    scores = scorer(estimator, X_test, **score_params)\n",
      "             ^^^^^^^^^^^^^^^^^^^^^^^^^^^^^^^^^^^^^^^^^\n",
      "TypeError: _BaseScorer.__call__() missing 1 required positional argument: 'y_true'\n",
      "\n",
      "  warnings.warn(\n",
      "/home/albotgoodman/coding/repos/machine-learning/.venv/lib/python3.12/site-packages/sklearn/model_selection/_validation.py:960: UserWarning: Scoring failed. The score on this train-test partition for these parameters will be set to nan. Details: \n",
      "Traceback (most recent call last):\n",
      "  File \"/home/albotgoodman/coding/repos/machine-learning/.venv/lib/python3.12/site-packages/sklearn/model_selection/_validation.py\", line 947, in _score\n",
      "    scores = scorer(estimator, X_test, **score_params)\n",
      "             ^^^^^^^^^^^^^^^^^^^^^^^^^^^^^^^^^^^^^^^^^\n",
      "TypeError: _BaseScorer.__call__() missing 1 required positional argument: 'y_true'\n",
      "\n",
      "  warnings.warn(\n",
      "/home/albotgoodman/coding/repos/machine-learning/.venv/lib/python3.12/site-packages/sklearn/model_selection/_validation.py:960: UserWarning: Scoring failed. The score on this train-test partition for these parameters will be set to nan. Details: \n",
      "Traceback (most recent call last):\n",
      "  File \"/home/albotgoodman/coding/repos/machine-learning/.venv/lib/python3.12/site-packages/sklearn/model_selection/_validation.py\", line 947, in _score\n",
      "    scores = scorer(estimator, X_test, **score_params)\n",
      "             ^^^^^^^^^^^^^^^^^^^^^^^^^^^^^^^^^^^^^^^^^\n",
      "TypeError: _BaseScorer.__call__() missing 1 required positional argument: 'y_true'\n",
      "\n",
      "  warnings.warn(\n",
      "/home/albotgoodman/coding/repos/machine-learning/.venv/lib/python3.12/site-packages/sklearn/model_selection/_validation.py:960: UserWarning: Scoring failed. The score on this train-test partition for these parameters will be set to nan. Details: \n",
      "Traceback (most recent call last):\n",
      "  File \"/home/albotgoodman/coding/repos/machine-learning/.venv/lib/python3.12/site-packages/sklearn/model_selection/_validation.py\", line 947, in _score\n",
      "    scores = scorer(estimator, X_test, **score_params)\n",
      "             ^^^^^^^^^^^^^^^^^^^^^^^^^^^^^^^^^^^^^^^^^\n",
      "TypeError: _BaseScorer.__call__() missing 1 required positional argument: 'y_true'\n",
      "\n",
      "  warnings.warn(\n",
      "/home/albotgoodman/coding/repos/machine-learning/.venv/lib/python3.12/site-packages/sklearn/model_selection/_validation.py:960: UserWarning: Scoring failed. The score on this train-test partition for these parameters will be set to nan. Details: \n",
      "Traceback (most recent call last):\n",
      "  File \"/home/albotgoodman/coding/repos/machine-learning/.venv/lib/python3.12/site-packages/sklearn/model_selection/_validation.py\", line 947, in _score\n",
      "    scores = scorer(estimator, X_test, **score_params)\n",
      "             ^^^^^^^^^^^^^^^^^^^^^^^^^^^^^^^^^^^^^^^^^\n",
      "TypeError: _BaseScorer.__call__() missing 1 required positional argument: 'y_true'\n",
      "\n",
      "  warnings.warn(\n",
      "/home/albotgoodman/coding/repos/machine-learning/.venv/lib/python3.12/site-packages/sklearn/model_selection/_validation.py:960: UserWarning: Scoring failed. The score on this train-test partition for these parameters will be set to nan. Details: \n",
      "Traceback (most recent call last):\n",
      "  File \"/home/albotgoodman/coding/repos/machine-learning/.venv/lib/python3.12/site-packages/sklearn/model_selection/_validation.py\", line 947, in _score\n",
      "    scores = scorer(estimator, X_test, **score_params)\n",
      "             ^^^^^^^^^^^^^^^^^^^^^^^^^^^^^^^^^^^^^^^^^\n",
      "TypeError: _BaseScorer.__call__() missing 1 required positional argument: 'y_true'\n",
      "\n",
      "  warnings.warn(\n",
      "/home/albotgoodman/coding/repos/machine-learning/.venv/lib/python3.12/site-packages/sklearn/model_selection/_validation.py:960: UserWarning: Scoring failed. The score on this train-test partition for these parameters will be set to nan. Details: \n",
      "Traceback (most recent call last):\n",
      "  File \"/home/albotgoodman/coding/repos/machine-learning/.venv/lib/python3.12/site-packages/sklearn/model_selection/_validation.py\", line 947, in _score\n",
      "    scores = scorer(estimator, X_test, **score_params)\n",
      "             ^^^^^^^^^^^^^^^^^^^^^^^^^^^^^^^^^^^^^^^^^\n",
      "TypeError: _BaseScorer.__call__() missing 1 required positional argument: 'y_true'\n",
      "\n",
      "  warnings.warn(\n",
      "/home/albotgoodman/coding/repos/machine-learning/.venv/lib/python3.12/site-packages/sklearn/model_selection/_validation.py:960: UserWarning: Scoring failed. The score on this train-test partition for these parameters will be set to nan. Details: \n",
      "Traceback (most recent call last):\n",
      "  File \"/home/albotgoodman/coding/repos/machine-learning/.venv/lib/python3.12/site-packages/sklearn/model_selection/_validation.py\", line 947, in _score\n",
      "    scores = scorer(estimator, X_test, **score_params)\n",
      "             ^^^^^^^^^^^^^^^^^^^^^^^^^^^^^^^^^^^^^^^^^\n",
      "TypeError: _BaseScorer.__call__() missing 1 required positional argument: 'y_true'\n",
      "\n",
      "  warnings.warn(\n",
      "/home/albotgoodman/coding/repos/machine-learning/.venv/lib/python3.12/site-packages/sklearn/model_selection/_validation.py:960: UserWarning: Scoring failed. The score on this train-test partition for these parameters will be set to nan. Details: \n",
      "Traceback (most recent call last):\n",
      "  File \"/home/albotgoodman/coding/repos/machine-learning/.venv/lib/python3.12/site-packages/sklearn/model_selection/_validation.py\", line 947, in _score\n",
      "    scores = scorer(estimator, X_test, **score_params)\n",
      "             ^^^^^^^^^^^^^^^^^^^^^^^^^^^^^^^^^^^^^^^^^\n",
      "TypeError: _BaseScorer.__call__() missing 1 required positional argument: 'y_true'\n",
      "\n",
      "  warnings.warn(\n",
      "/home/albotgoodman/coding/repos/machine-learning/.venv/lib/python3.12/site-packages/sklearn/model_selection/_search.py:1108: UserWarning: One or more of the test scores are non-finite: [nan nan nan nan nan nan nan nan nan]\n",
      "  warnings.warn(\n"
     ]
    },
    {
     "name": "stdout",
     "output_type": "stream",
     "text": [
      "Best parameters: {'alpha_H': 0.01, 'alpha_W': 0.01}\n"
     ]
    }
   ],
   "source": [
    "model = MiniBatchNMF()\n",
    "params = {\n",
    "    \"alpha_H\": [0.01, 0.1, 1],\n",
    "    \"alpha_W\": [0.01, 0.1, 1]\n",
    "}\n",
    "grid_search = GridSearchCV(\n",
    "    estimator=model,\n",
    "    param_grid=params,\n",
    "    cv=5,\n",
    "    scoring=\"neg_root_mean_squared_error\",\n",
    "    n_jobs=-1\n",
    ")\n",
    "grid_search.fit(V)\n",
    "print(f\"Best parameters: {grid_search.best_params_}\")"
   ]
  },
  {
   "cell_type": "markdown",
   "metadata": {},
   "source": [
    "### MBNMF model"
   ]
  },
  {
   "cell_type": "code",
   "execution_count": 15,
   "metadata": {},
   "outputs": [
    {
     "name": "stdout",
     "output_type": "stream",
     "text": [
      "Shape of W: (79469, 35)\n",
      "Shape of H: (35, 20821)\n"
     ]
    }
   ],
   "source": [
    "n = 35\n",
    "b = 5000\n",
    "a = 0.01\n",
    "\n",
    "nmf = MiniBatchNMF(n_components=n, batch_size=b, alpha_W=a, alpha_H=a)\n",
    "W = nmf.fit_transform(rating_matrix)\n",
    "H = nmf.components_\n",
    "print(f\"Shape of W: {W.shape}\")\n",
    "print(f\"Shape of H: {H.shape}\")"
   ]
  },
  {
   "cell_type": "markdown",
   "metadata": {},
   "source": [
    "## Movie data"
   ]
  },
  {
   "cell_type": "code",
   "execution_count": 16,
   "metadata": {},
   "outputs": [],
   "source": [
    "movies = pd.read_csv(\"../data/movielens/movies.csv\")\n",
    "movies[\"genres\"] = movies[\"genres\"].replace(\"(no genres listed)\", np.nan)\n",
    "movies[\"genres\"] = movies[\"genres\"].str.lower().str.replace(\"|\", \" \").str.replace(\"-\", \"\").str.strip()\n",
    "movies[\"year\"] = movies[\"title\"].str.extract(r\"\\((\\d{4})\\)\")\n",
    "movies[\"title\"] = movies[\"title\"].str.replace(r\"\\[.*?\\]|\\(.*?\\)\", \"\", regex=True).str.strip()\n",
    "movies.dropna(how=\"any\", inplace=True) # dropping 7300 NaN values\n",
    "movies = movies.drop(columns=\"genres\")"
   ]
  },
  {
   "cell_type": "code",
   "execution_count": 17,
   "metadata": {},
   "outputs": [
    {
     "data": {
      "text/plain": [
       "(79237, 3)"
      ]
     },
     "execution_count": 17,
     "metadata": {},
     "output_type": "execute_result"
    }
   ],
   "source": [
    "movies.shape"
   ]
  },
  {
   "cell_type": "code",
   "execution_count": 18,
   "metadata": {},
   "outputs": [],
   "source": [
    "movies = movies[movies[\"movie_id\"].isin(ratings[\"movie_id\"].unique())]"
   ]
  },
  {
   "cell_type": "code",
   "execution_count": 19,
   "metadata": {},
   "outputs": [
    {
     "data": {
      "text/plain": [
       "(20607, 3)"
      ]
     },
     "execution_count": 19,
     "metadata": {},
     "output_type": "execute_result"
    }
   ],
   "source": [
    "movies.shape"
   ]
  },
  {
   "cell_type": "markdown",
   "metadata": {},
   "source": [
    "## Recommendations"
   ]
  },
  {
   "cell_type": "code",
   "execution_count": 51,
   "metadata": {},
   "outputs": [],
   "source": [
    "def get_movie_index(movie_id):\n",
    "    # Convert original movie_id to the matrix index\n",
    "    return movie_mapper.get(movie_id)"
   ]
  },
  {
   "cell_type": "code",
   "execution_count": null,
   "metadata": {},
   "outputs": [],
   "source": [
    "def get_similar_movies(movie_id, n_recommendations=5):\n",
    "    movie_idx = get_movie_index(movie_id)\n",
    "    if movie_idx is None:\n",
    "        return \"Movie ID not found\"\n",
    "    \n",
    "    # Get latent factors for target movie\n",
    "    target_factors = H[:, movie_idx]\n",
    "    \n",
    "    # Calculate similarities - directly comparing latent factors\n",
    "    similarities = []\n",
    "    for idx in range(H.shape[1]):\n",
    "        if idx != movie_idx:\n",
    "            # sim = np.dot(target_factors, H[:, idx]) # Either dot product\n",
    "            sim = np.dot(target_factors, H[:, idx]) / (np.linalg.norm(target_factors) * np.linalg.norm(H[:, idx])) # Or cosine similarity \n",
    "            similarities.append((idx, sim))\n",
    "    \n",
    "    # Sort and get top recommendations\n",
    "    similarities.sort(key=lambda x: x[1], reverse=True)\n",
    "    similar_indices = [idx for idx, _ in similarities[:n_recommendations]]\n",
    "    \n",
    "    # Map back to original IDs\n",
    "    return [reverse_movie_mapper[idx] for idx in similar_indices]"
   ]
  },
  {
   "cell_type": "code",
   "execution_count": 56,
   "metadata": {},
   "outputs": [],
   "source": [
    "# Create reverse mappers to convert indices back to IDs\n",
    "reverse_movie_mapper = {idx: movie_id for movie_id, idx in movie_mapper.items()}\n",
    "\n",
    "def get_recommendations(movie_id, n_recommendations=5):\n",
    "    similar_movie_ids = get_similar_movies(movie_id, n_recommendations)\n",
    "    \n",
    "    # Get movie details (title, etc.) from the movies dataframe\n",
    "    recommendations = movies[movies['movie_id'].isin(similar_movie_ids)]\n",
    "    return recommendations"
   ]
  },
  {
   "cell_type": "code",
   "execution_count": 57,
   "metadata": {},
   "outputs": [
    {
     "data": {
      "text/html": [
       "<div>\n",
       "<style scoped>\n",
       "    .dataframe tbody tr th:only-of-type {\n",
       "        vertical-align: middle;\n",
       "    }\n",
       "\n",
       "    .dataframe tbody tr th {\n",
       "        vertical-align: top;\n",
       "    }\n",
       "\n",
       "    .dataframe thead th {\n",
       "        text-align: right;\n",
       "    }\n",
       "</style>\n",
       "<table border=\"1\" class=\"dataframe\">\n",
       "  <thead>\n",
       "    <tr style=\"text-align: right;\">\n",
       "      <th></th>\n",
       "      <th>title</th>\n",
       "      <th>year</th>\n",
       "    </tr>\n",
       "  </thead>\n",
       "  <tbody>\n",
       "    <tr>\n",
       "      <th>359</th>\n",
       "      <td>Lion King, The</td>\n",
       "      <td>1994</td>\n",
       "    </tr>\n",
       "    <tr>\n",
       "      <th>580</th>\n",
       "      <td>Aladdin</td>\n",
       "      <td>1992</td>\n",
       "    </tr>\n",
       "    <tr>\n",
       "      <th>1070</th>\n",
       "      <td>E.T. the Extra-Terrestrial</td>\n",
       "      <td>1982</td>\n",
       "    </tr>\n",
       "    <tr>\n",
       "      <th>2264</th>\n",
       "      <td>Bug's Life, A</td>\n",
       "      <td>1998</td>\n",
       "    </tr>\n",
       "    <tr>\n",
       "      <th>3021</th>\n",
       "      <td>Toy Story 2</td>\n",
       "      <td>1999</td>\n",
       "    </tr>\n",
       "  </tbody>\n",
       "</table>\n",
       "</div>"
      ],
      "text/plain": [
       "                           title  year\n",
       "359               Lion King, The  1994\n",
       "580                      Aladdin  1992\n",
       "1070  E.T. the Extra-Terrestrial  1982\n",
       "2264               Bug's Life, A  1998\n",
       "3021                 Toy Story 2  1999"
      ]
     },
     "execution_count": 57,
     "metadata": {},
     "output_type": "execute_result"
    }
   ],
   "source": [
    "temp = get_recommendations(1)\n",
    "temp = temp.drop(columns=\"movie_id\")\n",
    "temp"
   ]
  }
 ],
 "metadata": {
  "kernelspec": {
   "display_name": ".venv",
   "language": "python",
   "name": "python3"
  },
  "language_info": {
   "codemirror_mode": {
    "name": "ipython",
    "version": 3
   },
   "file_extension": ".py",
   "mimetype": "text/x-python",
   "name": "python",
   "nbconvert_exporter": "python",
   "pygments_lexer": "ipython3",
   "version": "3.12.3"
  }
 },
 "nbformat": 4,
 "nbformat_minor": 2
}
