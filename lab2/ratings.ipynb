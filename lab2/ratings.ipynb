{
 "cells": [
  {
   "cell_type": "markdown",
   "metadata": {},
   "source": [
    "# Dependencies"
   ]
  },
  {
   "cell_type": "code",
   "execution_count": 1,
   "metadata": {},
   "outputs": [],
   "source": [
    "import pandas as pd\n",
    "import numpy as np\n",
    "import seaborn as sns\n",
    "from scipy.sparse import csr_matrix\n",
    "from sklearn.decomposition import MiniBatchNMF"
   ]
  },
  {
   "cell_type": "code",
   "execution_count": 2,
   "metadata": {},
   "outputs": [],
   "source": [
    "ratings = pd.read_csv(\"../data/movielens/ratings.csv\")"
   ]
  },
  {
   "cell_type": "markdown",
   "metadata": {},
   "source": [
    "# Preprocessing"
   ]
  },
  {
   "cell_type": "code",
   "execution_count": 3,
   "metadata": {},
   "outputs": [
    {
     "data": {
      "text/html": [
       "<div>\n",
       "<style scoped>\n",
       "    .dataframe tbody tr th:only-of-type {\n",
       "        vertical-align: middle;\n",
       "    }\n",
       "\n",
       "    .dataframe tbody tr th {\n",
       "        vertical-align: top;\n",
       "    }\n",
       "\n",
       "    .dataframe thead th {\n",
       "        text-align: right;\n",
       "    }\n",
       "</style>\n",
       "<table border=\"1\" class=\"dataframe\">\n",
       "  <thead>\n",
       "    <tr style=\"text-align: right;\">\n",
       "      <th></th>\n",
       "      <th>user_id</th>\n",
       "      <th>movie_id</th>\n",
       "      <th>rating</th>\n",
       "    </tr>\n",
       "  </thead>\n",
       "  <tbody>\n",
       "    <tr>\n",
       "      <th>0</th>\n",
       "      <td>1</td>\n",
       "      <td>1</td>\n",
       "      <td>4.0</td>\n",
       "    </tr>\n",
       "    <tr>\n",
       "      <th>1</th>\n",
       "      <td>1</td>\n",
       "      <td>110</td>\n",
       "      <td>4.0</td>\n",
       "    </tr>\n",
       "  </tbody>\n",
       "</table>\n",
       "</div>"
      ],
      "text/plain": [
       "   user_id  movie_id  rating\n",
       "0        1         1     4.0\n",
       "1        1       110     4.0"
      ]
     },
     "execution_count": 3,
     "metadata": {},
     "output_type": "execute_result"
    }
   ],
   "source": [
    "ratings = ratings.drop(columns=\"timestamp\")\n",
    "ratings.head(2)"
   ]
  },
  {
   "cell_type": "code",
   "execution_count": 4,
   "metadata": {},
   "outputs": [
    {
     "name": "stdout",
     "output_type": "stream",
     "text": [
      "There are 330975 users in the dataset.\n",
      "There are 83239 movies in the dataset.\n",
      "There are 33832162 ratings in the dataset.\n"
     ]
    }
   ],
   "source": [
    "n_users = ratings[\"user_id\"].nunique()\n",
    "n_movies = ratings[\"movie_id\"].nunique()\n",
    "n_ratings = ratings[\"rating\"].shape[0]\n",
    "\n",
    "print(f\"There are {n_users} users in the dataset.\")\n",
    "print(f\"There are {n_movies} movies in the dataset.\")\n",
    "print(f\"There are {n_ratings} ratings in the dataset.\")"
   ]
  },
  {
   "cell_type": "markdown",
   "metadata": {},
   "source": [
    "## Filtering"
   ]
  },
  {
   "cell_type": "code",
   "execution_count": null,
   "metadata": {},
   "outputs": [
    {
     "name": "stdout",
     "output_type": "stream",
     "text": [
      "Average ratings per user: 102.22\n",
      "Median ratings per user: 31.00\n",
      "Min ratings: 1\n",
      "Max ratings: 33332\n",
      "\n",
      "There are now 17292 users in the dataset. 5.22% of the original dataset.\n"
     ]
    }
   ],
   "source": [
    "# Finding stats on user ratings\n",
    "ratings_per_user = ratings.groupby(\"user_id\").size()\n",
    "print(f\"Average ratings per user: {ratings_per_user.mean():.2f}\")\n",
    "print(f\"Median ratings per user: {ratings_per_user.median():.2f}\")\n",
    "print(f\"Min ratings: {ratings_per_user.min()}\")\n",
    "print(f\"Max ratings: {ratings_per_user.max()}\")\n",
    "print()\n",
    "mean_user_rating = ratings_per_user.mean()\n",
    "\n",
    "# Filtering out users with less than the average number of ratings\n",
    "user_rating_counts = ratings[\"user_id\"].value_counts()\n",
    "average_users = user_rating_counts[user_rating_counts >= mean_user_rating].index\n",
    "filtered_ratings = ratings[ratings[\"user_id\"].isin(average_users)]\n",
    "\n",
    "# Reviewing the filtered dataset\n",
    "n_users_filtered = filtered_ratings[\"user_id\"].nunique()\n",
    "print(f\"There are now {n_users_filtered} users in the dataset. {n_users_filtered / n_users:.2%} of the original dataset.\")"
   ]
  },
  {
   "cell_type": "code",
   "execution_count": null,
   "metadata": {},
   "outputs": [
    {
     "name": "stdout",
     "output_type": "stream",
     "text": [
      "Average ratings per movie: 406.45\n",
      "Median ratings per movie: 5.00\n",
      "Min ratings: 1\n",
      "Max ratings: 122296\n",
      "\n",
      "There are now 11002 movies in the dataset. 13.22% of the original dataset.\n"
     ]
    }
   ],
   "source": [
    "# Finding stats on movie ratings\n",
    "ratings_per_movie = ratings.groupby(\"movie_id\").size()\n",
    "print(f\"Average ratings per movie: {ratings_per_movie.mean():.2f}\")\n",
    "print(f\"Median ratings per movie: {ratings_per_movie.median():.2f}\")\n",
    "print(f\"Min ratings: {ratings_per_movie.min()}\")\n",
    "print(f\"Max ratings: {ratings_per_movie.max()}\")\n",
    "print()\n",
    "\n",
    "# Filtering out movies with few ratings\n",
    "movie_rating_counts = filtered_ratings[\"movie_id\"].value_counts()\n",
    "average_movies = movie_rating_counts[movie_rating_counts >= 25].index\n",
    "filtered_ratings = filtered_ratings[filtered_ratings[\"movie_id\"].isin(average_movies)]\n",
    "\n",
    "# Reviewing the filtered dataset\n",
    "n_movies_filtered = filtered_ratings[\"movie_id\"].nunique()\n",
    "print(f\"There are now {n_movies_filtered} movies in the dataset. {n_movies_filtered / n_movies:.2%} of the original dataset.\")"
   ]
  },
  {
   "cell_type": "code",
   "execution_count": 7,
   "metadata": {},
   "outputs": [
    {
     "name": "stdout",
     "output_type": "stream",
     "text": [
      "There are now 13369702 ratings in the dataset. 39.52% of the original dataset.\n"
     ]
    }
   ],
   "source": [
    "# Reviewing the number of ratings\n",
    "n_ratings_filtered = filtered_ratings[\"rating\"].shape[0]\n",
    "print(f\"There are now {n_ratings_filtered} ratings in the dataset. {n_ratings_filtered / n_ratings:.2%} of the original dataset.\")"
   ]
  },
  {
   "cell_type": "code",
   "execution_count": 8,
   "metadata": {},
   "outputs": [],
   "source": [
    "ratings = filtered_ratings"
   ]
  },
  {
   "cell_type": "markdown",
   "metadata": {},
   "source": [
    "## Scaling user ratings"
   ]
  },
  {
   "cell_type": "code",
   "execution_count": 10,
   "metadata": {},
   "outputs": [
    {
     "data": {
      "image/png": "[encoded data removed]",
      "text/plain": [
       "<Figure size 640x480 with 1 Axes>"
      ]
     },
     "metadata": {},
     "output_type": "display_data"
    }
   ],
   "source": [
    "# Visualising the rating distribution\n",
    "rating_distribution = ratings[\"rating\"].value_counts().to_dict()\n",
    "rating_distribution = dict(sorted(rating_distribution.items()))\n",
    "sns.barplot(x=list(rating_distribution.keys()), y=list(rating_distribution.values()), hue=list(rating_distribution.keys()), palette=\"viridis\", legend=False);"
   ]
  },
  {
   "cell_type": "code",
   "execution_count": 9,
   "metadata": {},
   "outputs": [],
   "source": [
    "def scaler(df):\n",
    "    \"\"\"\n",
    "    Scales (standardising and normalising) the ratings of each user. \n",
    "    Standardising is necessary since the ratings overall are not normally distributed \n",
    "    and some users might always rate high, low or with a large variance. \n",
    "    Normalising is necessary since matrix factorisation can only handle non-negative values.\n",
    "\n",
    "    Arguments:\n",
    "    df -- DataFrame with user_id, movie_id and rating columns\n",
    "\n",
    "    Returns:\n",
    "    df -- DataFrame with user_id, movie_id and scaled rating columns\n",
    "    \"\"\"\n",
    "    df_collection = []\n",
    "    for user, user_df in df.groupby(\"user_id\"): \n",
    "        rating_values = user_df[\"rating\"].values\n",
    "        mean = np.mean(rating_values)\n",
    "        std = np.std(rating_values)\n",
    "        if std < 1e-10:\n",
    "            user_df[\"rating\"]=0.5 # if std is 0, set rating to 0.5 which is an average rating once ratings are normalised (0 to 1)\n",
    "        else:\n",
    "            std_values = (rating_values - mean) / std\n",
    "            min_std = np.min(std_values)\n",
    "            max_std = np.max(std_values)\n",
    "            user_df[\"rating\"] = (std_values - min_std) / (max_std - min_std)\n",
    "        df_collection.append(user_df) # stores dataframes in a list which are concatenated at the end\n",
    "    return pd.concat(df_collection)\n",
    "\n",
    "\n",
    "scaled_ratings = ratings.copy()\n",
    "scaled_ratings = scaler(scaled_ratings)"
   ]
  },
  {
   "cell_type": "code",
   "execution_count": 10,
   "metadata": {},
   "outputs": [
    {
     "data": {
      "text/html": [
       "<div>\n",
       "<style scoped>\n",
       "    .dataframe tbody tr th:only-of-type {\n",
       "        vertical-align: middle;\n",
       "    }\n",
       "\n",
       "    .dataframe tbody tr th {\n",
       "        vertical-align: top;\n",
       "    }\n",
       "\n",
       "    .dataframe thead th {\n",
       "        text-align: right;\n",
       "    }\n",
       "</style>\n",
       "<table border=\"1\" class=\"dataframe\">\n",
       "  <thead>\n",
       "    <tr style=\"text-align: right;\">\n",
       "      <th></th>\n",
       "      <th>user_id</th>\n",
       "      <th>movie_id</th>\n",
       "      <th>rating</th>\n",
       "    </tr>\n",
       "  </thead>\n",
       "  <tbody>\n",
       "    <tr>\n",
       "      <th>1538</th>\n",
       "      <td>22</td>\n",
       "      <td>16</td>\n",
       "      <td>0.666667</td>\n",
       "    </tr>\n",
       "    <tr>\n",
       "      <th>1539</th>\n",
       "      <td>22</td>\n",
       "      <td>18</td>\n",
       "      <td>1.000000</td>\n",
       "    </tr>\n",
       "  </tbody>\n",
       "</table>\n",
       "</div>"
      ],
      "text/plain": [
       "      user_id  movie_id    rating\n",
       "1538       22        16  0.666667\n",
       "1539       22        18  1.000000"
      ]
     },
     "execution_count": 10,
     "metadata": {},
     "output_type": "execute_result"
    }
   ],
   "source": [
    "scaled_ratings.head(2)"
   ]
  },
  {
   "cell_type": "code",
   "execution_count": 11,
   "metadata": {},
   "outputs": [],
   "source": [
    "ratings = scaled_ratings"
   ]
  },
  {
   "cell_type": "markdown",
   "metadata": {},
   "source": [
    "## User-movie matrix"
   ]
  },
  {
   "cell_type": "markdown",
   "metadata": {},
   "source": [
    "### Approach A"
   ]
  },
  {
   "cell_type": "code",
   "execution_count": null,
   "metadata": {},
   "outputs": [],
   "source": [
    "# Creating a user-movie matrix using pivot_table() crashes the kernel. \n",
    "# I tried creating a sparse matrix (see line below) with user_id, movie_id and rating as rows, columns and values but that resulted in a much larger matrix than users*movies. \n",
    "# sparse_matrix = coo_matrix((ratings[\"rating\"], (ratings[\"user_id\"], ratings[\"movie_id\"])))\n",
    "# From my understanding the issue is that the IDs are not contiguous (0, 1, 2, 3 ...) resulting in a shape of max_user_ID*max_movie_ID.\n",
    "# I asked Claude Sonnet 3.7 to: \"Modify the code to create a sparse matrix in the shape of users*movies.\"\n",
    "\n",
    "# Get unique user and movie IDs\n",
    "unique_users = np.sort(ratings[\"user_id\"].unique())\n",
    "unique_movies = np.sort(ratings[\"movie_id\"].unique())\n",
    "\n",
    "# Create mappings from original IDs to consecutive indices\n",
    "user_mapper = {user: i for i, user in enumerate(unique_users)}\n",
    "movie_mapper = {movie: i for i, movie in enumerate(unique_movies)}\n",
    "\n",
    "# Map original IDs to indices\n",
    "rows = np.array([user_mapper[user] for user in ratings[\"user_id\"]])\n",
    "cols = np.array([movie_mapper[movie] for movie in ratings[\"movie_id\"]])\n",
    "vals = ratings[\"rating\"].values\n",
    "\n",
    "# Create the sparse matrix with appropriate shape\n",
    "rating_matrix = csr_matrix((vals, (rows, cols)), shape=(len(unique_users), len(unique_movies)))"
   ]
  },
  {
   "cell_type": "markdown",
   "metadata": {},
   "source": [
    "I believe the original IDs are lost in the above method. "
   ]
  },
  {
   "cell_type": "code",
   "execution_count": 25,
   "metadata": {},
   "outputs": [
    {
     "name": "stdout",
     "output_type": "stream",
     "text": [
      "Only 1.547 % of the matrix contains ratings.\n"
     ]
    }
   ],
   "source": [
    "density = rating_matrix.nnz / (rating_matrix.shape[0] * rating_matrix.shape[1])\n",
    "print(f\"Only {density * 100:.3f} % of the matrix contains ratings.\") "
   ]
  },
  {
   "cell_type": "code",
   "execution_count": 31,
   "metadata": {},
   "outputs": [
    {
     "data": {
      "text/plain": [
       "(79469, 21297)"
      ]
     },
     "execution_count": 31,
     "metadata": {},
     "output_type": "execute_result"
    }
   ],
   "source": [
    "rating_matrix.shape"
   ]
  },
  {
   "cell_type": "code",
   "execution_count": 29,
   "metadata": {},
   "outputs": [],
   "source": [
    "sparse_df = pd.DataFrame.sparse.from_spmatrix(\n",
    "    sparse_matrix,\n",
    "    index=unique_users,\n",
    "    columns=unique_movies\n",
    ")"
   ]
  },
  {
   "cell_type": "code",
   "execution_count": 30,
   "metadata": {},
   "outputs": [
    {
     "data": {
      "text/html": [
       "<div>\n",
       "<style scoped>\n",
       "    .dataframe tbody tr th:only-of-type {\n",
       "        vertical-align: middle;\n",
       "    }\n",
       "\n",
       "    .dataframe tbody tr th {\n",
       "        vertical-align: top;\n",
       "    }\n",
       "\n",
       "    .dataframe thead th {\n",
       "        text-align: right;\n",
       "    }\n",
       "</style>\n",
       "<table border=\"1\" class=\"dataframe\">\n",
       "  <thead>\n",
       "    <tr style=\"text-align: right;\">\n",
       "      <th></th>\n",
       "      <th>1</th>\n",
       "      <th>2</th>\n",
       "      <th>3</th>\n",
       "      <th>4</th>\n",
       "      <th>5</th>\n",
       "      <th>6</th>\n",
       "      <th>7</th>\n",
       "      <th>8</th>\n",
       "      <th>9</th>\n",
       "      <th>10</th>\n",
       "      <th>...</th>\n",
       "      <th>287377</th>\n",
       "      <th>287591</th>\n",
       "      <th>287609</th>\n",
       "      <th>287633</th>\n",
       "      <th>287731</th>\n",
       "      <th>288167</th>\n",
       "      <th>288265</th>\n",
       "      <th>288269</th>\n",
       "      <th>288311</th>\n",
       "      <th>288679</th>\n",
       "    </tr>\n",
       "  </thead>\n",
       "  <tbody>\n",
       "    <tr>\n",
       "      <th>7</th>\n",
       "      <td>0.666667</td>\n",
       "      <td>0</td>\n",
       "      <td>0.333333</td>\n",
       "      <td>0</td>\n",
       "      <td>0</td>\n",
       "      <td>0</td>\n",
       "      <td>0</td>\n",
       "      <td>0</td>\n",
       "      <td>0</td>\n",
       "      <td>0</td>\n",
       "      <td>...</td>\n",
       "      <td>0</td>\n",
       "      <td>0</td>\n",
       "      <td>0</td>\n",
       "      <td>0</td>\n",
       "      <td>0</td>\n",
       "      <td>0</td>\n",
       "      <td>0</td>\n",
       "      <td>0</td>\n",
       "      <td>0</td>\n",
       "      <td>0</td>\n",
       "    </tr>\n",
       "    <tr>\n",
       "      <th>9</th>\n",
       "      <td>0</td>\n",
       "      <td>0.75</td>\n",
       "      <td>1.0</td>\n",
       "      <td>0</td>\n",
       "      <td>0.5</td>\n",
       "      <td>0.75</td>\n",
       "      <td>0</td>\n",
       "      <td>0</td>\n",
       "      <td>0</td>\n",
       "      <td>0.75</td>\n",
       "      <td>...</td>\n",
       "      <td>0</td>\n",
       "      <td>0</td>\n",
       "      <td>0</td>\n",
       "      <td>0</td>\n",
       "      <td>0</td>\n",
       "      <td>0</td>\n",
       "      <td>0</td>\n",
       "      <td>0</td>\n",
       "      <td>0</td>\n",
       "      <td>0</td>\n",
       "    </tr>\n",
       "  </tbody>\n",
       "</table>\n",
       "<p>2 rows × 21297 columns</p>\n",
       "</div>"
      ],
      "text/plain": [
       "     1       2         3       4       5       6       7       8       9       \\\n",
       "7  0.666667       0  0.333333       0       0       0       0       0       0   \n",
       "9         0    0.75       1.0       0     0.5    0.75       0       0       0   \n",
       "\n",
       "   10      ...  287377  287591  287609  287633  287731  288167  288265  \\\n",
       "7       0  ...       0       0       0       0       0       0       0   \n",
       "9    0.75  ...       0       0       0       0       0       0       0   \n",
       "\n",
       "   288269  288311  288679  \n",
       "7       0       0       0  \n",
       "9       0       0       0  \n",
       "\n",
       "[2 rows x 21297 columns]"
      ]
     },
     "execution_count": 30,
     "metadata": {},
     "output_type": "execute_result"
    }
   ],
   "source": [
    "sparse_df.head(2)"
   ]
  },
  {
   "cell_type": "markdown",
   "metadata": {},
   "source": [
    "# Matrix factorisation"
   ]
  },
  {
   "cell_type": "code",
   "execution_count": 40,
   "metadata": {},
   "outputs": [
    {
     "name": "stdout",
     "output_type": "stream",
     "text": [
      "Shape of W: (79469, 20)\n",
      "Shape of H: (20, 21297)\n"
     ]
    }
   ],
   "source": [
    "n = 20\n",
    "b = 5000\n",
    "aW = 0.1\n",
    "aH = 0.1\n",
    "\n",
    "nmf = MiniBatchNMF(n_components=n, batch_size=b, alpha_W=aW, alpha_H=aH, max_iter=m)\n",
    "W = nmf.fit_transform(rating_matrix)\n",
    "H = nmf.components_\n",
    "print(f\"Shape of W: {W.shape}\")\n",
    "print(f\"Shape of H: {H.shape}\")"
   ]
  },
  {
   "cell_type": "code",
   "execution_count": null,
   "metadata": {},
   "outputs": [],
   "source": [
    "def get_movie_recommendations(input_movie_title, movies_df, n_recommendations=5):\n",
    "    movie_row = movies_df[movies_df[\"title\"].str.contains(input_movie_title, case=False)]\n",
    "    if movie_row.empty:\n",
    "        return \"Movie not found\"\n",
    "    movie_id = movie_row.iloc[0][\"movie_id\"]\n",
    "    if movie_id not in movie_mapper:\n",
    "        return \"Movie not in rating dataset\"\n",
    "    movie_idx = movie_mapper[movie_id]\n",
    "    movie_factors = H[:, movie_idx]\n",
    "    similarity_scores = np.dot(movie_factors, H)\n",
    "    inverse_movie_mapper = {idx: mid for mid, idx in movie_mapper.items()}\n",
    "    recommendations = pd.DataFrame({\n",
    "        \"movie_id\": [inverse_movie_mapper[i] for i in range(len(similarity_scores))],\n",
    "        \"similarity\": similarity_scores\n",
    "    })\n",
    "    recommendations = recommendations[recommendations[\"movie_id\"] != movie_id]\n",
    "    top_recs = recommendations.sort_values(\"similarity\", ascending=False).head(n_recommendations)\n",
    "    return top_recs.merge(movies_df, on=\"movie_id\")[[\"title\", \"similarity\"]]"
   ]
  },
  {
   "cell_type": "code",
   "execution_count": 13,
   "metadata": {},
   "outputs": [],
   "source": [
    "movies = pd.read_csv(\"../data/movielens/movies.csv\")\n",
    "movies[\"genres\"] = movies[\"genres\"].replace(\"(no genres listed)\", np.nan)\n",
    "movies[\"genres\"] = movies[\"genres\"].str.lower().str.replace(\"|\", \" \").str.replace(\"-\", \"\").str.strip()\n",
    "movies[\"year\"] = movies[\"title\"].str.extract(r\"\\((\\d{4})\\)\")\n",
    "movies[\"title\"] = movies[\"title\"].str.replace(r\"\\[.*?\\]|\\(.*?\\)\", \"\", regex=True).str.strip()\n",
    "movies.dropna(how=\"any\", inplace=True) # dropping 7300 NaN values\n",
    "movies = movies.drop(columns=\"genres\")"
   ]
  },
  {
   "cell_type": "code",
   "execution_count": 14,
   "metadata": {},
   "outputs": [
    {
     "data": {
      "text/plain": [
       "(79237, 3)"
      ]
     },
     "execution_count": 14,
     "metadata": {},
     "output_type": "execute_result"
    }
   ],
   "source": [
    "movies.shape"
   ]
  },
  {
   "cell_type": "code",
   "execution_count": 15,
   "metadata": {},
   "outputs": [],
   "source": [
    "movies = movies[movies[\"movie_id\"].isin(ratings[\"movie_id\"].unique())]"
   ]
  },
  {
   "cell_type": "code",
   "execution_count": 16,
   "metadata": {},
   "outputs": [
    {
     "data": {
      "text/plain": [
       "(10941, 3)"
      ]
     },
     "execution_count": 16,
     "metadata": {},
     "output_type": "execute_result"
    }
   ],
   "source": [
    "movies.shape"
   ]
  },
  {
   "cell_type": "code",
   "execution_count": 52,
   "metadata": {},
   "outputs": [
    {
     "name": "stdout",
     "output_type": "stream",
     "text": [
      "                                title  similarity\n",
      "0           Shawshank Redemption, The    0.004631\n",
      "1                         Matrix, The    0.004607\n",
      "2                        Pulp Fiction    0.004491\n",
      "3                        Forrest Gump    0.004359\n",
      "4  Star Wars: Episode IV - A New Hope    0.004307\n"
     ]
    }
   ],
   "source": [
    "temp = get_movie_recommendations(\"Toy Story\", movies, n_recommendations=5)\n",
    "print(temp)"
   ]
  },
  {
   "cell_type": "markdown",
   "metadata": {},
   "source": [
    "These movies seem to be generally solid movies but not solid recommendations. So generally popular movies rather than related to Toy Story. "
   ]
  }
 ],
 "metadata": {
  "kernelspec": {
   "display_name": ".venv",
   "language": "python",
   "name": "python3"
  },
  "language_info": {
   "codemirror_mode": {
    "name": "ipython",
    "version": 3
   },
   "file_extension": ".py",
   "mimetype": "text/x-python",
   "name": "python",
   "nbconvert_exporter": "python",
   "pygments_lexer": "ipython3",
   "version": "3.13.3"
  }
 },
 "nbformat": 4,
 "nbformat_minor": 2
}
