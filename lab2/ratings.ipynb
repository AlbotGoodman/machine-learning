{
 "cells": [
  {
   "cell_type": "markdown",
   "metadata": {},
   "source": [
    "# Dependencies"
   ]
  },
  {
   "cell_type": "code",
   "execution_count": 1,
   "metadata": {},
   "outputs": [],
   "source": [
    "import pandas as pd\n",
    "import numpy as np\n",
    "import seaborn as sns\n",
    "import matplotlib.pyplot as plt\n",
    "from scipy.sparse import csr_matrix"
   ]
  },
  {
   "cell_type": "code",
   "execution_count": 2,
   "metadata": {},
   "outputs": [],
   "source": [
    "ratings = pd.read_csv(\"../data/movielens/ratings.csv\")"
   ]
  },
  {
   "cell_type": "markdown",
   "metadata": {},
   "source": [
    "# EDA"
   ]
  },
  {
   "cell_type": "code",
   "execution_count": 3,
   "metadata": {},
   "outputs": [
    {
     "data": {
      "image/png": "[encoded data removed]",
      "text/plain": [
       "<Figure size 640x480 with 1 Axes>"
      ]
     },
     "metadata": {},
     "output_type": "display_data"
    }
   ],
   "source": [
    "rating_distribution = ratings[\"rating\"].value_counts().to_dict()\n",
    "rating_distribution = dict(sorted(rating_distribution.items()))\n",
    "sns.barplot(x=list(rating_distribution.keys()), y=list(rating_distribution.values()), hue=list(rating_distribution.keys()), palette=\"viridis\", legend=False);"
   ]
  },
  {
   "cell_type": "code",
   "execution_count": 4,
   "metadata": {},
   "outputs": [
    {
     "data": {
      "text/html": [
       "<div>\n",
       "<style scoped>\n",
       "    .dataframe tbody tr th:only-of-type {\n",
       "        vertical-align: middle;\n",
       "    }\n",
       "\n",
       "    .dataframe tbody tr th {\n",
       "        vertical-align: top;\n",
       "    }\n",
       "\n",
       "    .dataframe thead th {\n",
       "        text-align: right;\n",
       "    }\n",
       "</style>\n",
       "<table border=\"1\" class=\"dataframe\">\n",
       "  <thead>\n",
       "    <tr style=\"text-align: right;\">\n",
       "      <th></th>\n",
       "      <th>user_id</th>\n",
       "      <th>movie_id</th>\n",
       "      <th>rating</th>\n",
       "    </tr>\n",
       "  </thead>\n",
       "  <tbody>\n",
       "    <tr>\n",
       "      <th>0</th>\n",
       "      <td>1</td>\n",
       "      <td>1</td>\n",
       "      <td>4.0</td>\n",
       "    </tr>\n",
       "    <tr>\n",
       "      <th>1</th>\n",
       "      <td>1</td>\n",
       "      <td>110</td>\n",
       "      <td>4.0</td>\n",
       "    </tr>\n",
       "    <tr>\n",
       "      <th>2</th>\n",
       "      <td>1</td>\n",
       "      <td>158</td>\n",
       "      <td>4.0</td>\n",
       "    </tr>\n",
       "    <tr>\n",
       "      <th>3</th>\n",
       "      <td>1</td>\n",
       "      <td>260</td>\n",
       "      <td>4.5</td>\n",
       "    </tr>\n",
       "    <tr>\n",
       "      <th>4</th>\n",
       "      <td>1</td>\n",
       "      <td>356</td>\n",
       "      <td>5.0</td>\n",
       "    </tr>\n",
       "  </tbody>\n",
       "</table>\n",
       "</div>"
      ],
      "text/plain": [
       "   user_id  movie_id  rating\n",
       "0        1         1     4.0\n",
       "1        1       110     4.0\n",
       "2        1       158     4.0\n",
       "3        1       260     4.5\n",
       "4        1       356     5.0"
      ]
     },
     "execution_count": 4,
     "metadata": {},
     "output_type": "execute_result"
    }
   ],
   "source": [
    "ratings = ratings.drop(columns=\"timestamp\")\n",
    "ratings.head()"
   ]
  },
  {
   "cell_type": "code",
   "execution_count": 5,
   "metadata": {},
   "outputs": [
    {
     "name": "stdout",
     "output_type": "stream",
     "text": [
      "There are 330975 users in the dataset.\n",
      "There are 83239 movies in the dataset.\n",
      "There are 33832162 ratings in the dataset.\n"
     ]
    }
   ],
   "source": [
    "n_users = ratings[\"user_id\"].nunique()\n",
    "n_movies = ratings[\"movie_id\"].nunique()\n",
    "n_ratings = ratings[\"rating\"].shape[0]\n",
    "\n",
    "print(f\"There are {n_users} users in the dataset.\")\n",
    "print(f\"There are {n_movies} movies in the dataset.\")\n",
    "print(f\"There are {n_ratings} ratings in the dataset.\")"
   ]
  },
  {
   "cell_type": "markdown",
   "metadata": {},
   "source": [
    "# Preprocessing"
   ]
  },
  {
   "cell_type": "markdown",
   "metadata": {},
   "source": [
    "## Filtering"
   ]
  },
  {
   "cell_type": "code",
   "execution_count": 6,
   "metadata": {},
   "outputs": [
    {
     "name": "stdout",
     "output_type": "stream",
     "text": [
      "Average ratings per user: 102.22\n",
      "Median ratings per user: 31.00\n",
      "Min ratings: 1\n",
      "Max ratings: 33332\n",
      "\n",
      "There are now 79469 users in the dataset. 24.01% of the original dataset.\n"
     ]
    }
   ],
   "source": [
    "# Finding stats on user ratings\n",
    "ratings_per_user = ratings.groupby(\"user_id\").size()\n",
    "print(f\"Average ratings per user: {ratings_per_user.mean():.2f}\")\n",
    "print(f\"Median ratings per user: {ratings_per_user.median():.2f}\")\n",
    "print(f\"Min ratings: {ratings_per_user.min()}\")\n",
    "print(f\"Max ratings: {ratings_per_user.max()}\")\n",
    "print()\n",
    "mean_user_rating = ratings_per_user.mean()\n",
    "\n",
    "# Filtering out users with less than the average number of ratings\n",
    "user_rating_counts = ratings[\"user_id\"].value_counts()\n",
    "average_users = user_rating_counts[user_rating_counts >= mean_user_rating].index\n",
    "filtered_ratings = ratings[ratings[\"user_id\"].isin(average_users)]\n",
    "\n",
    "# Reviewing the filtered dataset\n",
    "n_users_filtered = filtered_ratings[\"user_id\"].nunique()\n",
    "print(f\"There are now {n_users_filtered} users in the dataset. {n_users_filtered / n_users:.2%} of the original dataset.\")"
   ]
  },
  {
   "cell_type": "code",
   "execution_count": 7,
   "metadata": {},
   "outputs": [
    {
     "name": "stdout",
     "output_type": "stream",
     "text": [
      "Average ratings per movie: 406.45\n",
      "Median ratings per movie: 5.00\n",
      "Min ratings: 1\n",
      "Max ratings: 122296\n",
      "\n",
      "There are now 21297 movies in the dataset. 25.59% of the original dataset.\n"
     ]
    }
   ],
   "source": [
    "# Finding stats on movie ratings\n",
    "ratings_per_movie = ratings.groupby(\"movie_id\").size()\n",
    "print(f\"Average ratings per movie: {ratings_per_movie.mean():.2f}\")\n",
    "print(f\"Median ratings per movie: {ratings_per_movie.median():.2f}\")\n",
    "print(f\"Min ratings: {ratings_per_movie.min()}\")\n",
    "print(f\"Max ratings: {ratings_per_movie.max()}\")\n",
    "print()\n",
    "\n",
    "# Filtering out movies with less than the average number of ratings\n",
    "movie_rating_counts = ratings[\"movie_id\"].value_counts()\n",
    "average_movies = movie_rating_counts[movie_rating_counts >= 25].index\n",
    "filtered_ratings = filtered_ratings[filtered_ratings[\"movie_id\"].isin(average_movies)]\n",
    "\n",
    "# Reviewing the filtered dataset\n",
    "n_movies_filtered = filtered_ratings[\"movie_id\"].nunique()\n",
    "print(f\"There are now {n_movies_filtered} movies in the dataset. {n_movies_filtered / n_movies:.2%} of the original dataset.\")"
   ]
  },
  {
   "cell_type": "code",
   "execution_count": 8,
   "metadata": {},
   "outputs": [],
   "source": [
    "ratings = filtered_ratings"
   ]
  },
  {
   "cell_type": "markdown",
   "metadata": {},
   "source": [
    "## Standardising user ratings"
   ]
  },
  {
   "cell_type": "code",
   "execution_count": null,
   "metadata": {},
   "outputs": [],
   "source": [
    "# Visualising the rating distribution\n",
    "rating_distribution = ratings[\"rating\"].value_counts().to_dict()\n",
    "rating_distribution = dict(sorted(rating_distribution.items()))\n",
    "sns.barplot(x=list(rating_distribution.keys()), y=list(rating_distribution.values()), hue=list(rating_distribution.keys()), palette=\"viridis\", legend=False);"
   ]
  },
  {
   "cell_type": "code",
   "execution_count": null,
   "metadata": {},
   "outputs": [],
   "source": [
    "# Creates a new column with the average rating for each user\n",
    "ratings[\"std_rating\"] = ratings.groupby(\"user_id\")[\"rating\"].transform(lambda x: (x - x.mean()) / x.std())"
   ]
  },
  {
   "cell_type": "code",
   "execution_count": 10,
   "metadata": {},
   "outputs": [
    {
     "data": {
      "text/html": [
       "<div>\n",
       "<style scoped>\n",
       "    .dataframe tbody tr th:only-of-type {\n",
       "        vertical-align: middle;\n",
       "    }\n",
       "\n",
       "    .dataframe tbody tr th {\n",
       "        vertical-align: top;\n",
       "    }\n",
       "\n",
       "    .dataframe thead th {\n",
       "        text-align: right;\n",
       "    }\n",
       "</style>\n",
       "<table border=\"1\" class=\"dataframe\">\n",
       "  <thead>\n",
       "    <tr style=\"text-align: right;\">\n",
       "      <th></th>\n",
       "      <th>user_id</th>\n",
       "      <th>movie_id</th>\n",
       "      <th>rating</th>\n",
       "      <th>std_rating</th>\n",
       "    </tr>\n",
       "  </thead>\n",
       "  <tbody>\n",
       "    <tr>\n",
       "      <th>304</th>\n",
       "      <td>7</td>\n",
       "      <td>1</td>\n",
       "      <td>4.0</td>\n",
       "      <td>0.907027</td>\n",
       "    </tr>\n",
       "    <tr>\n",
       "      <th>305</th>\n",
       "      <td>7</td>\n",
       "      <td>3</td>\n",
       "      <td>3.0</td>\n",
       "      <td>-0.465995</td>\n",
       "    </tr>\n",
       "  </tbody>\n",
       "</table>\n",
       "</div>"
      ],
      "text/plain": [
       "     user_id  movie_id  rating  std_rating\n",
       "304        7         1     4.0    0.907027\n",
       "305        7         3     3.0   -0.465995"
      ]
     },
     "execution_count": 10,
     "metadata": {},
     "output_type": "execute_result"
    }
   ],
   "source": [
    "ratings.head(2)"
   ]
  },
  {
   "cell_type": "markdown",
   "metadata": {},
   "source": [
    "## Matrix creation"
   ]
  },
  {
   "cell_type": "code",
   "execution_count": 12,
   "metadata": {},
   "outputs": [],
   "source": [
    "# Create sparse matrix\n",
    "users = ratings[\"user_id\"].values\n",
    "movies = ratings[\"movie_id\"].values\n",
    "ratings = ratings[\"rating\"].values\n",
    "\n",
    "# Create mappings for row/column indices\n",
    "user_mapper = {user: i for i, user in enumerate(np.unique(users))}\n",
    "movie_mapper = {movie: i for i, movie in enumerate(np.unique(movies))}\n",
    "\n",
    "# Map to matrix indices\n",
    "user_indices = np.array([user_mapper[user] for user in users])\n",
    "movie_indices = np.array([movie_mapper[movie] for movie in movies])\n",
    "\n",
    "# Create the sparse matrix\n",
    "user_movie_matrix = csr_matrix((ratings, (user_indices, movie_indices)))"
   ]
  },
  {
   "cell_type": "code",
   "execution_count": null,
   "metadata": {},
   "outputs": [
    {
     "data": {
      "text/plain": [
       "(79469, 21297)"
      ]
     },
     "execution_count": 21,
     "metadata": {},
     "output_type": "execute_result"
    }
   ],
   "source": [
    "user_movie_matrix.shape"
   ]
  }
 ],
 "metadata": {
  "kernelspec": {
   "display_name": ".venv",
   "language": "python",
   "name": "python3"
  },
  "language_info": {
   "codemirror_mode": {
    "name": "ipython",
    "version": 3
   },
   "file_extension": ".py",
   "mimetype": "text/x-python",
   "name": "python",
   "nbconvert_exporter": "python",
   "pygments_lexer": "ipython3",
   "version": "3.13.3"
  }
 },
 "nbformat": 4,
 "nbformat_minor": 2
}
