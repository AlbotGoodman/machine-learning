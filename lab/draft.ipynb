{
 "cells": [
  {
   "cell_type": "markdown",
   "metadata": {},
   "source": [
    "# Lab: Machine learning  \n",
    "*Using the cardiovascular disease dataset.*"
   ]
  },
  {
   "cell_type": "markdown",
   "metadata": {},
   "source": [
    "## EDA"
   ]
  },
  {
   "cell_type": "code",
   "execution_count": null,
   "metadata": {},
   "outputs": [],
   "source": [
    "import numpy as np\n",
    "import pandas as pd\n",
    "import matplotlib.pyplot as plt\n",
    "import seaborn as sns\n",
    "from sklearn.model_selection import train_test_split, GridSearchCV\n",
    "from sklearn.preprocessing import StandardScaler, MinMaxScaler"
   ]
  },
  {
   "cell_type": "code",
   "execution_count": null,
   "metadata": {},
   "outputs": [],
   "source": [
    "df = pd.read_csv(\"../data/cardio.csv\", sep=\";\")\n",
    "df = df.drop(columns=[\"id\"])"
   ]
  },
  {
   "cell_type": "code",
   "execution_count": null,
   "metadata": {},
   "outputs": [],
   "source": [
    "sns.countplot(data=df, x=\"cardio\");"
   ]
  },
  {
   "cell_type": "code",
   "execution_count": null,
   "metadata": {},
   "outputs": [],
   "source": [
    "plt.pie(df[\"cholesterol\"].value_counts(), labels=[\"normal\", \"above normal\", \"well above normal\"], autopct=\"%1.1f%%\", startangle=178);"
   ]
  },
  {
   "cell_type": "code",
   "execution_count": null,
   "metadata": {},
   "outputs": [],
   "source": [
    "sns.histplot(data=df, x=\"age\", hue=\"cardio\");"
   ]
  },
  {
   "cell_type": "code",
   "execution_count": null,
   "metadata": {},
   "outputs": [],
   "source": [
    "sns.countplot(data=df, x=\"smoke\", hue=\"cardio\");"
   ]
  },
  {
   "cell_type": "code",
   "execution_count": null,
   "metadata": {},
   "outputs": [],
   "source": [
    "sns.histplot(data=df, x=\"weight\", hue=\"gender\", bins=75);"
   ]
  },
  {
   "cell_type": "code",
   "execution_count": null,
   "metadata": {},
   "outputs": [],
   "source": [
    "sns.histplot(data=df, x=\"height\", hue=\"gender\", bins=60);"
   ]
  },
  {
   "cell_type": "code",
   "execution_count": null,
   "metadata": {},
   "outputs": [],
   "source": [
    "sns.countplot(data=df, x=\"cardio\", hue=\"gender\");"
   ]
  },
  {
   "cell_type": "markdown",
   "metadata": {},
   "source": [
    "## Feature engineering\n",
    "### BMI"
   ]
  },
  {
   "cell_type": "code",
   "execution_count": null,
   "metadata": {},
   "outputs": [],
   "source": [
    "df[\"bmi\"] = df[\"weight\"] / (df[\"height\"] / 100) ** 2\n",
    "df[\"bmi\"] = df[\"bmi\"].round(1)\n",
    "df = df[[\"age\", \"gender\", \"height\", \"weight\", \"bmi\", \"ap_hi\", \"ap_lo\", \"cholesterol\", \"gluc\", \"smoke\", \"alco\", \"active\", \"cardio\"]]\n",
    "df = df[(df[\"bmi\"] > 16) & (df[\"bmi\"] <= 40)]"
   ]
  },
  {
   "cell_type": "markdown",
   "metadata": {},
   "source": [
    "Då labbinstruktionerna hänvisar till Wikipedia används de gränsvärden angivna där. Ursprunglig källa anges vara WHO och hänvisar till att människor med värden under 16 är \"svårt tunna\" medan de med värden över 40 lider av \"fetma klass 3\". "
   ]
  },
  {
   "cell_type": "code",
   "execution_count": null,
   "metadata": {},
   "outputs": [],
   "source": [
    "bmi_labels = [\"underweight\", \"normal\", \"overweight\", \"obese cl1\", \"obese cl2\", \"obese cl3\"]\n",
    "df[\"bmi_cat\"] = pd.cut(df[\"bmi\"], bins=[16, 18.5, 25, 30, 35, 40, float(\"inf\")], labels=bmi_labels)\n",
    "df = df[[\"age\", \"gender\", \"height\", \"weight\", \"bmi\", \"bmi_cat\", \"ap_hi\", \"ap_lo\", \"cholesterol\", \"gluc\", \"smoke\", \"alco\", \"active\", \"cardio\"]]"
   ]
  },
  {
   "cell_type": "markdown",
   "metadata": {},
   "source": [
    "### blodtryck"
   ]
  },
  {
   "cell_type": "code",
   "execution_count": null,
   "metadata": {},
   "outputs": [],
   "source": [
    "df = df[(df[\"ap_hi\"] >= 0) & (df[\"ap_hi\"] <= 250) &\n",
    "        (df[\"ap_lo\"] >= 0) & (df[\"ap_lo\"] <= 200)]\n",
    "df.describe()"
   ]
  },
  {
   "cell_type": "code",
   "execution_count": null,
   "metadata": {},
   "outputs": [],
   "source": [
    "fig, ax = plt.subplots(1, 2)\n",
    "sns.boxplot(data=df, y=\"ap_hi\", ax=ax[0])\n",
    "sns.boxplot(data=df, y=\"ap_lo\", ax=ax[1])\n",
    "plt.show()"
   ]
  },
  {
   "cell_type": "markdown",
   "metadata": {},
   "source": [
    "Eftersom många outliers fortfarande är närvarande i datan används nedan IQR-metoden för att rensa fler outliers. "
   ]
  },
  {
   "cell_type": "code",
   "execution_count": null,
   "metadata": {},
   "outputs": [],
   "source": [
    "def clear_outliers(df):    \n",
    "    q1 = df.quantile(0.25)\n",
    "    q3 = df.quantile(0.75)\n",
    "    iqr = q3 - q1\n",
    "    lower = q1 - 1.5 * iqr\n",
    "    upper = q3 + 1.5 * iqr\n",
    "    df = df[(df >= lower) & (df <= upper)]\n",
    "    return df\n",
    "\n",
    "df[\"ap_hi\"] = clear_outliers(df[\"ap_hi\"])\n",
    "df[\"ap_lo\"] = clear_outliers(df[\"ap_lo\"])\n",
    "df = df.dropna(how=\"any\")"
   ]
  },
  {
   "cell_type": "code",
   "execution_count": null,
   "metadata": {},
   "outputs": [],
   "source": [
    "fig, ax = plt.subplots(1, 2)\n",
    "sns.boxplot(data=df, y=\"ap_hi\", ax=ax[0])\n",
    "sns.boxplot(data=df, y=\"ap_lo\", ax=ax[1])\n",
    "plt.show()"
   ]
  },
  {
   "cell_type": "code",
   "execution_count": null,
   "metadata": {},
   "outputs": [],
   "source": [
    "bp_conditions = [\n",
    "    (df[\"ap_hi\"] <= 90) | (df[\"ap_lo\"] <= 60), # with outlier I need | instead of & otherwise I get unknown values\n",
    "    ((df[\"ap_hi\"] >= 90) & (df[\"ap_hi\"] < 120)) & (df[\"ap_lo\"] < 80),\n",
    "    ((df[\"ap_hi\"] >= 120) & (df[\"ap_hi\"] < 130)) & (df[\"ap_lo\"] < 80),\n",
    "    ((df[\"ap_hi\"] >= 130) & (df[\"ap_hi\"] < 140)) | ((df[\"ap_lo\"] >= 80) & (df[\"ap_lo\"] < 90)),\n",
    "    ((df[\"ap_hi\"] >= 140) & (df[\"ap_hi\"] < 180)) | ((df[\"ap_lo\"] >= 90) & (df[\"ap_lo\"] < 120)),\n",
    "    (df[\"ap_hi\"] >= 180) | (df[\"ap_lo\"] >= 120)\n",
    "]\n",
    "bp_labels = [\n",
    "    \"hypotension\", \n",
    "    \"normal\", \n",
    "    \"elevated\", \n",
    "    \"hypertension st1\", \n",
    "    \"hypertension st2\", \n",
    "    \"hypertension crisis\"\n",
    "]\n",
    "\n",
    "df[\"ap_cat\"] = np.select(bp_conditions, bp_labels, default=\"unknown\")\n",
    "df = df[[\"age\", \"gender\", \"height\", \"weight\", \"bmi\", \"bmi_cat\", \"ap_hi\", \"ap_lo\", \"ap_cat\", \"cholesterol\", \"gluc\", \"smoke\", \"alco\", \"active\", \"cardio\"]]\n",
    "df"
   ]
  },
  {
   "cell_type": "code",
   "execution_count": null,
   "metadata": {},
   "outputs": [],
   "source": [
    "df[\"ap_cat\"].value_counts()"
   ]
  },
  {
   "cell_type": "markdown",
   "metadata": {},
   "source": [
    "Då labbinstruktionerna hänvisar till Healthline används de gränsvärden angivna där. Det framgår även en källhänvisning till brittiska NHS som anger gränsvärden även för lågt blodtryck vilket implementerats här likaså. "
   ]
  },
  {
   "cell_type": "markdown",
   "metadata": {},
   "source": [
    "## Visualiseringar\n",
    "### Andel sjukdomar"
   ]
  },
  {
   "cell_type": "code",
   "execution_count": null,
   "metadata": {},
   "outputs": [],
   "source": [
    "chol_gluc_labels = [\"normal\", \"above normal\", \"well above normal\"]\n",
    "binary_labels = [\"no\", \"yes\"]"
   ]
  },
  {
   "cell_type": "code",
   "execution_count": null,
   "metadata": {},
   "outputs": [],
   "source": [
    "# TODO: barplots instead? \n",
    "\n",
    "fig, ax = plt.subplots(3, 2, figsize=(20, 20))\n",
    "\n",
    "sns.countplot(data=df, x=\"bmi_cat\", order=bmi_labels, hue=\"cardio\", ax=ax[0, 0])\n",
    "ax[0, 0].tick_params(axis=\"x\", rotation=45)\n",
    "ax[0, 0].set_title(\"Body Mass Index\\n\", fontweight=\"bold\")\n",
    "ax[0, 0].set_xlabel(\"\")\n",
    "ax[0, 0].set_ylabel(\"\")\n",
    "\n",
    "sns.countplot(data=df, x=\"ap_cat\", order=bp_labels, hue=\"cardio\", ax=ax[0, 1])\n",
    "ax[0, 1].tick_params(axis=\"x\", rotation=45)\n",
    "ax[0, 1].set_title(\"Blood Pressure\\n\", fontweight=\"bold\")\n",
    "ax[0, 1].set_xlabel(\"\")\n",
    "ax[0, 1].set_ylabel(\"\")\n",
    "\n",
    "sns.countplot(data=df, x=(df[\"age\"] // 365.25).astype(int), hue=\"cardio\", ax=ax[1, 0])\n",
    "ax[1, 0].tick_params(axis=\"x\", rotation=45)\n",
    "ax[1, 0].set_title(\"Age\\n\", fontweight=\"bold\")\n",
    "ax[1, 0].set_xlabel(\"\")\n",
    "ax[1, 0].set_ylabel(\"\")\n",
    "\n",
    "sns.countplot(data=df, x=\"cholesterol\", hue=\"cardio\", ax=ax[1, 1])\n",
    "ax[1, 1].tick_params(axis=\"x\", rotation=45)\n",
    "ax[1, 1].set_xticks([0, 1, 2])\n",
    "ax[1, 1].set_xticklabels(chol_gluc_labels)\n",
    "ax[1, 1].set_title(\"Cholesterol Levels\\n\", fontweight=\"bold\")\n",
    "ax[1, 1].set_xlabel(\"\")\n",
    "ax[1, 1].set_ylabel(\"\")\n",
    "\n",
    "sns.countplot(data=df, x=\"gluc\", hue=\"cardio\", ax=ax[2, 0])\n",
    "ax[2, 0].tick_params(axis=\"x\", rotation=45)\n",
    "ax[2, 0].set_xticks([0, 1, 2])\n",
    "ax[2, 0].set_xticklabels(chol_gluc_labels)\n",
    "ax[2, 0].set_title(\"Glucose Levels\\n\", fontweight=\"bold\")\n",
    "ax[2, 0].set_xlabel(\"\")\n",
    "ax[2, 0].set_ylabel(\"\")\n",
    "\n",
    "sns.countplot(data=df, x=\"active\", hue=\"cardio\", ax=ax[2, 1])\n",
    "ax[2, 1].tick_params(axis=\"x\", rotation=45)\n",
    "ax[2, 1].set_xticks([0, 1])\n",
    "ax[2, 1].set_xticklabels(binary_labels)\n",
    "ax[2, 1].set_title(\"Physically Active\\n\", fontweight=\"bold\")\n",
    "ax[2, 1].set_xlabel(\"\")\n",
    "ax[2, 1].set_ylabel(\"\")\n",
    "\n",
    "# fig.delaxes(ax[2, 1])  # Remove the empty subplot\n",
    "\n",
    "fig.suptitle(\"\\nVisualisation of CVD risk factors\", fontweight=\"bold\", fontsize=20)\n",
    "plt.subplots_adjust(hspace=0.4)\n",
    "plt.show()"
   ]
  },
  {
   "cell_type": "markdown",
   "metadata": {},
   "source": [
    "### Korrelation"
   ]
  },
  {
   "cell_type": "code",
   "execution_count": null,
   "metadata": {},
   "outputs": [],
   "source": [
    "# TODO: change all values to numeric\n",
    "numerical_columns = df.describe().columns.to_list()\n",
    "corr = df[numerical_columns].corr()\n",
    "plt.figure(figsize=(9, 7))\n",
    "sns.heatmap(corr, annot=True, fmt=\".2f\", cmap=\"coolwarm\", center=0, square=True, linewidths=0.5)\n",
    "plt.show()"
   ]
  },
  {
   "cell_type": "markdown",
   "metadata": {},
   "source": [
    "BMI och vikt samt systoliskt och diastoliskt blodtryck kan ignoreras pga deras uppenbara relationer. Detsamma skulle kunna sägas för glukos och kolesterol.  \n",
    "\n",
    "Mer intressanta observationer för detta dataset är att rökning har en viss relation till alkoholkonsumption men även kön.  \n",
    "\n",
    "För syftet med labben är den sista raden den enda viktiga, korrelationer med vår responsvariabel. Då BMI har en högre korrelation än de separata variablerna för höjd och vikt vore det intressant att veta hur vår nuvarande kategoriska variabel för blodtryck påverkas. Andra kolumner av värde är ålder och kolesterol. "
   ]
  },
  {
   "cell_type": "markdown",
   "metadata": {},
   "source": [
    "## Dataset"
   ]
  },
  {
   "cell_type": "code",
   "execution_count": null,
   "metadata": {},
   "outputs": [],
   "source": [
    "df_a = df.copy().drop(columns=[\"height\", \"weight\", \"bmi\", \"ap_hi\", \"ap_lo\"])\n",
    "df_b = df.copy().drop(columns=[\"height\", \"weight\", \"bmi_cat\", \"ap_cat\"])\n",
    "\n",
    "df_a = pd.get_dummies(df_a, columns=[\"gender\", \"bmi_cat\", \"ap_cat\"])\n",
    "df_b = pd.get_dummies(df_b, columns=[\"gender\"])"
   ]
  },
  {
   "cell_type": "markdown",
   "metadata": {},
   "source": [
    "## Modeller"
   ]
  },
  {
   "cell_type": "markdown",
   "metadata": {},
   "source": [
    "Välj fem modeller:  \n",
    "- Logistic Regression  \n",
    "- Support Vector Machines  \n",
    "- Stochastic Gradient Descent  \n",
    "- K-Nearest Neighbour  \n",
    "- Random Forests  "
   ]
  },
  {
   "cell_type": "code",
   "execution_count": null,
   "metadata": {},
   "outputs": [],
   "source": [
    "def splits(df):\n",
    "\n",
    "    X_train, X_temp, y_train, y_temp = train_test_split(\n",
    "        df.drop(\"cardio\", axis=1), \n",
    "        df[\"cardio\"], \n",
    "        test_size=0.3, \n",
    "        random_state=42\n",
    "    )\n",
    "    X_val, X_test, y_val, y_test = train_test_split(\n",
    "        X_temp, \n",
    "        y_temp, \n",
    "        test_size=0.5, \n",
    "        random_state=42\n",
    "    )\n",
    "    return X_train, X_val, X_test, y_train, y_val, y_test\n",
    "\n",
    "\n",
    "X_train_a, X_val_a, X_test_a, y_train_a, y_val_a, y_test_a = splits(df_a)\n",
    "X_train_b, X_val_b, X_test_b, y_train_b, y_val_b, y_test_b = splits(df_b)"
   ]
  },
  {
   "cell_type": "code",
   "execution_count": null,
   "metadata": {},
   "outputs": [],
   "source": [
    "def standardiser(X_train, X_val, X_test):\n",
    "\n",
    "    scaler = StandardScaler()\n",
    "    X_train_std = scaler.fit_transform(X_train)\n",
    "    X_val_std = scaler.transform(X_val)\n",
    "    X_test_std = scaler.transform(X_test)\n",
    "    \n",
    "    return X_train_std, X_val_std, X_test_std\n",
    "\n",
    "\n",
    "def normaliser(X_train, X_val, X_test):\n",
    "    \n",
    "    scaler = MinMaxScaler()\n",
    "    X_train_norm = scaler.fit_transform(X_train)\n",
    "    X_val_norm = scaler.transform(X_val)\n",
    "    X_test_norm = scaler.transform(X_test)\n",
    "    \n",
    "    return X_train_norm, X_val_norm, X_test_norm\n",
    "\n",
    "\n",
    "X_train_a_std, X_val_a_std, X_test_a_std = standardiser(X_train_a, X_val_a, X_test_a)\n",
    "X_train_b_std, X_val_b_std, X_test_b_std = standardiser(X_train_b, X_val_b, X_test_b)\n",
    "X_train_a_norm, X_val_a_norm, X_test_a_norm = normaliser(X_train_a, X_val_a, X_test_a)\n",
    "X_train_b_norm, X_val_b_norm, X_test_b_norm = normaliser(X_train_b, X_val_b, X_test_b)"
   ]
  },
  {
   "cell_type": "code",
   "execution_count": null,
   "metadata": {},
   "outputs": [],
   "source": []
  },
  {
   "cell_type": "markdown",
   "metadata": {},
   "source": [
    "### Martins tips: spara resultat från modeller i CSV-filer så "
   ]
  }
 ],
 "metadata": {
  "kernelspec": {
   "display_name": ".venv",
   "language": "python",
   "name": "python3"
  },
  "language_info": {
   "codemirror_mode": {
    "name": "ipython",
    "version": 3
   },
   "file_extension": ".py",
   "mimetype": "text/x-python",
   "name": "python",
   "nbconvert_exporter": "python",
   "pygments_lexer": "ipython3",
   "version": "3.13.2"
  }
 },
 "nbformat": 4,
 "nbformat_minor": 2
}
